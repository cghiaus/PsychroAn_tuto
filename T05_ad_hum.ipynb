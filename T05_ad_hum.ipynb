{
 "cells": [
  {
   "cell_type": "markdown",
   "metadata": {},
   "source": [
    "# Heating and adiabatic humidification\n",
    "\n",
    "1. All outdoor air\n",
    "\n",
    "    -[CAV Sysmes](https://www.youtube.com/watch?v=6n_qYmbx_1g)\n",
    "    > Modify: operation or building characteristics\n",
    "\n",
    "    -[VAV Sysmes](https://www.youtube.com/watch?v=HBmOyeWtpHg)\n",
    "    > Modify: operation or building characteristics\n",
    "\n",
    "2. Recirculated air\n",
    "\n",
    "    -[CAV Sysmes](https://www.youtube.com/watch?v=6n_qYmbx_1g)\n",
    "    > Modify: operation or building characteristics\n",
    "\n",
    "    -[VAV Sysmes](https://www.youtube.com/watch?v=HBmOyeWtpHg)\n",
    "    > Modify: operation or building characteristics\n",
    "    \n",
    "\n",
    "In **Modify the operation**, the widgets are for:\n",
    "\n",
    "- $\\alpha$ ratio of outdoor air, -\n",
    "\n",
    "- $\\beta$ by-pass factor of the adiabatic humidifier, -\n",
    "\n",
    "- $\\theta_S^{sp}$ supply air set-point, °C\n",
    "\n",
    "- $\\theta_I^{sp}$ indoor air set-point, °C\n",
    "\n",
    "- $\\varphi_I^{sp}$ indoor air relative humidity set-point, -\n",
    "\n",
    "- $\\theta_O$ outdoor air temperature, °C\n",
    "\n",
    "- $\\varphi_O$ outdoor air relative , -\n",
    "\n",
    "In **Modify the characteritics of the building**, the widgets are for:\n",
    "- $\\dot{Q}_{sa}$ auxiliary sensible heat, W\n",
    "\n",
    "- $\\dot{Q}_{la}$ auxiliary latent heat, W\n",
    "\n",
    "- $\\dot{m}_i$ air infiltration mass flow rate, kg/s\n",
    "\n",
    "- $UA$ global condunctivity of the building, W/K"
   ]
  },
  {
   "cell_type": "markdown",
   "metadata": {},
   "source": [
    "[Widgets](https://ipywidgets.readthedocs.io/en/latest/)\n",
    "[Pandas PyData](https://pandas.pydata.org/getting_started.html)\n",
    "[Pandas](https://chrisalbon.com/python/data_wrangling/pandas_selecting_rows_on_conditions/)"
   ]
  },
  {
   "cell_type": "code",
   "execution_count": 1,
   "metadata": {},
   "outputs": [],
   "source": [
    "from ipywidgets import interact, interactive, fixed, interact_manual\n",
    "import ipywidgets as widgets\n",
    "import matplotlib.pyplot as plt\n",
    "\n",
    "# %matplotlib inline  # uncomment for inline figure\n",
    "# uncomment for figure in separate window\n",
    "# %matplotlib qt\n",
    "# plt.show()\n",
    "\n",
    "# plt.rcParams[\"figure.figsize\"] = (30,20)\n",
    "# font = {'weight' : 'bold',\n",
    "#        'size'   : 30}\n",
    "# plt.rc('font', **font)"
   ]
  },
  {
   "cell_type": "markdown",
   "metadata": {},
   "source": [
    "## Recirculated air"
   ]
  },
  {
   "cell_type": "markdown",
   "metadata": {},
   "source": [
    "### Constant air volume (CAV)\n",
    "[CAV Systems](https://www.youtube.com/watch?v=6n_qYmbx_1g)\n",
    "\n",
    "<img src=\"Figures/winter_AdHum_Rec_CAV.png\" alt=\"winter_AllO_VaHum_CAV\" style=\"width: 600px;\"/>\n"
   ]
  },
  {
   "cell_type": "markdown",
   "metadata": {},
   "source": [
    "#### Modify the operation"
   ]
  },
  {
   "cell_type": "code",
   "execution_count": 2,
   "metadata": {},
   "outputs": [],
   "source": [
    "def RecAirCAV_wd(α=1, β=0.1, θS=30, θIsp=18, φIsp=0.5, θO=-1, φO=1):\n",
    "    Qsa=0.\n",
    "    Qla=0.\n",
    "    mi=2.12\n",
    "    UA=935.83\n",
    "    from ad_hum import RecAirCAV\n",
    "    RecAirCAV(α, β, θS, θIsp, φIsp, θO, φO, Qsa, Qla, mi, UA)"
   ]
  },
  {
   "cell_type": "code",
   "execution_count": 3,
   "metadata": {},
   "outputs": [
    {
     "data": {
      "application/vnd.jupyter.widget-view+json": {
       "model_id": "442fbef4f5c6450a9a26cc6d59ee3f60",
       "version_major": 2,
       "version_minor": 0
      },
      "text/plain": [
       "interactive(children=(FloatSlider(value=1.0, description='α', max=1.0), FloatSlider(value=0.1, description='β'…"
      ]
     },
     "metadata": {},
     "output_type": "display_data"
    }
   ],
   "source": [
    "interact(RecAirCAV_wd, α=(0,1,0.1), β=(0,0.99,0.1),\n",
    "         θSsp = (20,50,2),\n",
    "         θIsp = (17,25,1), φIsp = (0,1,0.1),\n",
    "         θO = (-10.,17.,2), φO = (0,1,0.1));"
   ]
  },
  {
   "cell_type": "markdown",
   "metadata": {},
   "source": [
    "#### Modify the characteristics of the building"
   ]
  },
  {
   "cell_type": "code",
   "execution_count": 10,
   "metadata": {},
   "outputs": [],
   "source": [
    "def RecAirCAV_wd(Qsa=0, Qla=0, mi=2.12, UA=935.83):\n",
    "    α = 1\n",
    "    β = 0.1\n",
    "    θSsp = 30\n",
    "    θIsp = 18\n",
    "    φIsp = 0.5\n",
    "    θO = -1\n",
    "    φO = 1\n",
    "    from ad_hum import RecAirCAV\n",
    "    RecAirCAV(α, β, θSsp, θIsp, φIsp, θO, φO, \n",
    "                 Qsa, Qla, mi, UA)"
   ]
  },
  {
   "cell_type": "code",
   "execution_count": 11,
   "metadata": {},
   "outputs": [
    {
     "data": {
      "application/vnd.jupyter.widget-view+json": {
       "model_id": "fef812fa175c45c0b1fa7e1c92533d45",
       "version_major": 2,
       "version_minor": 0
      },
      "text/plain": [
       "interactive(children=(IntSlider(value=0, description='Qsa', max=15000, step=50), IntSlider(value=0, descriptio…"
      ]
     },
     "metadata": {},
     "output_type": "display_data"
    }
   ],
   "source": [
    "interact(RecAirCAV_wd, Qsa=(0, 15000,50), Qla=(0,15000,50),\n",
    "         mi=(0, 5, 0.2), UA=(700, 1000, 10));"
   ]
  },
  {
   "cell_type": "markdown",
   "metadata": {},
   "source": [
    "### Variable air volume (VAV)\n",
    "\n",
    "<img src=\"Figures/winter_AdHum_Rec_VAV.png\" alt=\"winter_AllO_VaHum_CAV\" style=\"width: 600px;\"/>"
   ]
  },
  {
   "cell_type": "markdown",
   "metadata": {},
   "source": [
    "#### Modify the operation"
   ]
  },
  {
   "cell_type": "code",
   "execution_count": 13,
   "metadata": {},
   "outputs": [],
   "source": [
    "def RecAirVAV_wd(α=1, β=0.1, θS=30, θIsp=18, φIsp=0.5, θO=-1, φO=1):\n",
    "    Qsa = 0.\n",
    "    Qla = 0.\n",
    "    mi = 2.12\n",
    "    UA = 935.83\n",
    "    from ad_hum import RecAirVAV\n",
    "    RecAirVAV(α, β, θS, θIsp, φIsp, θO, φO, Qsa, Qla, mi, UA)"
   ]
  },
  {
   "cell_type": "code",
   "execution_count": 14,
   "metadata": {},
   "outputs": [
    {
     "data": {
      "application/vnd.jupyter.widget-view+json": {
       "model_id": "46bd7000c0c141a19bfaf90a9b377e80",
       "version_major": 2,
       "version_minor": 0
      },
      "text/plain": [
       "interactive(children=(FloatSlider(value=1.0, description='α', max=1.0), FloatSlider(value=0.1, description='β'…"
      ]
     },
     "metadata": {},
     "output_type": "display_data"
    }
   ],
   "source": [
    "interact(RecAirVAV_wd, α=(0, 1, 0.1), β=(0, 0.99, 0.1), θSsp=(20, 50, 2),\n",
    "         θIsp=(17, 25, 1), φIsp=(0, 1, 0.1),\n",
    "         θO = (-10., 17., 2), φO = (0, 1, 0.1));"
   ]
  },
  {
   "cell_type": "markdown",
   "metadata": {},
   "source": [
    "#### Modify the characteristics of the building"
   ]
  },
  {
   "cell_type": "code",
   "execution_count": 16,
   "metadata": {},
   "outputs": [],
   "source": [
    "def RecAirVAV_wd(Qsa=0, Qla=0, mi=2.12, UA=935.83):\n",
    "    α = 1\n",
    "    β = 0.1\n",
    "    θSsp = 30\n",
    "    θIsp = 18\n",
    "    φIsp = 0.5\n",
    "    θO = -1\n",
    "    φO = 1\n",
    "    from ad_hum import RecAirVAV\n",
    "    RecAirVAV(α, β, θSsp, θIsp, φIsp, θO, φO, \n",
    "              Qsa, Qla, mi, UA)"
   ]
  },
  {
   "cell_type": "code",
   "execution_count": 17,
   "metadata": {},
   "outputs": [
    {
     "data": {
      "application/vnd.jupyter.widget-view+json": {
       "model_id": "16f9f15fd7544299bfa0bc4862fd89e7",
       "version_major": 2,
       "version_minor": 0
      },
      "text/plain": [
       "interactive(children=(IntSlider(value=0, description='Qsa', max=15000, step=50), IntSlider(value=0, descriptio…"
      ]
     },
     "metadata": {},
     "output_type": "display_data"
    }
   ],
   "source": [
    "interact(RecAirVAV_wd, Qsa=(0, 15000, 50), Qla=(0, 15000, 50),\n",
    "         mi=(0, 5, 0.2), UA = (700, 1000, 10));"
   ]
  },
  {
   "cell_type": "code",
   "execution_count": null,
   "metadata": {},
   "outputs": [],
   "source": []
  }
 ],
 "metadata": {
  "kernelspec": {
   "display_name": "Python 3 (ipykernel)",
   "language": "python",
   "name": "python3"
  },
  "language_info": {
   "codemirror_mode": {
    "name": "ipython",
    "version": 3
   },
   "file_extension": ".py",
   "mimetype": "text/x-python",
   "name": "python",
   "nbconvert_exporter": "python",
   "pygments_lexer": "ipython3",
   "version": "3.9.7"
  },
  "toc-autonumbering": true
 },
 "nbformat": 4,
 "nbformat_minor": 4
}
