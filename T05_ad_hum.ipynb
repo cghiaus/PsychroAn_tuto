{
 "cells": [
  {
   "cell_type": "markdown",
   "metadata": {},
   "source": [
    "# Heating and adiabatic humidification with recirculated air\n",
    "\n",
    "\n",
    "This tutorial deals with heating and adiabatic humidification of Constant Air Volume (CAV) and Variable Air Volume (VAV) HVAC systems. Video explanations for:\n",
    " - [Air Handling Units (AHU)](https://www.youtube.com/watch?v=KCiv8IAUkh8&t=561s);\n",
    " - [Constant Air Volume (CAV) Systems](https://www.youtube.com/watch?v=zf9fKW2Kwwc&t=14s);\n",
    " - [Variable Air Volume (VAV) Systems](https://www.youtube.com/watch?v=vw-bAbjPTd8);\n",
    " - [Humidifier Types and Humidity Basics](https://www.youtube.com/watch?v=XJdYxvRKc1U).\n",
    "\n",
    "----------\n",
    "**Contents**\n",
    "\n",
    "- [CAV Systems](https://www.youtube.com/watch?v=zf9fKW2Kwwc&t=14s) (video explanation)\n",
    "    - Modify operation\n",
    "    - Modify building characteristics\n",
    "- [VAV Systems](https://www.youtube.com/watch?v=vw-bAbjPTd8) (video explanation)\n",
    "    - Modify operation\n",
    "    - Modify building characteristics\n",
    "-------------- "
   ]
  },
  {
   "cell_type": "markdown",
   "metadata": {},
   "source": [
    "[Widgets](https://ipywidgets.readthedocs.io/en/latest/)\n",
    "[Pandas PyData](https://pandas.pydata.org/getting_started.html)\n",
    "[Pandas](https://chrisalbon.com/python/data_wrangling/pandas_selecting_rows_on_conditions/)"
   ]
  },
  {
   "cell_type": "code",
   "execution_count": 1,
   "metadata": {},
   "outputs": [],
   "source": [
    "from ipywidgets import interact, interactive, fixed, interact_manual\n",
    "import ipywidgets as widgets\n",
    "import matplotlib.pyplot as plt\n",
    "\n",
    "# %matplotlib inline  # uncomment for inline figure\n",
    "# uncomment for figure in separate window\n",
    "# %matplotlib qt\n",
    "# plt.show()\n",
    "\n",
    "plt.rcParams[\"figure.figsize\"] = (30,20)\n",
    "font = {'weight' : 'bold',\n",
    "        'size'   : 30}\n",
    "plt.rc('font', **font)"
   ]
  },
  {
   "cell_type": "markdown",
   "metadata": {},
   "source": [
    "## Constant air volume (CAV)\n",
    "\n",
    "[CAV Systems](https://www.youtube.com/watch?v=zf9fKW2Kwwc&t=14s) (video explanation)\n",
    "\n",
    "![winter_AdHum_Rec_CAV](./Figures/winter_AdHum_Rec_CAV.svg)\n",
    "\n",
    "> Figure 1. Heating and adiabatic humidification in an air recirculation CAV system with an AHU serving one thermal zone.\n",
    "\n",
    "> Table 1. Widgets to modify the operation of the HVAC system.\n",
    "\n",
    "|Widget| Symbol         |          | Unit| Meaning                               |\n",
    "|------|----------------|----------|-----|---------------------------------------|\n",
    "|`α`   |$\\alpha$        |      |     |Proportion of outdoor air in the supply air|\n",
    "|`β`   |$\\beta$         |      |     |By-pass factor of the adiabatic humidifier AH  |   \n",
    "|`θS`  |$\\theta_S^{sp}$ |$\\theta_2^{sp}$| °C|Set-point for supply air temperature   |\n",
    "|`θIsp`|$\\theta_I^{sp}$ |$\\theta_3^{sp}$| °C|Set-point for indoor air temperature   |\n",
    "|`φIsp`|$\\varphi_I^{sp}$|$\\varphi_3^{sp}$|  |Set-point for indoor relative humidity |\n",
    "|`θO`  |$\\theta_O$      |$\\theta_0$| °C  |Outdoor air temperature                |\n",
    "|`φO`  |$\\varphi_O$     |$\\varphi_0$|    |Outdoor air relative humidity          |\n",
    "\n",
    "> Table 2. Widgets to modify the characteritics of the building.\n",
    "\n",
    "|Widget| Symbol         | Unit| Meaning                                   |\n",
    "|------|----------------|-----|-------------------------------------------|\n",
    "|`Qsa` |$\\dot{Q}_{s,a}$ | W   |Auxiliary sensible heat of the thermal zone|\n",
    "|`Qla` |$\\dot{Q}_{l,a}$ | W   |Auxiliary latent heat of the thermal zone|\n",
    "|`mi`  |$\\dot{m}_i$     | kg/s|Mass flow rate of air infiltration into the thermal zone|\n",
    "|`UA`  |$U A$           | W/°C|Overall thermal conductance of the thermal zone|"
   ]
  },
  {
   "cell_type": "markdown",
   "metadata": {},
   "source": [
    "### Modify the operation"
   ]
  },
  {
   "cell_type": "code",
   "execution_count": 2,
   "metadata": {},
   "outputs": [],
   "source": [
    "def RecAirCAV_wd(α=1, β=0.1, θS=30, θIsp=18, φIsp=0.5, θO=-1, φO=1):\n",
    "    Qsa=0.\n",
    "    Qla=0.\n",
    "    mi=2.12\n",
    "    UA=935.83\n",
    "    from ad_hum import RecAirCAV\n",
    "    RecAirCAV(α, β, θS, θIsp, φIsp, θO, φO, Qsa, Qla, mi, UA)"
   ]
  },
  {
   "cell_type": "code",
   "execution_count": 3,
   "metadata": {},
   "outputs": [
    {
     "data": {
      "application/vnd.jupyter.widget-view+json": {
       "model_id": "12b81784b0354334bd7b1f1716b5768f",
       "version_major": 2,
       "version_minor": 0
      },
      "text/plain": [
       "interactive(children=(FloatSlider(value=1.0, description='α', max=1.0), FloatSlider(value=0.1, description='β'…"
      ]
     },
     "metadata": {},
     "output_type": "display_data"
    }
   ],
   "source": [
    "interact(RecAirCAV_wd, α=(0,1,0.1), β=(0,0.99,0.1),\n",
    "         θSsp = (20,50,2),\n",
    "         θIsp = (17,25,1), φIsp = (0,1,0.1),\n",
    "         θO = (-10.,17.,2), φO = (0,1,0.1));"
   ]
  },
  {
   "cell_type": "markdown",
   "metadata": {},
   "source": [
    "### Modify the characteristics of the building"
   ]
  },
  {
   "cell_type": "code",
   "execution_count": 4,
   "metadata": {},
   "outputs": [],
   "source": [
    "def RecAirCAV_wd(Qsa=0, Qla=0, mi=2.12, UA=935.83):\n",
    "    α = 1\n",
    "    β = 0.1\n",
    "    θSsp = 30\n",
    "    θIsp = 18\n",
    "    φIsp = 0.5\n",
    "    θO = -1\n",
    "    φO = 1\n",
    "    from ad_hum import RecAirCAV\n",
    "    RecAirCAV(α, β, θSsp, θIsp, φIsp, θO, φO, \n",
    "                 Qsa, Qla, mi, UA)"
   ]
  },
  {
   "cell_type": "code",
   "execution_count": 5,
   "metadata": {},
   "outputs": [
    {
     "data": {
      "application/vnd.jupyter.widget-view+json": {
       "model_id": "67c990300c8b42a196eaab71a52756f0",
       "version_major": 2,
       "version_minor": 0
      },
      "text/plain": [
       "interactive(children=(IntSlider(value=0, description='Qsa', max=15000, step=50), IntSlider(value=0, descriptio…"
      ]
     },
     "metadata": {},
     "output_type": "display_data"
    }
   ],
   "source": [
    "interact(RecAirCAV_wd, Qsa=(0, 15000,50), Qla=(0,15000,50),\n",
    "         mi=(0, 5, 0.2), UA=(700, 1000, 10));"
   ]
  },
  {
   "cell_type": "markdown",
   "metadata": {},
   "source": [
    "## Variable air volume (VAV)\n",
    "\n",
    "![winter_AdHum_Rec_VAV](./Figures/winter_AdHum_Rec_VAV.svg)\n",
    "\n",
    "> Figure 2. Heating and adiabatic humidification in an air recirculation VAV system with an AHU serving one thermal zone.\n",
    "\n",
    "> Table 3. Widgets to modify the operation of the HVAC system.\n",
    "\n",
    "|Widget| Symbol         |          | Unit| Meaning                               |\n",
    "|------|----------------|----------|-----|---------------------------------------|\n",
    "|`α`   |$\\alpha$        |      |     |Proportion of outdoor air in the supply air|\n",
    "|`β`   |$\\beta$         |      |     |By-pass factor of the adiabatic humidifier AH  |   \n",
    "|`θS`  |$\\theta_S^{sp}$ |$\\theta_2^{sp}$| °C|Set-point for supply air temperature   |\n",
    "|`θIsp`|$\\theta_I^{sp}$ |$\\theta_3^{sp}$| °C|Set-point for indoor air temperature   |\n",
    "|`φIsp`|$\\varphi_I^{sp}$|$\\varphi_3^{sp}$|  |Set-point for indoor relative humidity |\n",
    "|`θO`  |$\\theta_O$      |$\\theta_0$| °C  |Outdoor air temperature                |\n",
    "|`φO`  |$\\varphi_O$     |$\\varphi_0$|    |Outdoor air relative humidity          |\n",
    "\n",
    "> Table 4. Widgets to modify the characteritics of the building.\n",
    "\n",
    "|Widget| Symbol         | Unit| Meaning                                   |\n",
    "|------|----------------|-----|-------------------------------------------|\n",
    "|`Qsa` |$\\dot{Q}_{s,a}$ | W   |Auxiliary sensible heat of the thermal zone|\n",
    "|`Qla` |$\\dot{Q}_{l,a}$ | W   |Auxiliary latent heat of the thermal zone|\n",
    "|`mi`  |$\\dot{m}_i$     | kg/s|Mass flow rate of air infiltration into the thermal zone|\n",
    "|`UA`  |$U A$           | W/°C|Overall thermal conductance of the thermal zone|"
   ]
  },
  {
   "cell_type": "markdown",
   "metadata": {},
   "source": [
    "### Modify the operation"
   ]
  },
  {
   "cell_type": "code",
   "execution_count": 6,
   "metadata": {},
   "outputs": [],
   "source": [
    "def RecAirVAV_wd(α=1, β=0.1, θS=30, θIsp=18, φIsp=0.5, θO=-1, φO=1):\n",
    "    Qsa = 0.\n",
    "    Qla = 0.\n",
    "    mi = 2.12\n",
    "    UA = 935.83\n",
    "    from ad_hum import RecAirVAV\n",
    "    RecAirVAV(α, β, θS, θIsp, φIsp, θO, φO, Qsa, Qla, mi, UA)"
   ]
  },
  {
   "cell_type": "code",
   "execution_count": 7,
   "metadata": {},
   "outputs": [
    {
     "data": {
      "application/vnd.jupyter.widget-view+json": {
       "model_id": "0a4d3e07a62c4ef8bc3d596d35c788b5",
       "version_major": 2,
       "version_minor": 0
      },
      "text/plain": [
       "interactive(children=(FloatSlider(value=1.0, description='α', max=1.0), FloatSlider(value=0.1, description='β'…"
      ]
     },
     "metadata": {},
     "output_type": "display_data"
    }
   ],
   "source": [
    "interact(RecAirVAV_wd, α=(0, 1, 0.1), β=(0, 0.99, 0.1), θSsp=(20, 50, 2),\n",
    "         θIsp=(17, 25, 1), φIsp=(0, 1, 0.1),\n",
    "         θO = (-10., 17., 2), φO = (0, 1, 0.1));"
   ]
  },
  {
   "cell_type": "markdown",
   "metadata": {},
   "source": [
    "### Modify the characteristics of the building"
   ]
  },
  {
   "cell_type": "code",
   "execution_count": 8,
   "metadata": {},
   "outputs": [],
   "source": [
    "def RecAirVAV_wd(Qsa=0, Qla=0, mi=2.12, UA=935.83):\n",
    "    α = 1\n",
    "    β = 0.1\n",
    "    θSsp = 30\n",
    "    θIsp = 18\n",
    "    φIsp = 0.5\n",
    "    θO = -1\n",
    "    φO = 1\n",
    "    from ad_hum import RecAirVAV\n",
    "    RecAirVAV(α, β, θSsp, θIsp, φIsp, θO, φO, \n",
    "              Qsa, Qla, mi, UA)"
   ]
  },
  {
   "cell_type": "code",
   "execution_count": 9,
   "metadata": {},
   "outputs": [
    {
     "data": {
      "application/vnd.jupyter.widget-view+json": {
       "model_id": "396c09a941ce4ca8b8ea796018fd1f0e",
       "version_major": 2,
       "version_minor": 0
      },
      "text/plain": [
       "interactive(children=(IntSlider(value=0, description='Qsa', max=15000, step=50), IntSlider(value=0, descriptio…"
      ]
     },
     "metadata": {},
     "output_type": "display_data"
    }
   ],
   "source": [
    "interact(RecAirVAV_wd, Qsa=(0, 15000, 50), Qla=(0, 15000, 50),\n",
    "         mi=(0, 5, 0.2), UA = (700, 1000, 10));"
   ]
  },
  {
   "cell_type": "markdown",
   "metadata": {},
   "source": [
    "# Bibliography\n",
    "\n",
    "*Coding*\n",
    "1. [Jupyter Widgets](https://ipywidgets.readthedocs.io/en/latest/)\n",
    "\n",
    "2. [Pandas: Getting started](https://pandas.pydata.org/getting_started.html)\n",
    "\n",
    "3. Chris Albon, [Data Science & Machine Learning](https://chrisalbon.com/#code_python), chrisalbon.com\n",
    "\n",
    "*HVAC basics*\n",
    "\n",
    "1. TRANE (2013) [Understanding Single-Zone VAV Systems](https://www.trane.com/content/dam/Trane/Commercial/global/products-systems/education-training/engineers-newsletters/airside-design/admapn047en_0413.pdf)\n",
    "\n",
    "2. TRANE (2005) [CO2-Based Demand-Controlled Ventilation](https://www.trane.com/content/dam/Trane/Commercial/global/products-systems/education-training/engineers-newsletters/airside-design/admapn017en_1005.pdf)\n",
    "\n",
    "3. VERTIV (2016) [Freecooling, evaporative and adiabatic cooling technologies in data center](https://www.vertiv.com/495a36/globalassets/products/thermal-management/free-cooling-chillers/freecooling-evaporative-and-adiabatic-cooling-technologies-in-data-center-applications.pdf)\n",
    "\n",
    "3. The Engineering Mindset (2018) [How Air Handling Units work](https://www.youtube.com/watch?v=KCiv8IAUkh8&t=561s), YouTube.com\n",
    "\n",
    "4. The Engineering Mindset (2020) [Constant Air Volume](https://www.youtube.com/watch?v=zf9fKW2Kwwc&t=14s), YouTube.com\n",
    "\n",
    "5. The Engineering Mindset (2020) [VAV Variable Air Volume](https://www.youtube.com/watch?v=vw-bAbjPTd8), YouTube.com\n",
    "\n",
    "6. MEP Academy (2022) [Humidifier Types and Humidity Basics](https://www.youtube.com/watch?v=XJdYxvRKc1U), YouTube.com\n",
    "\n",
    "*Catalogs*\n",
    "\n",
    "1. CANOVATE [Indirect Adiabatic Cooling System](https://canovate.com/wp-content/uploads/2022/05/D1E-indirect-adiabatic-cooling-systems-8356.pdf)\n",
    "\n",
    "2. Gutner [Adiabatic Cooling System](http://3vora113yedy1fl4x5ft9t7u-wpengine.netdna-ssl.com/wp-content/uploads/2017/01/Adiabatic-Brochure.pdf)\n",
    "\n",
    "3. TrilliumSeries [Adiabatic Cooler](https://www.baltimoreaircoil.eu/en/file-access-restriction/uploads:media:document:BAC_TRF_STRF_v03_EN.pdf)\n"
   ]
  },
  {
   "cell_type": "code",
   "execution_count": null,
   "metadata": {},
   "outputs": [],
   "source": []
  }
 ],
 "metadata": {
  "kernelspec": {
   "display_name": "Python 3 (ipykernel)",
   "language": "python",
   "name": "python3"
  },
  "language_info": {
   "codemirror_mode": {
    "name": "ipython",
    "version": 3
   },
   "file_extension": ".py",
   "mimetype": "text/x-python",
   "name": "python",
   "nbconvert_exporter": "python",
   "pygments_lexer": "ipython3",
   "version": "3.9.7"
  },
  "toc-autonumbering": true
 },
 "nbformat": 4,
 "nbformat_minor": 4
}
