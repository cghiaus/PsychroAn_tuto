{
 "cells": [
  {
   "cell_type": "markdown",
   "metadata": {
    "tags": []
   },
   "source": [
    "# Thermal loads: winter\n",
    "\n",
    " The [thermal load](https://en.m.wikipedia.org/wiki/Cooling_load) is the heat flow rate that must to be added to a space by the heating, ventilation and air-conditioning ([HVAC](https://en.m.wikipedia.org/wiki/Heating,_ventilation,_and_air_conditioning))  system in order to maintain the indoor air temperature and humidity at its [setpoints](https://en.m.wikipedia.org/wiki/Setpoint_(control_system)) value.\n",
    "The sensible load is:\n",
    "\n",
    "$$\\dot Q_s = (UA + \\dot m_a c)(\\theta_O - \\theta_I)  + \\dot{Q}_{s,a}$$\n",
    "\n",
    "and the latent load is: \n",
    "\n",
    "$$\\dot Q_l = \\dot m_a l (w_O - w_I) + \\dot{Q}_{l,a}$$\n",
    "\n",
    "where:\n",
    "- $UA = \\sum_{i}f_i U_i S_i+ \\sum_{i} \\psi_i L_i$ - global conductivity of the building (walls, windows, thermal bridges, etc.), W/K;\n",
    "    - $U_i$ is the [overall heat transfer coefficient](https://en.wikipedia.org/wiki/R-value_(insulation)#U-factor.2FU-value) of the wall *i*, W/(m²·K);\n",
    "    - $S_i$ - surface area of the wall *i*, m²; \n",
    "    - $f_i$ - correction for heat loss (Table 1);\n",
    "    - $\\psi_i$ - linear thermal transmittance of thermal bridge *i*, W/(m·K);\n",
    "    - $L_i$ - length of the thermal bridge *i*, m;\n",
    "- $\\dot m_a = \\dot{m}_{inf} + \\dot m_v$ - mass flow rate of outdoor air, kg/s;\n",
    "    - $\\dot{m}_{inf}$ - mass flow rate by [infiltration](https://en.m.wikipedia.org/wiki/Infiltration_(HVAC)), kg/s;\n",
    "    - $\\dot{m_v}$ - mass flow rate by natural [ventilation](https://en.wikipedia.org/wiki/Ventilation_(architecture)), kg/s;\n",
    "- $c$ - [specific heat capacity of the air](https://en.wikipedia.org/wiki/Specific_heat_capacity), J/(kg·K);\n",
    "- $l$ - [specific latent heat](https://en.wikipedia.org/wiki/Latent_heat#Specific_latent_heat), J/kg;\n",
    "- $\\theta_O$ - outdoor temperature, °C;\n",
    "- $\\theta_I$ - indoor temperature, °C;\n",
    "- $w_O$ - water content (humidity ratio) of the outdoor air, kg/kg;\n",
    "- $w_I$ - water content (humidity ratio) of the indoor air, kg/kg;\n",
    "- $\\dot{Q}_{s,a}$ - sensible auxiliar heat gains (from occupants, electrical devices, solar radiation, etc.), W;\n",
    "- $\\dot{Q}_{l,a}$ - latent auxiliar heat gains (from occupants, evaporative processes like cooking, etc.), W.\n",
    "\n",
    "*Note*: $HLC = UA + \\dot m_a c$ is the overall *Heat Loss Coeffcient*, W/K [[Ghiaus, Alzetto (2019)](https://doi.org/10.1080/19401493.2018.1561753)]."
   ]
  },
  {
   "cell_type": "markdown",
   "metadata": {},
   "source": [
    "## House description\n",
    "Let's consider a house having the layout shown below, with a floor area of about 100 m². The house has there floors: cellar, ground floor, and attic. The thermal load is estimated for the ground floor considered as a single thermal zone. The cellar and the attic are boundary conditions for the ground floor ([Strachan & Heusler](https://pure.strath.ac.uk/ws/portalfiles/portal/43362532/Empirical_Modelling_Specification_200514.pdf), 2015).\n",
    "\n",
    "![Whole house](./Figures/load_winter_01.png)\n",
    ">Figure 1. Overall dimensions of the house ([Strachan & Heusler](https://pure.strath.ac.uk/ws/portalfiles/portal/43362532/Empirical_Modelling_Specification_200514.pdf), 2015).\n",
    "\n",
    "![Dimensions](./Figures/load_winter_02.svg)\n",
    ">Figure 2. Plan of the ground floor (adapted after [Strachan & Heusler](https://pure.strath.ac.uk/ws/portalfiles/portal/43362532/Empirical_Modelling_Specification_200514.pdf), 2015). "
   ]
  },
  {
   "cell_type": "markdown",
   "metadata": {
    "tags": []
   },
   "source": [
    "## Data\n",
    "\n",
    "**Characteristics of the building components**\n",
    "\n",
    "|Layer           |width|conductivity|density|specific heat|\n",
    "|----------------|-----|-----------:|------:|------------:|\n",
    "|                |$w~$ |$\\lambda$   | $\\rho$|$c$          |\n",
    "|                |m    |W/(m·K)     |kg/m³  |J/(kg·K)     |\n",
    "|$\\textbf{External wall}$|\n",
    "|Exterior plaster| 0.01| 0.8        | 1200  |1000|\n",
    "|Insulation      | 0.12| 0.035      | 80    |840|\n",
    "|Plaster         | 0.03| 1.00       | 1200  |1000|\n",
    "|Honeycomb brick | 0.30| 0.22       | 800   |1000|\n",
    "|Internal plaster| 0.01| 1.0        | 1200  |1000|\n",
    "|$\\textbf{Internal wall}$|\n",
    "|Internal plaster| 0.01| 0.35       | 1200  |1000|\n",
    "|Honeycomb brick | 0.24| 0.33       | 1000  |1000|\n",
    "|Internal plaster| 0.01| 0.35       | 1200  |1000|\n",
    "|$\\textbf{Ceiling}$|\n",
    "|Screed          | 0.04| 1.4        | 2000  |1000|\n",
    "|Insulation      | 0.04| 0.04       | 80    |840|\n",
    "|Concrete        | 0.22| 2.0        | 2400  |1000|\n",
    "|Plaster         | 0.01| 1.0        | 1200  |1000|\n",
    "|Insulation      | 0.10| 0.035      | 80    |840|\n",
    "|$\\textbf{Floor}$|\n",
    "|Concrete        | 0.22| 2.1        | 2400  |1000|\n",
    "|Leveling fill   | 0.029| 0.060     | 80    |840|\n",
    "|Insulation      | 0.030| 0.025     | 80    |840|\n",
    "|Composite panel | 0.033| 0.023     | 80    |840|\n",
    "|Screed          | 0.065| 1.4       | 2000  |1000|\n",
    "|$\\textbf{Exterior door}$|\n",
    "|Wood            | 0.04| 0.131      | 600   |1000|\n",
    "\n",
    "**Thermal bridges**\n",
    "\n",
    "|Junction type        | Linear transmittance|\n",
    "|---------------------|--------------------|\n",
    "|                     |𝜓                   |\n",
    "|                     |W/m K               |\n",
    "|External wall - floor|0.107|\n",
    "|External wall - ceiling|0.084|\n",
    "|External wall - external wall|0.091|\n",
    "\n",
    "**Window**\n",
    "\n",
    "- $U_w=1.2~\\mathrm{W/m^2K}$\n",
    "\n",
    "**Convection coefficients**\n",
    "\n",
    "- $h_i=8~\\mathrm{W/m^2K}$ indoor \n",
    "- $h_o=25~\\mathrm{W/m^2K}$ outdoor \n",
    "\n",
    "\n",
    "**Temperatures and humidity** ([Norme NF EN 12831](https://www.thermexcel.com/french/ressourc/calcul_deperdition_calculs_deperditions.htm))\n",
    "\n",
    "- $\\theta_i = 20~\\mathrm{°C},~\\varphi_i=60~\\%$  indoor\n",
    "- $\\theta_o = -10~\\mathrm{°C},~\\varphi_i=100~\\%$, outdoor (for Lyon) [Norme NF EN 12831](https://www.thermexcel.com/french/energie/Calcul_deperditions_thermiques_NF_EN_12831.htm)\n",
    "- $\\theta_a = \\theta_i - \\tau(\\theta_i - \\theta_o), \\tau = 0.8$, attic temperature\n",
    "- $\\theta_c = \\theta_i - \\tau(\\theta_i - \\theta_o), \\tau = 0.8$, cellar temperature (adjacent non-heated spaces) \n",
    "- humidity ratio of the air in the attic and in the cellar are equal to the outdoor value.\n",
    "\n",
    "**Occupants** ([EnergiePlus](https://energieplus-lesite.be/theories/bilan-thermique44/charges-thermiques-internes-pour-les-bureaux/#Lapport_des_occupants))\n",
    "\n",
    "- $n_p=5$, number of persons\n",
    "- $q_{s,p}=83~\\mathrm{W}$, sensible heat per person\n",
    "- $q_{l,p}=49~\\mathrm{W}$, latent heat per person\n",
    "- $\\dot{m}_{v,p}=71~\\mathrm{g/h}$, vapor mass flow per person\n",
    "\n",
    "\n",
    "**Lighting and electrical equipments** ([EnergiePlus](https://energieplus-lesite.be/theories/bilan-thermique44/charges-thermiques-internes-pour-les-bureaux/#Lapport_des_equipements))\n",
    "\n",
    "- $p_{e}=20~\\mathrm{W/m^2}$\n",
    "\n",
    "\n",
    "**Air leackage for the whole ground floor**\n",
    "\n",
    "- $n_{50}=2.49$ air changes per hour at 50 Pa\n",
    "- $ACH=n_{50}/n=1.62/12$ air changes per hour at 4 Pa [[A. Meier (1986)](https://www.aivc.org/sites/default/files/airbase_3097.pdf), [ASHRAE 2017 p.16.23-26](https://archive.org/details/ashraehandbook2017hvacfundamentalssi/mode/1up), [Yongming Ji et al. (2022)](https://doi.org/10.1016/j.enbenv.2022.02.010)]\n",
    "\n",
    "**Supply air temperature**\n",
    "\n",
    "- $t_S = t_I+15~\\mathrm{°C}$ for heating\n",
    "- $t_S = t_I-10~\\mathrm{°C}$ for cooling\n",
    "\n",
    "**Notes:**\n",
    "\n",
    "1) For the [thermal bridges wall-floor and wall-ceiling](https://www.ecohome.net/media/articles/images/c8/86/c88668779794bc0e41c74a8c68d3cea86aa658e8/thumbs/QdE-LAzl1-iE_1200x500_ZBprRkQU.jpg), consider that half of the flow through the thermal bridge is coming from the ground floor and half from the celler and the attic, respectively.\n",
    "\n",
    "2) The [surfaces](http://construction.senova.fr/conseils-techniques/shob-et-shon-cest-fini-tout-sur-la-nouvelle-surface-de-plancher/) considered in thermal calculations are the indoor ones. \n",
    "\n",
    "3) The [air leackeage mesured at 50 Pa needs to be corrected](https://unmethours.com/question/26477/how-to-set-air-infiltration-under-50-pa-pressure/) for lower pressure (about 4 Pa), which is normal when the wind is not very strong."
   ]
  },
  {
   "cell_type": "markdown",
   "metadata": {},
   "source": [
    "##  Calculate\n",
    "\n",
    "**1. Sensible heat transfer through the envelope**\n",
    "\n",
    "*1.1. Global conductivities of the surfacic elements:*\n",
    "\n",
    "- external walls, $U_e~\\mathrm{[W/m^2K}]$;\n",
    "- internal walls, $U_i~\\mathrm{[W/m^2K}]$;\n",
    "- floor, $U_f~\\mathrm{[W/m^2K}]$;\n",
    "- ceiling, $U_c~\\mathrm{[W/m^2K}]$;\n",
    "- exterior door, $U_d~\\mathrm{[W/m^2K}]$;\n",
    "\n",
    "*1.2 Surfaces to be used for heat transfert through the building envelope:*\n",
    "\n",
    "- windows, $S_{w}~\\mathrm{[m^2]}$;\n",
    "- exterior door, $S_{d}~\\mathrm{[m^2]}$;\n",
    "- exterior walls, $S_{e}~\\mathrm{[m^2]}$;\n",
    "- floor, $S_{f}~\\mathrm{[m^2]}$;\n",
    "- ceiling, $S_{c}~\\mathrm{[m^2]}$.\n",
    "\n",
    "**2. Infiltration air**\n",
    "- mass flow rate of infiltration air, $\\dot{m}_{inf}~\\mathrm{[kg/s]}$;\n",
    "\n",
    "**3. Sensible and latent auxiliary loads of the thermal zone**\n",
    "- sensible load of the thermal zone, ${\\dot{Q}_{s, aux}}~\\mathrm{[W]}$;\n",
    "- latent load, ${\\dot{Q}_{l, aux}}~\\mathrm{[W]}$.\n",
    "\n",
    "\n"
   ]
  },
  {
   "cell_type": "markdown",
   "metadata": {},
   "source": [
    "## Overall heat transfer coefficient"
   ]
  },
  {
   "cell_type": "markdown",
   "metadata": {},
   "source": [
    "### Global conductivities of building elements\n",
    "([Norme NF EN ->12831](https://www.thermexcel.com/french/ressourc/calcul_deperdition_calculs_deperditions.htm))\n",
    "\n",
    "- external walls, $U_e~\\mathrm{[W/m^2K}]$;\n",
    "- internal walls, $U_i~\\mathrm{[W/m^2K}]$;\n",
    "- floor, $U_f~\\mathrm{[W/m^2K}]$;\n",
    "- ceiling, $U_c~\\mathrm{[W/m^2K}]$;\n",
    "- exterior door, $U_d~\\mathrm{[W/m^2K}]$;\n",
    "\n",
    "The overall conductivity of a plane wall is:\n",
    "$$U = \\frac{1}{\\frac{1}{h_i} + \\sum \\frac{w}{\\lambda} + \\frac{1}{h_o}}$$\n",
    "where:\n",
    "- $h_i$ - indoor convection coefficient, W/m² K\n",
    "- $h_o$ - outdoor convection coefficient, W/m² K\n",
    "- $\\lambda$ - thermal conductivity, W/m K\n",
    "- $w$ - width, m."
   ]
  },
  {
   "cell_type": "code",
   "execution_count": 1,
   "metadata": {
    "scrolled": true
   },
   "outputs": [
    {
     "name": "stdout",
     "output_type": "stream",
     "text": [
      "External wall: Ue =   0.220 W/(m²·K), external walls\n"
     ]
    }
   ],
   "source": [
    "import numpy as np\n",
    "\n",
    "# Constants\n",
    "R = 8314    # J/(kmol·K), gas constant\n",
    "\n",
    "# Molar mass dry air, vapor\n",
    "M_da, M_v = 28.9645, 18     # kg/kmol, molar mass dry air; water vapor\n",
    "\n",
    "c_da, c_v  = 1e3, 1.96e3    # J/(kg·K), specific heat\n",
    "l_v = 2495.0e3              # J/kg, specific latent heat\n",
    "\n",
    "hi, ho = 8, 25                                      # W/(m²·K), convection coeff\n",
    "# External wall\n",
    "# plaster, insulation, plaster, brick, plaster\n",
    "w = np.array([0.01,   0.12,  0.03, 0.20, 0.01])     # m, width\n",
    "λ = np.array([0.80, 0.035, 1.00, 0.22,  1])         # W/(m·K), conductivity\n",
    "ρ = np.array([1200, 80,    1200, 800,  1200])       # kg/m³, density\n",
    "c = np.array([1000,   840,   1000, 1000, 1000])     # J/(kg·K), specific heat\n",
    "\n",
    "Ue = 1/(1/hi + np.sum(w/λ) + 1/ho)\n",
    "print('External wall: Ue =  % 5.3f W/(m²·K), external walls' % Ue)"
   ]
  },
  {
   "cell_type": "code",
   "execution_count": 2,
   "metadata": {},
   "outputs": [
    {
     "name": "stdout",
     "output_type": "stream",
     "text": [
      "Internal wall: Ui =   0.967 W/(m²·K), internal walls\n"
     ]
    }
   ],
   "source": [
    "# Internal wall\n",
    "# plaster, brick, plaster\n",
    "w = np.array([0.01,   0.24,    0.01])               # m, width\n",
    "λ = np.array([0.35,   0.33,    0.35])               # W/(m·K), conductivity\n",
    "ρ = np.array([1200,   1000,    1200])               # kg/m³, density\n",
    "c = np.array([1000,  1000,    1000])                # J/(kg·K), specific heat\n",
    "\n",
    "Ui = 1/(1/hi + np.sum(w/λ) + 1/hi)\n",
    "print('Internal wall: Ui =  % 5.3f W/(m²·K), internal walls' % Ui)"
   ]
  },
  {
   "cell_type": "code",
   "execution_count": 3,
   "metadata": {},
   "outputs": [
    {
     "name": "stdout",
     "output_type": "stream",
     "text": [
      "Ceiling: Uc =   0.235 W/(m²·K), celing\n"
     ]
    }
   ],
   "source": [
    "# Ceiling\n",
    "# screed, insulation, concrete, plaster, insulation\n",
    "w = np.array([0.04,  0.04, 0.22,  0.01, 0.10])      # m, width\n",
    "λ = np.array([1.40, 0.04, 2.00,  1.00, 0.035])      # W/(m·K), conductivity\n",
    "ρ = np.array([2000, 80,   2400,  1200, 80])         # kg/m³, density\n",
    "c = np.array([2000, 840,  1000,  1000, 840])        # J/(kg·K), specific heat\n",
    "\n",
    "Uc = 1/(1/hi + np.sum(w/λ) + 1/hi)\n",
    "print('Ceiling: Uc =  % 5.3f W/(m²·K), celing' % Uc)"
   ]
  },
  {
   "cell_type": "code",
   "execution_count": 4,
   "metadata": {},
   "outputs": [
    {
     "name": "stdout",
     "output_type": "stream",
     "text": [
      "Floor: Uf =   0.294 W/(m²·K), floor\n"
     ]
    }
   ],
   "source": [
    "# Floor\n",
    "# concrete, fill, insulation, panel, screed\n",
    "w = np.array([0.22,   0.03,  0.03,  0.03,  0.065])  # m, width\n",
    "λ = np.array([2.1,  0.06,  0.025, 0.023, 1.4])      # W/(m·K), conductivity\n",
    "ρ = np.array([2400, 80,    80,    80,    2000])     # kg/m³, density\n",
    "c = np.array([1000,   840,   840,   840,   1000])   # J/(kg·K), specific heat\n",
    "\n",
    "Uf = 1/(1/hi + np.sum(w/λ) + 1/hi)\n",
    "print('Floor: Uf =  % 5.3f W/(m²·K), floor' % Uf)"
   ]
  },
  {
   "cell_type": "code",
   "execution_count": 5,
   "metadata": {},
   "outputs": [
    {
     "name": "stdout",
     "output_type": "stream",
     "text": [
      "External door: Ud =   1.793 W/(m²·K), door\n"
     ]
    }
   ],
   "source": [
    "# Exterior door\n",
    "w = 0.04    # m, width\n",
    "λ = 0.13    # W/(m·K), conductivity\n",
    "ρ = 600     # kg/m³, density\n",
    "c = 1000    # J/(kg·K), specific heat\n",
    "\n",
    "Ud = 1/(1/hi + w/λ + 1/hi)\n",
    "print('External door: Ud =  % 5.3f W/(m²·K), door' % Ud)"
   ]
  },
  {
   "cell_type": "markdown",
   "metadata": {},
   "source": [
    "### Surfaces\n",
    "\n",
    "Using the [definition of surfaces](http://construction.senova.fr/conseils-techniques/shob-et-shon-cest-fini-tout-sur-la-nouvelle-surface-de-plancher/), calculate the surfaces of: \n",
    "- window, $S_{w}~\\mathrm{[m^2]}$, \n",
    "- exterior door, $S_{d}~\\mathrm{[m^2]}$,\n",
    "- exterior walls surface, $S_{e}~\\mathrm{[m^2]}$\n",
    "- floor, $S_{f}~\\mathrm{[m^2]}$\n",
    "- ceiling, $S_{c}~\\mathrm{[m^2]}$, \n",
    "\n",
    "to be used for heat transfert through the building envelope."
   ]
  },
  {
   "cell_type": "code",
   "execution_count": 6,
   "metadata": {},
   "outputs": [
    {
     "name": "stdout",
     "output_type": "stream",
     "text": [
      "Sw = 21.26 m², window \n"
     ]
    }
   ],
   "source": [
    "# Windows\n",
    "Sw = 5 * 1.24 * 1.46                        # m², surface area of 5 normal windows\n",
    "Sw = Sw + 1.02 * 2.18 + 4.48 * 2.228        # m², surface area of 1 bay window\n",
    "print('Sw = %5.2f m², window ' % Sw)"
   ]
  },
  {
   "cell_type": "code",
   "execution_count": 7,
   "metadata": {},
   "outputs": [
    {
     "name": "stdout",
     "output_type": "stream",
     "text": [
      "Sd =  2.00 m², exterior door \n"
     ]
    }
   ],
   "source": [
    "# Exterior door\n",
    "Sd = 1.00*2.00                              # m², surface area of exterior door\n",
    "print('Sd = %5.2f m², exterior door ' % Sd)"
   ]
  },
  {
   "cell_type": "code",
   "execution_count": 8,
   "metadata": {},
   "outputs": [
    {
     "name": "stdout",
     "output_type": "stream",
     "text": [
      "Se = 70.06 m², exterior wall\n"
     ]
    }
   ],
   "source": [
    "# Exterior wall\n",
    "Se = 4*2.495*(10.05 - 2*0.35) - Sw - Sd     # m², surface area indoor surface\n",
    "print('Se = %5.2f m², exterior wall' % Se)"
   ]
  },
  {
   "cell_type": "code",
   "execution_count": 9,
   "metadata": {
    "scrolled": true
   },
   "outputs": [
    {
     "name": "stdout",
     "output_type": "stream",
     "text": [
      "Sf = 87.42 m², floor \n",
      "Sc = 87.42 m², ceiling\n"
     ]
    }
   ],
   "source": [
    "Sf = (10.05 - 2*0.35)*(10.05 - 2*0.35)      # m², indoor surface\n",
    "Sc = Sf\n",
    "print('Sf = %5.2f m², floor ' % Sf)\n",
    "print('Sc = %5.2f m², ceiling' % Sc)"
   ]
  },
  {
   "cell_type": "markdown",
   "metadata": {
    "tags": []
   },
   "source": [
    "# Building characteristics\n",
    "\n",
    "In a simplified approach, the heat transmission coefficient $UA$ is the sum of conductances [Recknagel (2007), p. 888]:\n",
    "\n",
    "$$UA = \\sum_{i}f_i U_i S_i+ \\sum_{i} \\psi_i L_i$$\n",
    "\n",
    "> Table 1. Correction for heat loss in the simplified method [Recknagel (2007), Table 2.4.1-5, p. 889]\n",
    "\n",
    "| Heat loss ... |$f_i$ |\n",
    "|---------------|------|\n",
    "|... direct to outside | 1.00 if thermal bridges are considered     |\n",
    "|                      | 1.40 if thermal bridges are not considered |\n",
    "|... toward an unheated room | 0.80 if thermal bridges are considered |\n",
    "|                            | 1.12 if thermal bridges are not considered|\n",
    "|... towards the ground or an adjoining part of the building | 0.30 if thermal bridges are considered |\n",
    "|                             | 0.42 if thermal bridges are not considered|\n",
    "|... through the roof or a low floor over a crawl space | 0.90 if thermal bridges are considered |\n",
    "|                              | 1.26 if thermal bridges are not considered |\n",
    "|... toward an adjoining building | 0.50 if thermal bridges are considered |\n",
    "|                              | 0.70 if thermal bridges are not considered | "
   ]
  },
  {
   "cell_type": "code",
   "execution_count": 10,
   "metadata": {},
   "outputs": [
    {
     "name": "stdout",
     "output_type": "stream",
     "text": [
      "UA = U·S +  ψ·L =  85.9 W/K, overall heat transfer coefficient\n"
     ]
    }
   ],
   "source": [
    "# Overall heat coeffcient\n",
    "Uw = 1.2                # W/(m²·K), U-window\n",
    "ψWF = 0.107             # W/(m·K), ψ wall-floor\n",
    "ψWC = 0.084             # W/(m·K), ψ wall-ceiling\n",
    "ψWW = 0.091             # W/(m·K), ψ wall-wall\n",
    "f = 0.8                 # correction factor for unheated room\n",
    "UA = (Ue*Se +           # exterior wall\n",
    "      Uw*Sw +           # windows\n",
    "      Ud*Sd +           # exterior door\n",
    "      f*Uc*Sc +         # ceiling towards attic\n",
    "      f*Uf*Sf +         # floor towards cellar (basement)\n",
    "      ψWF*4*(10.05 - 2*0.35)/2 +       # hor. therm bridge wall-floor\n",
    "      ψWC*4*(10.05 - 2*0.35)/2 +       # hor. therm bridge wall-ceiling\n",
    "      ψWW*4*2.495)                     # vert. therm bridge wall-wall\n",
    "print(f'UA = U·S +  ψ·L = {UA:5.1f} W/K, overall heat transfer coefficient')"
   ]
  },
  {
   "cell_type": "markdown",
   "metadata": {},
   "source": [
    "The air flow rate is estimated differently for natural and for mechanical ventilation. For natural ventiation, the total air fow rate is the sum of the minimal air flow rate and the infiltration rate; for mechanical ventilation, the supply air flow rate is added.\n",
    "\n",
    "> Table 2. Minimum air changes per hour (ACH) [Recknagel (2007) Table 2.4.1-4 p. 884 and Table 3.5.1-1 p. 1358]\n",
    "\n",
    "| Type of room                 | ACH [h⁻¹] |\n",
    "|------------------------------|:---------:|\n",
    "| Living space, kitchen > 20 m³| 0.5 |\n",
    "| Office, kitchen < 20 m³      | 1.0 |\n",
    "| WC or bathroom with window   | 1.5 |\n",
    "| Meeting room, classroom      | 2 .. 6|\n",
    "| Toillets - houses            | 4 .. 5|\n",
    "| Toillets - offices           | 5 .. 8|\n",
    "| Library                      | 3 .. 5|\n",
    "| Bars and coffe shops         | 5 .. 10|\n",
    "| Auditoriums                  | 8 .. 10|\n",
    "| Cafeteria                    | 6 .. 8|\n",
    "| Shops                        | 4 .. 6|\n",
    "| Cinemas and theaters         | 4 .. 6|\n",
    "| Swimings pools               | 3 .. 4|\n",
    "\n",
    "The air flow rate of the mechanical ventilation system is $\\dot V_m = 120 \\mathrm{m^3/h}$ [[Strachan P., Heusler I. (2015)](https://pure.strath.ac.uk/ws/portalfiles/portal/43362532/Empirical_Modelling_Specification_200514.pdf), §3.8 Ventilation]."
   ]
  },
  {
   "cell_type": "code",
   "execution_count": 11,
   "metadata": {
    "tags": []
   },
   "outputs": [
    {
     "name": "stdout",
     "output_type": "stream",
     "text": [
      "mv =  0.044444 kg/s, ventilation air flow rate\n"
     ]
    }
   ],
   "source": [
    "h = 2.495               # m, zone height\n",
    "Vz = h * Sf             # m³, zone volume\n",
    "vo = 0.75               # m³/kg, specific volume\n",
    "Vm = 120                # m³/h, mechanical ventilation\n",
    "mv = Vm / vo / 3600\n",
    "print(f'mv =  {mv:.6f} kg/s, ventilation air flow rate')"
   ]
  },
  {
   "cell_type": "markdown",
   "metadata": {},
   "source": [
    "Air ventilation rate by mechanical ventilation is:\n",
    "$$ACH = \\frac{\\dot V_m}{V_z}$$\n",
    "where:\n",
    "- $\\dot V_m$ - air flow rate by ventilation, m³/h;\n",
    "- $V_z$ - volume of the zone, m³."
   ]
  },
  {
   "cell_type": "code",
   "execution_count": 12,
   "metadata": {},
   "outputs": [
    {
     "name": "stdout",
     "output_type": "stream",
     "text": [
      "Ventilation rate ACH = 0.55 h⁻¹\n"
     ]
    }
   ],
   "source": [
    "print(f\"Ventilation rate ACH = {Vm / Vz:.2} h⁻¹\")"
   ]
  },
  {
   "cell_type": "markdown",
   "metadata": {},
   "source": [
    "Infiltration flow rate depends on the volume of the space and the air leackage $n_{50}$.\n",
    "\n",
    "$$ACH = \\frac{n_{50}}{n}$$ \n",
    "\n",
    "where $n$ is a correction factor in order to  consider the air changes per hour at a normal pressure difference (at 4 Pa) [[A. Meier (1986)](https://www.aivc.org/sites/default/files/airbase_3097.pdf), [ASHRAE 2017 p.16.23-26](https://archive.org/details/ashraehandbook2017hvacfundamentalssi/mode/1up), [Yongming Ji et al. (2022)](https://doi.org/10.1016/j.enbenv.2022.02.010)]\n",
    "\n",
    "The value $n_{50}=2.49$ air changes per hour at 50 Pa was measured experimentally by using a [blower door](https://en.m.wikipedia.org/wiki/Blower_door) [[Strachan P., Heusler I. (2015)](https://pure.strath.ac.uk/ws/portalfiles/portal/43362532/Empirical_Modelling_Specification_200514.pdf), §3.10 Air leakge]."
   ]
  },
  {
   "cell_type": "code",
   "execution_count": 13,
   "metadata": {},
   "outputs": [
    {
     "name": "stdout",
     "output_type": "stream",
     "text": [
      "mi =  0.016763 kg/s, air infiltration\n"
     ]
    }
   ],
   "source": [
    "# Infiltration mass flow rate\n",
    "n50 = 2.49              # h⁻¹, infiltration rate at 50 Pa\n",
    "n = 12                  # correction for exposed, 1.5 stories\n",
    "ACH = n50 / n           # infiltration rate corrected for normal wind pressure\n",
    "minf = ACH * Vz / vo / 3600     # kg/s, outdoor dry air mass flow rate\n",
    "print(f'mi =  {minf:.6f} kg/s, air infiltration')"
   ]
  },
  {
   "cell_type": "markdown",
   "metadata": {},
   "source": [
    "The auxiliary sensible heat is from occupants and electrical devices:\n",
    "$$\\dot Q_{sa} = p_e S_f + n_p q_p$$\n",
    "where:\n",
    "- $p_e$ is the electrical power per unit of surface ([EnergiePlus](https://energieplus-lesite.be/theories/bilan-thermique44/charges-thermiques-internes-pour-les-bureaux/#Lapport_des_equipements)), W/m²;\n",
    "- $S_f$ - floor area, m²\n",
    "- $n_p$ - number of persons;\n",
    "- $q_p$ - sensible heat of a person ([EnergiePlus](https://energieplus-lesite.be/theories/bilan-thermique44/charges-thermiques-internes-pour-les-bureaux/#Lapport_des_occupants)), W."
   ]
  },
  {
   "cell_type": "code",
   "execution_count": 14,
   "metadata": {},
   "outputs": [
    {
     "name": "stdout",
     "output_type": "stream",
     "text": [
      "Qsa =  2163.5 W, sensible aux. heat\n"
     ]
    }
   ],
   "source": [
    "# Auxilairy sensible heat\n",
    "pe = 20                 # W/m², electrical power\n",
    "np = 5                  # number of persons\n",
    "qsp = 83                # W, sensible heat per person\n",
    "Qsa = pe*Sf + np*qsp    # W, sensible auxiliary heat\n",
    "print(f'Qsa =  {Qsa:5.1f} W, sensible aux. heat')"
   ]
  },
  {
   "cell_type": "markdown",
   "metadata": {},
   "source": [
    "The auxiliary latent heat is given mainly by the occupants:\n",
    "$$ \\dot Q_{la} = n_p \\dot m_{vp} $$\n",
    "where:\n",
    "- $n_p$ is the number of persons;\n",
    "- $\\dot m_{vp}$ - vapor mass flow per person ([EnergiePlus](https://energieplus-lesite.be/theories/bilan-thermique44/charges-thermiques-internes-pour-les-bureaux/#Lapport_des_occupants)), kg/s."
   ]
  },
  {
   "cell_type": "code",
   "execution_count": 15,
   "metadata": {},
   "outputs": [
    {
     "name": "stdout",
     "output_type": "stream",
     "text": [
      "Qla = 246.0 W, latent aux. heat\n"
     ]
    }
   ],
   "source": [
    "# Auxiliary latent heat\n",
    "wi, wo = 8.7e-3, 1.6e-3  # kg/kgₐ, humidity ratio\n",
    "mvp = 71e-3 / 3600       # kg/s, vapor mass flow per person\n",
    "Qla = np * mvp * l_v\n",
    "print(f'Qla = {Qla:5.1f} W, latent aux. heat')"
   ]
  },
  {
   "cell_type": "markdown",
   "metadata": {},
   "source": [
    "# Results\n",
    "## Thermal losses by type\n",
    "\n",
    "The sensible thermal losses are through the walls and windows $US$, the thermal bridges $\\psi L$, and air infiltration ${\\dot{m}}_{inf} c$.\n",
    "\n",
    "The overall heat transfer coefficient is:\n",
    "\n",
    "$$ H = U S + \\psi L + (\\dot m_{inf} + \\dot m_v) c$$"
   ]
  },
  {
   "cell_type": "code",
   "execution_count": 16,
   "metadata": {},
   "outputs": [
    {
     "name": "stdout",
     "output_type": "stream",
     "text": [
      "H = 147.1 W/K\n"
     ]
    }
   ],
   "source": [
    "U·S = (Ue*Se + Uw*Sw + Ud*Sd + f*Uc*Sc + f*Uf*Sf)   # W/K\n",
    "\n",
    "ψ·L = (ψWF*4*(10.05 - 2*0.35)/2 +      # W/K, hor. therm bridge wall-floor\n",
    "      ψWC*4*(10.05 - 2*0.35)/2 +       # W/K, hor. therm bridge wall-ceiling\n",
    "      ψWW*4*2.495)                     # W/K, vert. therm bridge wall-wall\n",
    "ma·c = (minf + mv) * c\n",
    "\n",
    "H = U·S + ψ·L + ma·c                   # W/K, overall heat transfer coeff\n",
    "print(f'H = {H:.1f} W/K')"
   ]
  },
  {
   "cell_type": "markdown",
   "metadata": {},
   "source": [
    "- $US$ overall conductivity through the walls and windows, W/K;"
   ]
  },
  {
   "cell_type": "code",
   "execution_count": 17,
   "metadata": {},
   "outputs": [
    {
     "name": "stdout",
     "output_type": "stream",
     "text": [
      "U·S =  81.4 W/K, i.e. 55.4 % of H\n"
     ]
    }
   ],
   "source": [
    "print(f'U·S =  {U·S:.1f} W/K, i.e. {U·S / H * 100:.1f} % of H')"
   ]
  },
  {
   "cell_type": "markdown",
   "metadata": {},
   "source": [
    "- $\\psi L$ global conductivity through the thermal bridges, W/K;"
   ]
  },
  {
   "cell_type": "code",
   "execution_count": 18,
   "metadata": {},
   "outputs": [
    {
     "name": "stdout",
     "output_type": "stream",
     "text": [
      "ψ·L = 4.5 W/K, i.e. 3.0 % of H\n"
     ]
    }
   ],
   "source": [
    "print(f'ψ·L = {ψ·L:.1f} W/K, i.e. {ψ·L / H * 100:.1f} % of H')"
   ]
  },
  {
   "cell_type": "markdown",
   "metadata": {},
   "source": [
    "- ${\\dot{m}}_{inf} c$ conductance due to mass flow of infiltration air, W/K;"
   ]
  },
  {
   "cell_type": "code",
   "execution_count": 19,
   "metadata": {},
   "outputs": [
    {
     "name": "stdout",
     "output_type": "stream",
     "text": [
      "mi·c =   61.2 W/K, i.e. 41.6 % of H\n"
     ]
    }
   ],
   "source": [
    "print(f'mi·c =  {ma·c:5.1f} W/K, i.e. {ma·c / H * 100:.1f} % of H')"
   ]
  },
  {
   "cell_type": "markdown",
   "metadata": {},
   "source": [
    "## Values for estimation of thermal load"
   ]
  },
  {
   "cell_type": "markdown",
   "metadata": {},
   "source": [
    "Knowing the characteristics of the outdoor air $(\\theta_0, w_0)$ and of the indoor air $(\\theta_I, w_I)$, the values needed to estimate the sensible load:\n",
    "\n",
    "$$\\dot Q_s = (US+\\psi L)(\\theta_0 - \\theta_I) + \\dot m_a c(\\theta_0 - \\theta_I) + \\dot{Q}_{s,aux}$$\n",
    "\n",
    "and the latent load: \n",
    "\n",
    "$$\\dot Q_l = \\dot m_a l (w_0 - w_I) + \\dot{Q}_{l,aux}$$\n",
    "\n",
    "are:\n",
    "- $US+\\psi L$ - overall heat transfer coefficient, W/K;\n",
    "- $\\dot m_a = \\dot{m}_{inf} + \\dot m_v$ - mass flow rate of infiltration, $\\dot{m}_{inf}$, and ventilation, $\\dot m_v$ air, kg/s;\n",
    "- $\\dot{Q}_{s,aux}$ - sensible auxiliar heat gains, W;\n",
    "- $\\dot{Q}_{l,aux}$ - sensible auxiliar heat gains, W."
   ]
  },
  {
   "cell_type": "code",
   "execution_count": 20,
   "metadata": {},
   "outputs": [
    {
     "name": "stdout",
     "output_type": "stream",
     "text": [
      "U·S + 𝜓·L =   85.9 W/K, overall heat transfer coefficient\n",
      "ma =  0.061207 kg/s, air flow rate\n",
      "Qsa =  2163.5 W, sensible aux. heat\n",
      "Qla = 246.0 W, latent aux. heat\n"
     ]
    }
   ],
   "source": [
    "print(f'U·S + 𝜓·L =  {UA:5.1f} W/K, overall heat transfer coefficient')\n",
    "print(f'ma =  {minf + mv:7.6f} kg/s, air flow rate')\n",
    "print(f'Qsa =  {Qsa:5.1f} W, sensible aux. heat')\n",
    "print(f'Qla = {Qla:5.1f} W, latent aux. heat')"
   ]
  },
  {
   "cell_type": "markdown",
   "metadata": {},
   "source": [
    "With this value, we can estimate: the sensible load:\n",
    "\n",
    "$$\\dot Q_s = (US+\\psi L)(\\theta_0 - \\theta_I) + \\dot m_a c(\\theta_0 - \\theta_I) + \\dot{Q}_{s,a}$$\n",
    "\n",
    "and the latent load: \n",
    "\n",
    "$$\\dot Q_l = \\dot m_a l(w_0 - w_I) + \\dot{Q}_{l,a}$$\n",
    "\n"
   ]
  },
  {
   "cell_type": "markdown",
   "metadata": {},
   "source": [
    "# Bibiliography"
   ]
  },
  {
   "cell_type": "markdown",
   "metadata": {
    "tags": []
   },
   "source": [
    "## Building description\n",
    "[Strachan P., Heusler I. (2015)](https://pure.strath.ac.uk/ws/portalfiles/portal/43362532/Empirical_Modelling_Specification_200514.pdf) Empirical Whole Model Validation Modelling Specification, IEA ECB Annex 58,\n",
    "[DOI: 10.15129/8a86bbbb-7be8-4a87-be76-0372985ea228](https://doi.org/10.15129/8a86bbbb-7be8-4a87-be76-0372985ea228)\n",
    "\n",
    "## Load calculations\n",
    "[Charges chauffage NF EN 12831](https://www.thermexcel.com/french/energie/Calcul_deperditions_thermiques_NF_EN_12831.htm)\n",
    "\n",
    "[Calcul des deperditions NF NE 12831](https://www.thermexcel.com/french/ressourc/calcul_deperdition_calculs_deperditions.htm)\n",
    "\n",
    "[BSRIA (2003)](https://www.google.com/url?sa=t&rct=j&q=&esrc=s&source=web&cd=&ved=2ahUKEwi769yygc77AhXeUKQEHfobD3UQFnoECCoQAQ&url=https%3A%2F%2Fwww.bsria.com%2Fdoc%2FrQV5xn&usg=AOvVaw0sFqmRJg3NCmSeNieVawRh) Rules of thumb\n",
    "\n",
    "[AICVF Psychrometric diagramme](http://aicvf.org/comite-technique/files/2013/12/a4_-0m-_-version-enseignement-_rv.pdf)\n",
    "\n",
    "[Psychrometric Calculator 1](http://www.sugartech.co.za/psychro/index.php)\n",
    "\n",
    "[Psychrometric Calculator 2](https://www.rotronic.com/fr-fr/humidity_measurement-feuchtemessung-mesure_de_l_humidite/humidity-calculator-feuchterechner-mr)\n",
    "\n",
    "[Definition of surfaces: SHONRT, SDP](http://construction.senova.fr/conseils-techniques/shob-et-shon-cest-fini-tout-sur-la-nouvelle-surface-de-plancher/)\n",
    "\n",
    "[Correction factor for infiltration](https://unmethours.com/question/26477/how-to-set-air-infiltration-under-50-pa-pressure/)\n",
    "\n",
    "Recknagel (2007) Génie climatique, Dunod, ISBN 978-2-10-048353-2 \n",
    "\n",
    "Ghiaus, C., & Alzetto, F. (2019). Design of experiments for Quick U-building method for building energy performance measurement. Journal of building performance simulation, 12(4), 465-479.\n",
    "[DOI: 10.1080/19401493.2018.1561753](https://doi.org/10.1080/19401493.2018.1561753), [arXiv](https://arxiv.org/pdf/1904.08848.pdf), [HAL](https://hal.science/file/tmp/fid/0)\n",
    "\n",
    "[A. Meier (1986)](https://www.aivc.org/sites/default/files/airbase_3097.pdf) Infiltration: Just ACH₅₀ divided by 20?, *Energy Auditor and Retrofitter*, pp. 16-19\n",
    "\n",
    "[ASHRAE (2017)](https://archive.org/details/ashraehandbook2017hvacfundamentalssi/mode/1up) Simplified models of residential ventilation and infiltration, *Fundamentals: chapter 16 Ventilation and Infiltration*, pp. 16.23-26\n",
    "\n",
    "[Y. Ji et al. (2022)](https://doi.org/10.1016/j.enbenv.2022.02.010) Study on the conversion coefficient between ACH50 and ACH in typical zones of public buildings, *Energy and Built Environment*, in press.\n",
    "\n",
    "J. D. Spitler (2014) Load Calculation Applications Manual, 2nd Ed.-SI, ASHRAE, Atlanta, ISBN 978-1-936504-76-3\n",
    "\n",
    "[BIPM (2019)](https://www.bipm.org/documents/20126/41483022/SI-Brochure-9-EN.pdf/2d2b50bf-f2b4-9661-f402-5f9d66e4b507?version=1.11&t=1671101192839&download=true) The International System of Units (SI), 9th edition, licence CC-BY-3.0\n",
    "\n",
    "[E. Gőbel, I. Mills, A. Wallard (2006)](https://www.bipm.org/documents/20126/41483022/SI-Brochure-9-concise-EN.pdf/2fda4656-e236-0fcb-3867-36ca74eea4e3). A concise summary of the International System of Units, the SI.\n",
    "\n",
    "[A. Thomson, B. N. Taylor (2008)](https://nvlpubs.nist.gov/nistpubs/Legacy/SP/nistspecialpublication811e2008.pdf). Guide for the use of the international System of units (NIST Special Publication 811․ 2008 Edition). National Institute of Standards and Technology, US Government Printing Office."
   ]
  },
  {
   "cell_type": "code",
   "execution_count": null,
   "metadata": {},
   "outputs": [],
   "source": []
  }
 ],
 "metadata": {
  "kernelspec": {
   "display_name": "Python 3 (ipykernel)",
   "language": "python",
   "name": "python3"
  },
  "language_info": {
   "codemirror_mode": {
    "name": "ipython",
    "version": 3
   },
   "file_extension": ".py",
   "mimetype": "text/x-python",
   "name": "python",
   "nbconvert_exporter": "python",
   "pygments_lexer": "ipython3",
   "version": "3.9.7"
  },
  "toc-autonumbering": true
 },
 "nbformat": 4,
 "nbformat_minor": 4
}
