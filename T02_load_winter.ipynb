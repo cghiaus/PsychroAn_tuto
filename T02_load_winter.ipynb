{
 "cells": [
  {
   "cell_type": "markdown",
   "metadata": {
    "tags": []
   },
   "source": [
    "# Thermal loads: winter\n",
    "\n",
    " The [thermal load](https://en.m.wikipedia.org/wiki/Cooling_load) is the heat flow rate that must to be added to a space by the heating, ventilation and air-conditioning ([HVAC](https://en.m.wikipedia.org/wiki/Heating,_ventilation,_and_air_conditioning))  system in order to maintain the indoor air temperature and humidity at its [setpoints](https://en.m.wikipedia.org/wiki/Setpoint_(control_system)) value.\n",
    "The sensible load is:\n",
    "\n",
    "$$\\dot Q_s = (US+\\psi L)(\\theta_O - \\theta_I) + {\\dot{m}}_{inf}c(\\theta_0 - \\theta_I) + \\dot{Q}_{s,aux}$$\n",
    "\n",
    "and the latent load is: \n",
    "\n",
    "$$\\dot Q_l = {\\dot{m}}_{inf}l(w_0 - w_I) + \\dot{Q}_{l,aux}$$\n",
    "\n",
    "where:\n",
    "- $U$ is the [overall heat transfer coefficient](https://en.wikipedia.org/wiki/R-value_(insulation)#U-factor.2FU-value) of the building, W/(m²·K);\n",
    "- $S$ - surface area of the building, m²; \n",
    "- $US$ - global conductivity through the walls, W/K;\n",
    "- $\\psi$ - linear thermal transmittance, W/(m·K);\n",
    "- $L$ - length of the thermal bridge, m;\n",
    "- $\\psi L$ - global conductivity through the [thermal bridges](https://en.wikipedia.org/wiki/Thermal_bridge), W/K;\n",
    "- ${\\dot{m}}_{inf}$ - mass flow rate of infiltration air, kg/s;\n",
    "- $c$ - [specific heat capacity of the air](https://en.wikipedia.org/wiki/Specific_heat_capacity), J/(kg·K);\n",
    "- $l$ - [specific latent heat](https://en.wikipedia.org/wiki/Latent_heat#Specific_latent_heat), J/kg;\n",
    "- $\\theta_O$ - outdoor temperature, °C;\n",
    "- $\\theta_I$ - indoor temperature, °C;\n",
    "- $w_O$ - water content (humidity ratio) of the outdoor air, kg/kg;\n",
    "- $w_I$ - water content (humidity ratio) of the indoor air, kg/kg;\n",
    "- $\\dot{Q}_{s,aux}$ - sensible auxiliar heat gains (from occupants, electrical devices, etc.), W;\n",
    "- $\\dot{Q}_{l,aux}$ - latent auxiliar heat gains (from occupants, evaporative processes like cooking, etc.), W."
   ]
  },
  {
   "cell_type": "markdown",
   "metadata": {},
   "source": [
    "## House description\n",
    "Let's consider a house having the layout shown below, with a floor area of about 100 m². The house has there floors: cellar, ground floor, and attic. The thermal load is estimated for the ground floor considered as a single thermal zone. The cellar and the attic are boundary conditions for the ground floor ([Strachan & Heusler](https://pure.strath.ac.uk/ws/portalfiles/portal/43362532/Empirical_Modelling_Specification_200514.pdf), 2015).\n",
    "\n",
    "![Whole house](./Figures/load_winter_01.png)\n",
    ">Figure 1. Overall dimensions of the house ([Strachan & Heusler](https://pure.strath.ac.uk/ws/portalfiles/portal/43362532/Empirical_Modelling_Specification_200514.pdf), 2015).\n",
    "\n",
    "![Dimensions](./Figures/load_winter_02.svg)\n",
    ">Figure 2. Plan of the ground floor (adapted after [Strachan & Heusler](https://pure.strath.ac.uk/ws/portalfiles/portal/43362532/Empirical_Modelling_Specification_200514.pdf), 2015). "
   ]
  },
  {
   "cell_type": "markdown",
   "metadata": {},
   "source": [
    "## Data\n",
    "**Characteristics of the building components**\n",
    "\n",
    "|Layer|width|conductivity|density|specific heat|\n",
    "|-----|------------|--------------------|-------------|------|\n",
    "||$w~$|$\\lambda$| $\\rho$|$c$|\n",
    "| |$\\text{m}$|$\\text{W/mK}$| $~\\mathrm{{kg/m^{3}}}$|$~\\mathrm{{J/kgK}}$|\n",
    "|$\\textbf{External wall}$|\n",
    "|Exterior plaster| 0.01|0.8  |1200|1000|\n",
    "|Insulation|0.12|0.035|80|840|\n",
    "|Plaster|0.03|1.00|1200|1000|\n",
    "|Honeycomb brick|0.30|0.22|800|1000|\n",
    "|Internal plaster| 0.01|1.0|1200|1000|\n",
    "|$\\textbf{Internal wall}$|\n",
    "|Internal plaster| 0.01|0.35|1200|1000|\n",
    "|Honeycomb brick|0.24|0.33|1000|1000|\n",
    "|Internal plaster| 0.01|0.35|1200|1000|\n",
    "|$\\textbf{Ceiling}$|\n",
    "|Screed|0.04|1.4|2000|1000|\n",
    "|Insulation| 0.04|0.04|80|840|\n",
    "|Concrete| 0.22|2.0|2400|1000|\n",
    "|Plaster| 0.01|1.0|1200|1000|\n",
    "|Insulation| 0.10|0.035|80|840|\n",
    "|$\\textbf{Floor}$|\n",
    "|Concrete| 0.22|2.1|2400|1000|\n",
    "|Leveling fill|0.029|0.060|80|840|\n",
    "|Insulation| 0.030|0.025|80|840|\n",
    "|Composite panel|0.033|0.023|80|840|\n",
    "|Screed|0.065|1.4|2000|1000|\n",
    "|$\\textbf{Exterior door}$|\n",
    "|Wood| 0.04|0.131|600|1000|\n",
    "\n",
    "**Thermal bridges**\n",
    "\n",
    "|Junction             |𝜓 [W/m K]|\n",
    "|---------------------|--------------------|\n",
    "|External wall - floor|0.107|\n",
    "|External wall - ceiling|0.084|\n",
    "|External wall - external wall|0.091|\n",
    "\n",
    "**Window**\n",
    "\n",
    "- $U_w=1.2~\\mathrm{W/m^2K}$\n",
    "\n",
    "**Convection coefficients:**\n",
    "\n",
    "- $h_i=8~\\mathrm{W/m^2K}$ indoor \n",
    "- $h_o=25~\\mathrm{W/m^2K}$ outdoor \n",
    "\n",
    "\n",
    "**Temperatures and humidity** ([Norme NF EN 12831](https://www.thermexcel.com/french/ressourc/calcul_deperdition_calculs_deperditions.htm))\n",
    "\n",
    "- $\\theta_i = 20~\\mathrm{°C},~\\varphi_i=60~\\%$  indoor\n",
    "- $\\theta_o = -10~\\mathrm{°C},~\\varphi_i=100~\\%$, outdoor (for Lyon)[Norme NF EN 12831](https://www.thermexcel.com/french/energie/Calcul_deperditions_thermiques_NF_EN_12831.htm)\n",
    "- $\\theta_a = \\theta_i - \\tau(\\theta_i - \\theta_o), \\tau = 0.8$, attic temperature\n",
    "- $\\theta_c = \\theta_i - \\tau(\\theta_i - \\theta_o), \\tau = 0.8$, cellar temperature (adjacent non-heated spaces) \n",
    "- humidity ratio of the air in the attic and in the cellar are equal to the outdoor value.\n",
    "\n",
    "**Occupants** ([EnergiePlus](https://energieplus-lesite.be/theories/bilan-thermique44/charges-thermiques-internes-pour-les-bureaux/#Lapport_des_occupants))\n",
    "\n",
    "- $n_p=5$, number of persons\n",
    "- $q_{s,p}=83~\\mathrm{W}$, sensible heat per person\n",
    "- $q_{l,p}=49~\\mathrm{W}$, sensible heat per person\n",
    "- $\\dot{m}_{v,p}=71~\\mathrm{g/h}$, vapor mas flow per person\n",
    "\n",
    "\n",
    "**Lighting and electrical equipments** ([EnergiePlus](https://energieplus-lesite.be/theories/bilan-thermique44/charges-thermiques-internes-pour-les-bureaux/#Lapport_des_equipements))\n",
    "\n",
    "- $p_{e}=20~\\mathrm{W/m^2}$\n",
    "\n",
    "\n",
    "**Air leackage for the whole ground floor**\n",
    "\n",
    "- $n_{50}=1.62$ air changes per hour at 50 Pa\n",
    "- $ACH=n_{50}/n=1.62/23=0.07$ air changes per hour at 4 Pa [->🔗](https://unmethours.com/question/26477/how-to-set-air-infiltration-under-50-pa-pressure/)\n",
    "\n",
    "**Supply air temperature**\n",
    "\n",
    "- $t_S = t_I+15~\\mathrm{°C}$ for heating\n",
    "- $t_S = t_I-10~\\mathrm{°C}$ for cooling\n",
    "\n",
    "**Notes:**\n",
    "\n",
    "1) For the [thermal bridges wall-floor and wall-ceiling](https://www.ecohome.net/media/articles/images/c8/86/c88668779794bc0e41c74a8c68d3cea86aa658e8/thumbs/QdE-LAzl1-iE_1200x500_ZBprRkQU.jpg), consider that half of the flow through the thermal bridge is coming from the ground floor and half from the celler and the attic, respectively.\n",
    "\n",
    "2) The [surfaces](http://construction.senova.fr/conseils-techniques/shob-et-shon-cest-fini-tout-sur-la-nouvelle-surface-de-plancher/) considered in thermal calculations are the indoor ones. \n",
    "\n",
    "3) The [air leackeage mesured at 50 Pa needs to be corrected](https://unmethours.com/question/26477/how-to-set-air-infiltration-under-50-pa-pressure/) for lower pressure (about 4 Pa), which is normal when the wind is not very strong."
   ]
  },
  {
   "cell_type": "markdown",
   "metadata": {},
   "source": [
    "##  Calculate\n",
    "\n",
    "**1. Sensible heat transfer through the envelope**\n",
    "\n",
    "*1.1. Global conductivities of the surfacic elements:*\n",
    "\n",
    "- external walls, $U_e~\\mathrm{[W/m^2K}]$;\n",
    "- internal walls, $U_i~\\mathrm{[W/m^2K}]$;\n",
    "- floor, $U_f~\\mathrm{[W/m^2K}]$;\n",
    "- ceiling, $U_c~\\mathrm{[W/m^2K}]$;\n",
    "- exterior door, $U_d~\\mathrm{[W/m^2K}]$;\n",
    "\n",
    "*1.2 Surfaces to be used for heat transfert through the building envelope:*\n",
    "\n",
    "- windows, $S_{w}~\\mathrm{[m^2]}$;\n",
    "- exterior door, $S_{d}~\\mathrm{[m^2]}$;\n",
    "- exterior walls, $S_{e}~\\mathrm{[m^2]}$;\n",
    "- floor, $S_{f}~\\mathrm{[m^2]}$;\n",
    "- ceiling, $S_{c}~\\mathrm{[m^2]}$.\n",
    "\n",
    "**2. Infiltration air**\n",
    "- mass flow rate of infiltration air, $\\dot{m}_{inf}~\\mathrm{[kg/s]}$;\n",
    "\n",
    "**3. Sensible and latent auxiliary loads of the thermal zone**\n",
    "- sensible load of the thermal zone, ${\\dot{Q}_{s, aux}}~\\mathrm{[W]}$;\n",
    "- latent load, ${\\dot{Q}_{l, aux}}~\\mathrm{[W]}$.\n",
    "\n",
    "\n"
   ]
  },
  {
   "cell_type": "markdown",
   "metadata": {},
   "source": [
    "## Overall heat transfer coefficient"
   ]
  },
  {
   "cell_type": "markdown",
   "metadata": {},
   "source": [
    "### Global conductivities of building elements\n",
    "([Norme NF EN ->12831](https://www.thermexcel.com/french/ressourc/calcul_deperdition_calculs_deperditions.htm))\n",
    "\n",
    "- external walls, $U_e~\\mathrm{[W/m^2K}]$;\n",
    "- internal walls, $U_i~\\mathrm{[W/m^2K}]$;\n",
    "- floor, $U_f~\\mathrm{[W/m^2K}]$;\n",
    "- ceiling, $U_c~\\mathrm{[W/m^2K}]$;\n",
    "- exterior door, $U_d~\\mathrm{[W/m^2K}]$;\n",
    "\n",
    "The overall conductivity of a plane wall is:\n",
    "$$U = \\frac{1}{\\frac{1}{h_i} + \\sum \\frac{w}{\\lambda} + \\frac{1}{h_o}}$$\n",
    "where:\n",
    "- $h_i$ - indoor convection coefficient, W/m² K\n",
    "- $h_o$ - outdoor convection coefficient, W/m² K\n",
    "- $\\lambda$ - thermal conductivity, W/m K\n",
    "- $w$ - width, m."
   ]
  },
  {
   "cell_type": "code",
   "execution_count": 1,
   "metadata": {
    "scrolled": true
   },
   "outputs": [
    {
     "name": "stdout",
     "output_type": "stream",
     "text": [
      "External wall: Ue =   0.220 W/m2 K, external walls\n"
     ]
    }
   ],
   "source": [
    "import numpy as np\n",
    "\n",
    "# Constants\n",
    "R = 8314    # J/(kmol K), gas constant\n",
    "\n",
    "# Molar mass dry air, vapor\n",
    "M_da, M_v = 28.9645, 18  # kg/kmol\n",
    "\n",
    "c_da, c_v  = 1e3, 1.96e3    # specific heat  J/kg K\n",
    "l_v = 2495.0e3              # specific latent heat J/kg\n",
    "\n",
    "hi, ho = 8, 25                                      # convection coeff\n",
    "# External wall\n",
    "# plaster, insulation, plaster, brick, plaster\n",
    "w = np.array([0.01,   0.12,  0.03, 0.20, 0.01])     # width\n",
    "λ = np.array([0.80, 0.035, 1.00, 0.22,  1])       # conductivity\n",
    "ρ = np.array([1200, 80,    1200, 800,  1200])       # density\n",
    "c = np.array([1000,   840,   1000, 1000, 1000])     # specific heat\n",
    "\n",
    "Ue = 1/(1/hi + np.sum(w/λ) + 1/ho)\n",
    "print('External wall: Ue =  % 5.3f W/m2 K, external walls' % Ue)"
   ]
  },
  {
   "cell_type": "code",
   "execution_count": 2,
   "metadata": {},
   "outputs": [
    {
     "name": "stdout",
     "output_type": "stream",
     "text": [
      "Internal wall: Ui =   0.967 W/m2 K, internal walls\n"
     ]
    }
   ],
   "source": [
    "# Internal wall\n",
    "# plaster, brick, plaster\n",
    "w = np.array([0.01,   0.24,    0.01])               # width\n",
    "λ = np.array([0.35,   0.33,    0.35])               # conductivity\n",
    "ρ = np.array([1200,   1000,    1200])               # density\n",
    "c = np.array([1000,  1000,    1000])                # specific heat\n",
    "\n",
    "Ui = 1/(1/hi + np.sum(w/λ) + 1/hi)\n",
    "print('Internal wall: Ui =  % 5.3f W/m2 K, internal walls' % Ui)"
   ]
  },
  {
   "cell_type": "code",
   "execution_count": 3,
   "metadata": {},
   "outputs": [
    {
     "name": "stdout",
     "output_type": "stream",
     "text": [
      "Ceiling: Uc =   0.235 W/m2 K, celing\n"
     ]
    }
   ],
   "source": [
    "# Ceiling\n",
    "# screed, insulation, concrete, plaster, insulation\n",
    "w = np.array([0.04,  0.04, 0.22,  0.01, 0.10])      # width\n",
    "λ = np.array([1.40, 0.04, 2.00,  1.00, 0.035])      # conductivity\n",
    "ρ = np.array([2000, 80,   2400,  1200, 80])         # density\n",
    "c = np.array([2000, 840,  1000,  1000, 840])        # specific heat\n",
    "\n",
    "Uc = 1/(1/hi + np.sum(w/λ) + 1/hi)\n",
    "print('Ceiling: Uc =  % 5.3f W/m2 K, celing' % Uc)"
   ]
  },
  {
   "cell_type": "code",
   "execution_count": 4,
   "metadata": {},
   "outputs": [
    {
     "name": "stdout",
     "output_type": "stream",
     "text": [
      "Floor: Uf =   0.294 W/m2 K, floor\n"
     ]
    }
   ],
   "source": [
    "# Floor\n",
    "# concrete, fill, insulation, panel, screed\n",
    "w = np.array([0.22,   0.03,  0.03,  0.03,  0.065])  # width\n",
    "λ = np.array([2.1,  0.06,  0.025, 0.023, 1.4])      # conductivity\n",
    "ρ = np.array([2400, 80,    80,    80,    2000])     # density\n",
    "c = np.array([1000,   840,   840,   840,   1000])   # specific heat\n",
    "\n",
    "Uf = 1/(1/hi + np.sum(w/λ) + 1/hi)\n",
    "print('Floor: Uf =  % 5.3f W/m2 K, floor' % Uf)"
   ]
  },
  {
   "cell_type": "code",
   "execution_count": 5,
   "metadata": {},
   "outputs": [
    {
     "name": "stdout",
     "output_type": "stream",
     "text": [
      "External door: Ud =   1.793 W/m2 K, door\n"
     ]
    }
   ],
   "source": [
    "# Exterior door\n",
    "w = 0.04    # width\n",
    "λ = 0.13    # conductivity\n",
    "ρ = 600   # density\n",
    "c = 1000    # specific heat\n",
    "\n",
    "Ud = 1/(1/hi + w/λ + 1/hi)\n",
    "print('External door: Ud =  % 5.3f W/m2 K, door' % Ud)"
   ]
  },
  {
   "cell_type": "markdown",
   "metadata": {},
   "source": [
    "### Surfaces\n",
    "\n",
    "Using the [definition of surfaces](http://construction.senova.fr/conseils-techniques/shob-et-shon-cest-fini-tout-sur-la-nouvelle-surface-de-plancher/), calculate the surfaces of: \n",
    "- window, $S_{w}~\\mathrm{[m^2]}$, \n",
    "- exterior door, $S_{d}~\\mathrm{[m^2]}$,\n",
    "- exterior walls surface, $S_{e}~\\mathrm{[m^2]}$\n",
    "- floor, $S_{f}~\\mathrm{[m^2]}$\n",
    "- ceiling, $S_{c}~\\mathrm{[m^2]}$, \n",
    "\n",
    "to be used for heat transfert through the building envelope."
   ]
  },
  {
   "cell_type": "code",
   "execution_count": 6,
   "metadata": {},
   "outputs": [
    {
     "name": "stdout",
     "output_type": "stream",
     "text": [
      "Sw = 21.26 m2, window \n"
     ]
    }
   ],
   "source": [
    "# Windows\n",
    "Sw = 5 * 1.24 * 1.46                        # 5 normal windows\n",
    "Sw = Sw + 1.02 * 2.18 + 4.48 * 2.228        # 1 bay window\n",
    "print('Sw = %5.2f m2, window ' % Sw)"
   ]
  },
  {
   "cell_type": "code",
   "execution_count": 7,
   "metadata": {},
   "outputs": [
    {
     "name": "stdout",
     "output_type": "stream",
     "text": [
      "Sd =  2.00 m2, exterior door \n"
     ]
    }
   ],
   "source": [
    "# Exterior door\n",
    "Sd = 1.00*2.00\n",
    "print('Sd = %5.2f m2, exterior door ' % Sd)"
   ]
  },
  {
   "cell_type": "code",
   "execution_count": 8,
   "metadata": {},
   "outputs": [
    {
     "name": "stdout",
     "output_type": "stream",
     "text": [
      "Se = 70.06 m2, exterior wall\n"
     ]
    }
   ],
   "source": [
    "# Exterior wall\n",
    "Se = 4*2.495*(10.05 - 2*0.35) - Sw - Sd     # indoor surface\n",
    "print('Se = %5.2f m2, exterior wall' % Se)"
   ]
  },
  {
   "cell_type": "code",
   "execution_count": 9,
   "metadata": {
    "scrolled": true
   },
   "outputs": [
    {
     "name": "stdout",
     "output_type": "stream",
     "text": [
      "Sf = 87.423 m², floor \n",
      "Sc = 87.423 m², ceiling\n"
     ]
    }
   ],
   "source": [
    "Sf = (10.05 - 2*0.35)*(10.05 - 2*0.35)      # indoor surface\n",
    "Sc = Sf\n",
    "print('Sf = %5.3f m², floor ' % Sf)\n",
    "print('Sc = %5.3f m², ceiling' % Sc)"
   ]
  },
  {
   "cell_type": "markdown",
   "metadata": {},
   "source": [
    "# Building characteristics"
   ]
  },
  {
   "cell_type": "code",
   "execution_count": 10,
   "metadata": {},
   "outputs": [
    {
     "name": "stdout",
     "output_type": "stream",
     "text": [
      "UA =  85.9 W, overall heat transfer coefficient\n"
     ]
    }
   ],
   "source": [
    "# Overall heat coeffcient\n",
    "Uw = 1.2                # U-window\n",
    "ψWF = 0.107             # ψ wall-floor\n",
    "ψWC = 0.084             # ψ wall-ceiling\n",
    "ψWW = 0.091             # ψ wall-wall\n",
    "τ = 0.8                 # temp diff reduction for non-heated\n",
    "UA = (Ue*Se + Uw*Sw + Ud*Sd + Uc*Sc*τ + Uf*Sf*τ +   # surfaces\n",
    "      ψWF*4*(10.05 - 2*0.35)/2 +       # hor. therm bridge wall-floor\n",
    "      ψWC*4*(10.05 - 2*0.35)/2 +       # hor. therm bridge wall-ceiling\n",
    "      ψWW*4*2.495)                     # vert. therm bridge wall-wall\n",
    "print(f'UA = {UA:5.1f} W, overall heat transfer coefficient')"
   ]
  },
  {
   "cell_type": "code",
   "execution_count": 11,
   "metadata": {},
   "outputs": [
    {
     "name": "stdout",
     "output_type": "stream",
     "text": [
      "mi =  0.065436 kg/s, air infiltration\n"
     ]
    }
   ],
   "source": [
    "# Infiltration mass flow rate\n",
    "h = 2.495               # zone height [m]\n",
    "Vz = h * Sf             # zone volume [m3]]\n",
    "n50 = 1.62              # infiltration rate at 50 Pa\n",
    "ACH = n50 / 2           # infiltration rate corrected for normal wind pressure\n",
    "vo = 0.75               # specific volume [m3/kg]\n",
    "minf = ACH * Vz / vo / 3600     # outdoor dry air mass flow rate\n",
    "print(f'mi =  {minf:7.6f} kg/s, air infiltration')"
   ]
  },
  {
   "cell_type": "code",
   "execution_count": 12,
   "metadata": {},
   "outputs": [
    {
     "name": "stdout",
     "output_type": "stream",
     "text": [
      "Qsa =  2163.5 W, sensible aux. heat\n"
     ]
    }
   ],
   "source": [
    "# Auxilairy sensible heat\n",
    "pe = 20                 # electrical power W/m²\n",
    "np = 5                  # no persons\n",
    "qsp = 83                # sensible heat per person\n",
    "Qsa = pe*Sf + np*qsp    # sensible auxiliary heat\n",
    "print(f'Qsa =  {Qsa:5.1f} W, sensible aux. heat')"
   ]
  },
  {
   "cell_type": "code",
   "execution_count": 13,
   "metadata": {},
   "outputs": [
    {
     "name": "stdout",
     "output_type": "stream",
     "text": [
      "Qla = -913.1 W, latent aux. heat\n"
     ]
    }
   ],
   "source": [
    "# Auxiliary latent heat\n",
    "wi, wo = 8.7e-3, 1.6e-3  # humidity ratio [kg/kgda]\n",
    "mvp = 71e-3/3600         # vapor mass flow per person [kg/s]\n",
    "Qla = np * mvp * l_v + minf * l_v * (wo - wi)\n",
    "print(f'Qla = {Qla:5.1f} W, latent aux. heat')"
   ]
  },
  {
   "cell_type": "markdown",
   "metadata": {},
   "source": [
    "# Results\n",
    "## Thermal losses\n",
    "\n",
    "The sensible thermal losses are through the walls and windows $US$, the thermal bridges $\\psi L$, and air infiltration ${\\dot{m}}_{inf} c$."
   ]
  },
  {
   "cell_type": "code",
   "execution_count": 14,
   "metadata": {},
   "outputs": [],
   "source": [
    "US = (Ue*Se + Uw*Sw + Ud*Sd + Uc*Sc*τ + Uf*Sf*τ)   # surfaces\n",
    "\n",
    "ψL = (ψWF*4*(10.05 - 2*0.35)/2 +       # hor. therm bridge wall-floor\n",
    "      ψWC*4*(10.05 - 2*0.35)/2 +       # hor. therm bridge wall-ceiling\n",
    "      ψWW*4*2.495)                     # vert. therm bridge wall-wall\n",
    "mic = minf * c\n",
    "\n",
    "H = US + ψL + mic"
   ]
  },
  {
   "cell_type": "markdown",
   "metadata": {},
   "source": [
    "- $US$ overall conductivity through the walls and windows, W/K;"
   ]
  },
  {
   "cell_type": "code",
   "execution_count": 15,
   "metadata": {},
   "outputs": [
    {
     "name": "stdout",
     "output_type": "stream",
     "text": [
      "U*S =  81.4 W/K, i.e. 53.8 %\n"
     ]
    }
   ],
   "source": [
    "print(f'U*S =  {US:.1f} W/K, i.e. {US / H * 100:.1f} %')"
   ]
  },
  {
   "cell_type": "markdown",
   "metadata": {},
   "source": [
    "- $\\psi L$ global conductivity through the thermal bridges, W/K;"
   ]
  },
  {
   "cell_type": "code",
   "execution_count": 16,
   "metadata": {},
   "outputs": [
    {
     "name": "stdout",
     "output_type": "stream",
     "text": [
      "ψL = 4.5 W/K, i.e. 3.0 %\n"
     ]
    }
   ],
   "source": [
    "print(f'ψL = {ψL:.1f} W/K, i.e. {ψL / H * 100:.1f} %')"
   ]
  },
  {
   "cell_type": "markdown",
   "metadata": {},
   "source": [
    "- ${\\dot{m}}_{inf} c$ conductance due to mass flow of infiltration air, W/K;"
   ]
  },
  {
   "cell_type": "code",
   "execution_count": 17,
   "metadata": {},
   "outputs": [
    {
     "name": "stdout",
     "output_type": "stream",
     "text": [
      "mi*c =   65.4 W/K, i.e. 43.2 %\n"
     ]
    }
   ],
   "source": [
    "print(f'mi*c =  {mic:5.1f} W/K, i.e. {mic / H * 100:.1f} %')"
   ]
  },
  {
   "cell_type": "markdown",
   "metadata": {},
   "source": [
    "## Values for estimation of thermal load"
   ]
  },
  {
   "cell_type": "markdown",
   "metadata": {},
   "source": [
    "Knowing the characteristics of the outdoor air $(\\theta_0, w_0)$ and of the indoor air $(\\theta_I, w_I)$, the values needed to estimate the sensible load:\n",
    "\n",
    "$$\\dot Q_s = (US+\\psi L)(\\theta_O - \\theta_I) + {\\dot{m}}_{inf}c(\\theta_0 - \\theta_I) + \\dot{Q}_{s,aux}$$\n",
    "\n",
    "and the latent load: \n",
    "\n",
    "$$\\dot Q_l = {\\dot{m}}_{inf}l(w_0 - w_I) + \\dot{Q}_{l,aux}$$\n",
    "\n",
    "are:\n",
    "- $US+\\psi L$ - overall heat transfer coefficient, W;\n",
    "- $\\dot{m}_{inf}$ - mass flow rate of infiltration air, kg/s;\n",
    "- $\\dot{Q}_{s,aux}$ - sensible auxiliar heat gains, W;\n",
    "- $\\dot{Q}_{l,aux}$ - sensible auxiliar heat gains, W."
   ]
  },
  {
   "cell_type": "code",
   "execution_count": 18,
   "metadata": {},
   "outputs": [
    {
     "name": "stdout",
     "output_type": "stream",
     "text": [
      "U*S + 𝜓*L =   85.9 W/K, overall heat transfer coefficient\n",
      "mi =  0.065436 kg/s, air infiltration\n",
      "Qsa =  2163.5 W, sensible aux. heat\n",
      "Qla = -913.1 W, latent aux. heat\n"
     ]
    }
   ],
   "source": [
    "print(f'U*S + 𝜓*L =  {UA:5.1f} W/K, overall heat transfer coefficient')\n",
    "print(f'mi =  {minf:7.6f} kg/s, air infiltration')\n",
    "print(f'Qsa =  {Qsa:5.1f} W, sensible aux. heat')\n",
    "print(f'Qla = {Qla:5.1f} W, latent aux. heat')"
   ]
  },
  {
   "cell_type": "code",
   "execution_count": null,
   "metadata": {},
   "outputs": [],
   "source": []
  },
  {
   "cell_type": "markdown",
   "metadata": {},
   "source": [
    "# Bibiliography"
   ]
  },
  {
   "cell_type": "markdown",
   "metadata": {},
   "source": [
    "## Building description\n",
    "Strachan P., Heusler I. (2015) [Empirical Whole Model Validation Modelling Specification](https://pure.strath.ac.uk/ws/portalfiles/portal/43362532/Empirical_Modelling_Specification_200514.pdf), IEA ECB Annex 58,\n",
    "[DOI: 10.15129/8a86bbbb-7be8-4a87-be76-0372985ea228](https://doi.org/10.15129/8a86bbbb-7be8-4a87-be76-0372985ea228)\n",
    "\n",
    "## Load calculations\n",
    "[Charges chauffage NF EN 12831](https://www.thermexcel.com/french/energie/Calcul_deperditions_thermiques_NF_EN_12831.htm)\n",
    "\n",
    "[Calcul des deperditions NF NE 12831](https://www.thermexcel.com/french/ressourc/calcul_deperdition_calculs_deperditions.htm)\n",
    "\n",
    "BSRIA (2003) [Rules of thumb](https://www.google.com/url?sa=t&rct=j&q=&esrc=s&source=web&cd=&ved=2ahUKEwi769yygc77AhXeUKQEHfobD3UQFnoECCoQAQ&url=https%3A%2F%2Fwww.bsria.com%2Fdoc%2FrQV5xn&usg=AOvVaw0sFqmRJg3NCmSeNieVawRh)\n",
    "\n",
    "[AICVF Psychrometric diagramme](http://aicvf.org/comite-technique/files/2013/12/a4_-0m-_-version-enseignement-_rv.pdf)\n",
    "\n",
    "[Psychrometric Calculator 1](http://www.sugartech.co.za/psychro/index.php)\n",
    "\n",
    "[Psychrometric Calculator 2](https://www.rotronic.com/fr-fr/humidity_measurement-feuchtemessung-mesure_de_l_humidite/humidity-calculator-feuchterechner-mr)\n",
    "\n",
    "[Definition of surfaces: SHONRT, SDP](http://construction.senova.fr/conseils-techniques/shob-et-shon-cest-fini-tout-sur-la-nouvelle-surface-de-plancher/)\n",
    "\n",
    "[Correction factor for infiltration](https://unmethours.com/question/26477/how-to-set-air-infiltration-under-50-pa-pressure/)"
   ]
  },
  {
   "cell_type": "code",
   "execution_count": null,
   "metadata": {},
   "outputs": [],
   "source": []
  }
 ],
 "metadata": {
  "kernelspec": {
   "display_name": "Python 3 (ipykernel)",
   "language": "python",
   "name": "python3"
  },
  "language_info": {
   "codemirror_mode": {
    "name": "ipython",
    "version": 3
   },
   "file_extension": ".py",
   "mimetype": "text/x-python",
   "name": "python",
   "nbconvert_exporter": "python",
   "pygments_lexer": "ipython3",
   "version": "3.9.7"
  }
 },
 "nbformat": 4,
 "nbformat_minor": 4
}
