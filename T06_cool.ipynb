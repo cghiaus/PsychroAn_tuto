{
 "cells": [
  {
   "cell_type": "markdown",
   "metadata": {
    "tags": []
   },
   "source": [
    "# Cooling with recycling\n",
    "\n",
    "Contents\n",
    "- 1. **General model**\n",
    "\n",
    "    - 1.1. Building characteristics and auxiliary loads\n",
    "    \n",
    "    - 1.2. Create air handing unit (AHU) object\n",
    "    \n",
    "- 2. **System without reaheating ($K_w = 0$)**\n",
    "\n",
    "    - 2.1. CAV Constant Air Volume\n",
    "    \n",
    "    - 2.2. VAV Variable Air Volume\n",
    "    \n",
    "        2.2.1. Control of supply air temperature by supply air mass flow rate\n",
    "        \n",
    "        2.2.2. Control of indoor air humidity by supply air mass flow rate\n",
    "\n",
    "    - 2.3. Variable by-pass of the cooling coil\n",
    "    \n",
    "        2.3.1. CAV with control of supply air temperature $\\theta_S$\n",
    "        \n",
    "        2.3.2. CAV control of indoor air humidity\n",
    "        \n",
    "-  3. **System with reheating**\n",
    "\n",
    "    - 3.1. CAV: control indoor temperature & humidity\n",
    "\n",
    "    - 3.2. VAV: control indoor temperature & humidity and supply temperature\n",
    "\n",
    "--------------------\n",
    "\n",
    "Model: \n",
    "- Mixing (recirculating), cooling coil with by-pass, reheating, thermal zone, building. \n",
    "- CAV (constant air volume): the mass flow rate of supply air is constant.\n",
    "- VAV (variable air volume): the mass flow rate of supply air is variable.\n",
    "- VBP (variable by-pass): variable by-pass of cooling coil with constant supply air the mass flow rate. \n",
    "\n",
    "Control:\n",
    "1. Indoor temperature controlled by the cooling-coil total heat flow rate (the supply air mass flow rate is given). Indoor humidity is not controlled.\n",
    "2. Indoor temperature controlled by cooling coil; supply air temperature controlled by mass flow rate.\n",
    "3. Indoor temperature controlled by cooling coil; indoor air humidity controlled by the mass flow rate.\n",
    "4. Indoor temperature controlled by cooling coil; idoor air umidity controlled by the cooling-coil by-pass."
   ]
  },
  {
   "cell_type": "code",
   "execution_count": 1,
   "metadata": {},
   "outputs": [],
   "source": [
    "import ipywidgets as wd\n",
    "import matplotlib.pyplot as plt\n",
    "# %matplotlib inline  # uncomment for inline figure\n",
    "# %matplotlib qt      # uncomment for figure in separate window\n",
    "# plt.show()\n",
    "\n",
    "plt.rcParams[\"figure.figsize\"] = (10, 7.7)\n",
    "font = {'size': 16}\n",
    "plt.rc('font', **font)"
   ]
  },
  {
   "cell_type": "code",
   "execution_count": 2,
   "metadata": {},
   "outputs": [],
   "source": [
    "import cool as cc"
   ]
  },
  {
   "cell_type": "markdown",
   "metadata": {},
   "source": [
    "## General model\n",
    "\n",
    "### Building characteristics and auxiliary loads\n",
    "\n",
    "Total:\n",
    "- sensible: 45 kW\n",
    "- latent: 15 kW\n",
    "\n",
    "Rules of thumb, BSRIA 2003\n",
    "Solar gains over floor area 150-250 W/m2 of glass (Tab. 3/p 13)\n",
    "Heat loads 50 - 100 W/m2 floor area\n",
    "U-wall 0.4 W/m2K\n",
    "U-window 3.5 W/m2K"
   ]
  },
  {
   "cell_type": "code",
   "execution_count": 3,
   "metadata": {},
   "outputs": [
    {
     "name": "stdout",
     "output_type": "stream",
     "text": [
      "QsTZ = 45197 W, QlTZ = 16338 W\n",
      "UA = 674 W/K, mi = 1.11 kg/s,      Qsa = 34500 W, Qla = 4000 W\n",
      "m = 3.013 kg/s\n"
     ]
    }
   ],
   "source": [
    "import psychro as psy\n",
    "# constants\n",
    "c = 1e3         # J/kg K, air specific heat\n",
    "l = 2496e3      # J/kg, latent heat\n",
    "ρ = 1.2         # kg/m3, density\n",
    "\n",
    "# Building dimensions\n",
    "length = 20     # m\n",
    "width = 30      # m\n",
    "height = 3.5    # m\n",
    "persons = 100   # m\n",
    "\n",
    "sens_heat_person = 60       # W / person\n",
    "latent_heat_person = 40     # W / person\n",
    "load_m2 = 15        # W/m2\n",
    "solar_m2 = 150      # W/m2 of window area\n",
    "ACH = 1             # Air Cnhnages per Hour\n",
    "U_wall = 0.4        # W/K, overall heat transfer coeff. walls\n",
    "U_window = 3.5      # W/K, overall heat transfer coeff. windows\n",
    "\n",
    "θo, φo = 32, 0.5    # outdoor temperature & relative humidity\n",
    "θI, φI = 26, 0.5    # indoor temperature & relative humidity\n",
    "wo = psy.w(θo, φo)\n",
    "wI = psy.w(θI, φI)\n",
    "\n",
    "floor_area = length * width\n",
    "surface_floor = 2 * (length + width) * height + floor_area\n",
    "surface_wall = 0.9 * surface_floor\n",
    "surface_window = surface_floor - surface_wall\n",
    "\n",
    "UA = U_wall * surface_wall + U_window * surface_window\n",
    "mi = ACH * surface_floor * height / 3600 * ρ\n",
    "\n",
    "solar_gains = solar_m2 * surface_window\n",
    "electrical_load = load_m2 * surface_floor\n",
    "Qsa = persons * sens_heat_person + solar_gains + electrical_load\n",
    "Qla = persons * latent_heat_person\n",
    "\n",
    "QsTZ = (UA + mi * c) * (θo - θI) + Qsa\n",
    "QlTZ = mi * l * (wo - wI) + Qla\n",
    "\n",
    "θS = θI - 15        # °C supply air temperature\n",
    "m = QsTZ / c / (θI - θS)\n",
    "\n",
    "print(f'QsTZ = {QsTZ:.0f} W, QlTZ = {QlTZ:.0f} W')\n",
    "print(f'UA = {UA:.0f} W/K, mi = {mi:.2f} kg/s,\\\n",
    "      Qsa = {Qsa:.0f} W, Qla = {Qla:.0f} W')\n",
    "print(f'm = {m:.3f} kg/s')"
   ]
  },
  {
   "cell_type": "markdown",
   "metadata": {},
   "source": [
    "### Create air handing unit (AHU) object"
   ]
  },
  {
   "cell_type": "code",
   "execution_count": 4,
   "metadata": {},
   "outputs": [],
   "source": [
    "Kθ, Kw = 1e10, 0     # Kw can be 0\n",
    "β = 0.2              # by-pass factor\n",
    "\n",
    "m, mo = 3.1, 1.      # kg/s, mass flow rate: supply & outdoor (fresh) air\n",
    "θo, φo = 32., 0.5    # outdoor conditions\n",
    "θIsp, φIsp = 26., 0.5        # set point for indoor condition\n",
    "\n",
    "mi = 1.35            # kg/s, mass flow rate of infiltration air\n",
    "UA = 675.            # W/K, overall heat coefficient of the building\n",
    "Qsa, Qla = 34000., 4000.     # W, auxiliary loads: sensible & latent\n",
    "\n",
    "parameters = m, mo, β, Kθ, Kw\n",
    "inputs = θo, φo, θIsp, φIsp, mi, UA, Qsa, Qla"
   ]
  },
  {
   "cell_type": "markdown",
   "metadata": {},
   "source": [
    "# System without reaheating ($K_w = 0$)\n",
    "## CAV Constant Air Volume\n",
    "\n",
    "<img src=\"Figures/cool_CAV.png\" alt=\"cool_CAV.png\" style=\"width: 600px;\"/>\n",
    "\n",
    "> Constant air volume (CAV) cooling system without reheating (the sensible heat flow rate of the heating coil HC is zero, $\\dot{Q}_{sHC}=0$; the indoor humidity $\\varphi_4$ is not controlled, $K_w = 0$). Controlled variables: supply air temperature $\\theta_3 = \\theta_4$ and indoor air temperature $\\theta_4$. "
   ]
  },
  {
   "cell_type": "code",
   "execution_count": 11,
   "metadata": {},
   "outputs": [
    {
     "data": {
      "application/vnd.jupyter.widget-view+json": {
       "model_id": "150c7930303f4a198cae43e1908791b5",
       "version_major": 2,
       "version_minor": 0
      },
      "text/plain": [
       "interactive(children=(IntSlider(value=32, description='θo', max=34, min=26), FloatSlider(value=0.8, descriptio…"
      ]
     },
     "metadata": {},
     "output_type": "display_data"
    }
   ],
   "source": [
    "cool1 = cc.MxCcRhTzBl(parameters, inputs)\n",
    "wd.interact(cool1.CAV_wd, θo=(26, 34), φo=(0.4, 1), θIsp=(20, 28), φIsp=(0.4, 1),\n",
    "            mi=(0.5, 3, 0.1), UA=(500, 800, 10), QsBL=(0, 60_000, 500), QlBL=(0, 20_000, 500));"
   ]
  },
  {
   "cell_type": "markdown",
   "metadata": {},
   "source": [
    "> CAV cooling without reheating with control of indoor temperature. Points 3 and 4 are superposed on the pshychrometric diagram."
   ]
  },
  {
   "cell_type": "markdown",
   "metadata": {},
   "source": [
    "# VAV Variable Air Volume"
   ]
  },
  {
   "cell_type": "markdown",
   "metadata": {},
   "source": [
    "## Control of supply air temperature by supply air mass flow rate"
   ]
  },
  {
   "cell_type": "markdown",
   "metadata": {},
   "source": [
    "<img src=\"Figures/cool_VAV_θS.png\" alt=\"cool_VAV_θS.png\" style=\"width: 600px;\"/>\n",
    "\n",
    "> Variable air volume (VAV) cooling system without reheating (the sensible heat flow rate of the heating coil HC is zero, $\\dot{Q}_{sHC}=0$).  The indoor humidity $\\varphi_4$ is not controlled ($K_w = 0$). Controlled variables: supply air temperature $\\theta_3$ and indoor air temperature $\\theta_4$."
   ]
  },
  {
   "cell_type": "code",
   "execution_count": 12,
   "metadata": {},
   "outputs": [
    {
     "data": {
      "application/vnd.jupyter.widget-view+json": {
       "model_id": "c547abecc2dc45e7bf58753e1d094b13",
       "version_major": 2,
       "version_minor": 0
      },
      "text/plain": [
       "interactive(children=(Text(value='θS', description='value'), IntSlider(value=18, description='sp', max=21, min…"
      ]
     },
     "metadata": {},
     "output_type": "display_data"
    }
   ],
   "source": [
    "cool2 = cc.MxCcRhTzBl(parameters, inputs)\n",
    "wd.interact(cool2.VAV_wd, value='θS', sp=(14, 21), θo=(28, 36), φo=(0.4, 1),\n",
    "            θIsp=(22, 26), φIsp=(0.4, 0.8),\n",
    "            mi=(0.5, 3, 0.1), UA=(500, 800, 10), QsBL=(0, 60_000, 500), QlBL=(0, 20_000, 500));"
   ]
  },
  {
   "cell_type": "markdown",
   "metadata": {},
   "source": [
    "> VAV cooling without reheating with control of indoor temperature and supply air. Points 3 and 4 are superposed on the pshychrometric diagram."
   ]
  },
  {
   "cell_type": "markdown",
   "metadata": {},
   "source": [
    "### Control of indoor air humidity by supply air mass flow rate"
   ]
  },
  {
   "cell_type": "markdown",
   "metadata": {},
   "source": [
    "<img src=\"Figures/cool_VAV_φI.png\" alt=\"cool_VAV_φI.png\" style=\"width: 600px;\"/>\n",
    "\n",
    "> Variable air volume (VAV) cooling system without reheating (the sensible heat flow rate of the heating coil HC is zero, $\\dot{Q}_{sHC}=0$).  The indoor humidity $\\varphi_5$ is controlled by a non-linear (least-sqaures) controller. Controlled variable: indoor air temperature $\\theta_4$."
   ]
  },
  {
   "cell_type": "markdown",
   "metadata": {},
   "source": [
    "The indoor air humidity is controlled by the mass flow rate of dry air, $\\dot{m}_{da}$ in the Air Handing Unit (AHU).\n",
    "The heating coil HC is not used (*KwI* = 0)."
   ]
  },
  {
   "cell_type": "code",
   "execution_count": 13,
   "metadata": {},
   "outputs": [
    {
     "data": {
      "application/vnd.jupyter.widget-view+json": {
       "model_id": "b438ca28bd124c7e82a7e2b53c1866bf",
       "version_major": 2,
       "version_minor": 0
      },
      "text/plain": [
       "interactive(children=(Text(value='φI', description='value'), FloatSlider(value=0.8, description='sp', max=0.8,…"
      ]
     },
     "metadata": {},
     "output_type": "display_data"
    }
   ],
   "source": [
    "cool3 = cc.MxCcRhTzBl(parameters, inputs)\n",
    "wd.interact(cool3.VAV_wd, value='φI', sp=(0.4, 0.8), θo=(28, 36), φo=(0.4, 1),\n",
    "            θIsp=(22, 26), φIsp=(0.4, 0.8),\n",
    "            mi=(0.5, 3, 0.05), UA=(500, 800, 10), Qsa=(0, 60_000, 500), Qla=(0, 20_000, 500));"
   ]
  },
  {
   "cell_type": "markdown",
   "metadata": {},
   "source": [
    "> VAV cooling without reheating with control of indoor temperature and humidity. Points 3 and 4 are superposed on the pshychrometric diagram."
   ]
  },
  {
   "cell_type": "markdown",
   "metadata": {},
   "source": [
    "# Variable by-pass of the cooling coil"
   ]
  },
  {
   "cell_type": "markdown",
   "metadata": {},
   "source": [
    "## CAV with control of supply air temperature $\\theta_S$\n",
    "\n",
    "<img src=\"Figures/cool_CAVb_θS.png\" alt=\"cool_CAVb_θS.png\" style=\"width: 600px;\"/>\n",
    "\n",
    "> Constant air volume (CAV) cooling system without reheating (the sensible heat flow rate of the heating coil HC is zero, $\\dot{Q}_{sHC}=0$).  The supply air temperature $\\theta_4$ is controlled by a non-linear (least-sqaures) controller. Controlled variable: indoor air temperature $\\theta_4$.\n",
    "\n",
    "> **Note**: The supply air temperature, $\\theta_S$, cannot be controlled when $\\dot{m}$, $\\theta_I$ and $\\dot{Q}_{sTZ}$ are imposed. This results from the sensible heat balance on the thermal zone: $\\dot{m}c\\theta_S - \\dot{m}c\\theta_I + \\dot{Q}_{sTZ} = 0$"
   ]
  },
  {
   "cell_type": "markdown",
   "metadata": {},
   "source": [
    "## CAV control of indoor air humidity\n",
    "                         \n",
    "<img src=\"Figures/cool_CAVb_φI.png\" alt=\"cool_CAVb_φI.png\" style=\"width: 600px;\"/>\n",
    "\n",
    "> Constant air volume (CAV) cooling system without reheating (the sensible heat flow rate of the heating coil HC is zero, $\\dot{Q}_{sHC}=0$). The indoor air humidity $\\varphi_5$ is controlled by a non-linear (least-sqaures) controller. Controlled variable: indoor air temperature $\\theta_4$.\n"
   ]
  },
  {
   "cell_type": "code",
   "execution_count": 14,
   "metadata": {},
   "outputs": [
    {
     "data": {
      "application/vnd.jupyter.widget-view+json": {
       "model_id": "31e0de089c494488a5981a885604d4b1",
       "version_major": 2,
       "version_minor": 0
      },
      "text/plain": [
       "interactive(children=(Text(value='φI', description='value'), FloatSlider(value=0.6, description='sp', max=0.6,…"
      ]
     },
     "metadata": {},
     "output_type": "display_data"
    }
   ],
   "source": [
    "cool4 = cc.MxCcRhTzBl(parameters, inputs)\n",
    "wd.interact(cool4.VBP_wd, value='φI', sp=(0.2, 0.6), θo=(28, 36), φo=(0.4, 1),\n",
    "            θIsp=(22, 26), φIsp=(0.4, 0.8),\n",
    "            mi=(0.5, 3, 0.1), UA=(500, 800, 10), Qsa=(0, 60_000, 500), Qla=(0, 20_000, 500));"
   ]
  },
  {
   "cell_type": "markdown",
   "metadata": {},
   "source": [
    "**Note**: By changing the initial guess for $\\beta$ in `β_ls(self, value, sp)`, a second solution may be found (i.e. the second secant point of the saturation curve).  "
   ]
  },
  {
   "cell_type": "markdown",
   "metadata": {},
   "source": [
    "## System with reheating\n",
    "\n",
    "### CAV: control indoor temperature & humidity\n",
    "\n",
    "<img src=\"Figures/cool_CAV.png\" alt=\"cool_CAV.png\" style=\"width: 600px;\"/>\n",
    "\n",
    "> Constant air volume (CAV) cooling system with reheating. The indoor air temperature $\\theta_4$ and humidity $\\varphi_4$ are controlled."
   ]
  },
  {
   "cell_type": "code",
   "execution_count": 15,
   "metadata": {},
   "outputs": [
    {
     "data": {
      "application/vnd.jupyter.widget-view+json": {
       "model_id": "0526201a102b4a1f9cd841e10c7da831",
       "version_major": 2,
       "version_minor": 0
      },
      "text/plain": [
       "interactive(children=(IntSlider(value=32, description='θo', max=34, min=26), FloatSlider(value=0.8, descriptio…"
      ]
     },
     "metadata": {},
     "output_type": "display_data"
    }
   ],
   "source": [
    "cool5 = cc.MxCcRhTzBl(parameters, inputs)\n",
    "β, Kw = 0.2, 1e10\n",
    "cool5.actual[[2, 4]] = β, Kw\n",
    "wd.interact(cool5.CAV_wd, θo=(26, 34), φo=(0.4, 1), θIsp=(20, 28), φIsp=(0.4, 1),\n",
    "            mi=(0.5, 3, 0.1), UA=(500, 800, 10), Qsa=(0, 60_000, 500), Qla=(0, 20_000, 500));"
   ]
  },
  {
   "cell_type": "markdown",
   "metadata": {},
   "source": [
    "## VAV: control indoor temperature & humidity and supply temperature\n",
    " \n",
    "<img src=\"Figures/cool_VAV_θS.png\" alt=\"cool_VAV_θS.png\" style=\"width: 600px;\"/>\n",
    "\n",
    "> Variable air volume (VAV) cooling system with reheating. The indoor air temperature $\\theta_4$ and humidity $\\varphi_4$ and the supply air temperature $\\theta_4$ are controlled."
   ]
  },
  {
   "cell_type": "code",
   "execution_count": 16,
   "metadata": {},
   "outputs": [
    {
     "data": {
      "application/vnd.jupyter.widget-view+json": {
       "model_id": "45985bc7876349f8a775cf3d55bf5379",
       "version_major": 2,
       "version_minor": 0
      },
      "text/plain": [
       "interactive(children=(Text(value='θS', description='value'), IntSlider(value=18, description='sp', max=21, min…"
      ]
     },
     "metadata": {},
     "output_type": "display_data"
    }
   ],
   "source": [
    "cool6 = cc.MxCcRhTzBl(parameters, inputs)\n",
    "Kw = 1e10\n",
    "cool6.actual[4] = Kw\n",
    "wd.interact(cool6.VAV_wd, value='θS', sp=(14, 21), θo=(28, 36), φo=(0.4, 1),\n",
    "            θIsp=(22, 26), φIsp=(0.4, 0.8),\n",
    "            mi=(0.5, 3, 0.1), UA=(500, 800, 10), Qsa=(0, 60_000, 500), Qla=(0, 20_000, 500));"
   ]
  },
  {
   "cell_type": "code",
   "execution_count": null,
   "metadata": {},
   "outputs": [],
   "source": []
  }
 ],
 "metadata": {
  "kernelspec": {
   "display_name": "Python 3 (ipykernel)",
   "language": "python",
   "name": "python3"
  },
  "language_info": {
   "codemirror_mode": {
    "name": "ipython",
    "version": 3
   },
   "file_extension": ".py",
   "mimetype": "text/x-python",
   "name": "python",
   "nbconvert_exporter": "python",
   "pygments_lexer": "ipython3",
   "version": "3.9.7"
  }
 },
 "nbformat": 4,
 "nbformat_minor": 4
}
