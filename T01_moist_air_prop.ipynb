{
 "cells": [
  {
   "cell_type": "markdown",
   "metadata": {},
   "source": [
    "# Moist air properties"
   ]
  },
  {
   "cell_type": "markdown",
   "metadata": {},
   "source": [
    "Let's consider a volume flow rate of 10 m³/s of humid air at 25 °C, relative humidity 80 % in an HVAC sytem located at 1000 m of altitude.\n",
    "\n",
    "In these conditions, find:\n",
    "- the partial pressure of the dry air;\n",
    "- the water vapor conntent (or the humidity ration);\n",
    "- the density of the humid air;\n",
    "- the specific volume of the humid air;\n",
    "- the specific enthalpy of the humid air;\n",
    "- the mass flow rate of humid air;\n",
    "- the mass flow rate of dry air;\n",
    "- the mass flow rate of water vapor that needs to be added to the air flow in order to obtain saturated air."
   ]
  },
  {
   "cell_type": "code",
   "execution_count": 1,
   "metadata": {},
   "outputs": [],
   "source": [
    "V = 10   # m3/s, volume flow rate\n",
    "θ = 25   # °C, air temperature\n",
    "ϕ = 0.8  # -, relative humidity\n",
    "z = 1000 # m, altitude\n",
    "\n",
    "T = θ + 273.15 # K, air temperature"
   ]
  },
  {
   "cell_type": "markdown",
   "metadata": {},
   "source": [
    "**Note**: [Unicode symbols](https://www.compart.com/en/unicode), such as the Greek ketters θ or ϕ, can be used. "
   ]
  },
  {
   "cell_type": "code",
   "execution_count": 2,
   "metadata": {},
   "outputs": [],
   "source": [
    "import numpy as np\n",
    "\n",
    "# Physical constants\n",
    "l = 2495e3  # J/kg, specific latent heat for vaprization\n",
    "c = 1e3     # J/(kg K), specific heat of dry air\n",
    "cv = 1.96e3 # J/(kg K), specific heat of water vapor\n",
    "\n",
    "M = 28.9645 # kg/kmol, molar mass of dry air\n",
    "Mv = 18.015 # kg/kmol, molar mass of water vapor\n",
    "R = 8314    # J/(kmol K), gas constant"
   ]
  },
  {
   "cell_type": "markdown",
   "metadata": {
    "tags": []
   },
   "source": [
    "## Partial pressure of dry air\n",
    "\n",
    "The partial pressure of the dry air, $p_{da}$, is the total pressure, $p$, minus the pressure of the of the vapors, $p_{v} = \\varphi p_{vs}$:\n",
    "\n",
    "$$ p_{da} = p - p_v = p - \\varphi p_{vs}$$"
   ]
  },
  {
   "cell_type": "code",
   "execution_count": 3,
   "metadata": {},
   "outputs": [],
   "source": [
    "p = 101.325e3 * (1 - 2.25577e-5 * z)**5.2559   # Pa, air pressure as a function of altitude"
   ]
  },
  {
   "cell_type": "code",
   "execution_count": 4,
   "metadata": {},
   "outputs": [],
   "source": [
    "def pvs(θ: float) -> float:\n",
    "    \"\"\"\n",
    "    Saturation vapor pressure in Pz as a function of tempetature θ in °C\n",
    "    \"\"\"\n",
    "    import numpy as np\n",
    "    T = θ + 273.15      # K, temperature\n",
    "    # pws(T) saturation pressure over liquid water\n",
    "    # for temp range [0 200] °C\n",
    "    C8 = -5.8002206e3\n",
    "    C9 = 1.3914993e0\n",
    "    C10 = -4.8640239e-2\n",
    "    C11 = 4.1764768e-5\n",
    "    C12 = -1.4452093e-8\n",
    "    C13 = 6.5459673e0\n",
    "    return np.exp(C8/T + C9 + C10 * T + C11 * T **2 + C12 * T **3 + C13 * np.log(T))  # Pa"
   ]
  },
  {
   "cell_type": "code",
   "execution_count": 5,
   "metadata": {},
   "outputs": [],
   "source": [
    "pv = ϕ * pvs(θ)    # Pa, vapor pressure as a function of relative humidity ϕ and temperature θ"
   ]
  },
  {
   "cell_type": "code",
   "execution_count": 6,
   "metadata": {},
   "outputs": [
    {
     "name": "stdout",
     "output_type": "stream",
     "text": [
      "Partial pressure of the dry air is: 87339.14623965876 Pa\n"
     ]
    }
   ],
   "source": [
    "pda = p - pv       # Pa, dry-air partial pressure\n",
    "print(\"Partial pressure of the dry air is:\", pda, \"Pa\")"
   ]
  },
  {
   "cell_type": "code",
   "execution_count": 7,
   "metadata": {},
   "outputs": [
    {
     "name": "stdout",
     "output_type": "stream",
     "text": [
      "Partial pressure of the dry air is: 87.3 kPa\n"
     ]
    }
   ],
   "source": [
    "print(f\"Partial pressure of the dry air is: {pda/1000:.1f} kPa\")"
   ]
  },
  {
   "cell_type": "markdown",
   "metadata": {},
   "source": [
    "## Water content (humidity ratio)"
   ]
  },
  {
   "cell_type": "code",
   "execution_count": 8,
   "metadata": {},
   "outputs": [
    {
     "name": "stdout",
     "output_type": "stream",
     "text": [
      "Water content is: 18.06 g/kg (mass of vapor per mass of dry air)\n"
     ]
    }
   ],
   "source": [
    "w = Mv / M * pv / (p - pv)  # kg/kg, humidity ratio (mass vapor / mass dry air)\n",
    "print(f\"Water content is: {1000 * w:.2f} g/kg (mass of vapor per mass of dry air)\")"
   ]
  },
  {
   "cell_type": "markdown",
   "metadata": {
    "tags": []
   },
   "source": [
    "## Density of moist air\n",
    "\n",
    "The density of humid air is \n",
    "$$\\rho = \\frac{m_{ha}}{V} = \\frac{M}{R} \\frac{p}{T} - \\varphi \\frac{M - M_v}{R} \\frac{p_{vs}}{T}$$\n",
    "\n",
    "Density $\\rho$ decreases with the increase in relative humidity, $\\varphi$."
   ]
  },
  {
   "cell_type": "code",
   "execution_count": 9,
   "metadata": {},
   "outputs": [
    {
     "name": "stdout",
     "output_type": "stream",
     "text": [
      "Density of moist air is: 1.04 kg/m³\n"
     ]
    }
   ],
   "source": [
    "ρ = M / R * pda / T + Mv / R * pv / T   # kg/m^3, density\n",
    "\n",
    "# To emphasize that the density of the moist air decreases with\n",
    "# the increase of the  relative humidity:\n",
    "ρ = M / R * p / T  - (M - Mv) / R * ϕ * pvs(θ) / T\n",
    "print(f'Density of moist air is: {ρ:.2f} kg/m³')"
   ]
  },
  {
   "cell_type": "markdown",
   "metadata": {},
   "source": [
    "## Specific volume"
   ]
  },
  {
   "cell_type": "code",
   "execution_count": 10,
   "metadata": {},
   "outputs": [
    {
     "name": "stdout",
     "output_type": "stream",
     "text": [
      "Specific volume is: 0.98 m³/kg\n"
     ]
    }
   ],
   "source": [
    "v = R / Mv * (Mv / M + w) * T / p\n",
    "print(f'Specific volume is: {v:.2f} m³/kg')"
   ]
  },
  {
   "cell_type": "markdown",
   "metadata": {
    "tags": []
   },
   "source": [
    "**Note**: The specific volume coresponds to the volume divided by the mass of dry air. Therefore $v \\neq \\frac{1}{\\rho}$: the specific volume, $v = \\frac{V}{m_{da}}$ is different of the massic volume  $\\frac{1}{\\rho} = \\frac{V}{m_{ha}}$, where $m_{da}$ is the mass of dry air and $m_{ha}$ is the mass of hummid air. The mass of humid air is $m_{ha} = m_{da} + m_v$, where $m_{da}$ is the mass of dry-air and $m_v$ is the mass of vapor. "
   ]
  },
  {
   "cell_type": "code",
   "execution_count": 11,
   "metadata": {},
   "outputs": [
    {
     "name": "stdout",
     "output_type": "stream",
     "text": [
      "Massic volume 1/ρ is: 0.96 m³/kg\n"
     ]
    }
   ],
   "source": [
    "print(f'Massic volume 1/ρ is: {1 / ρ:.2f} m³/kg')"
   ]
  },
  {
   "cell_type": "markdown",
   "metadata": {},
   "source": [
    "## Specific enthalpy"
   ]
  },
  {
   "cell_type": "code",
   "execution_count": 12,
   "metadata": {},
   "outputs": [
    {
     "name": "stdout",
     "output_type": "stream",
     "text": [
      "Specific enthalpy is: 70.932 kJ/kg\n",
      "Specific enthalpy with simplified formula is: 70.048 kJ/kg\n",
      "Relative error done by using the simplified formula: -1.247 %\n"
     ]
    }
   ],
   "source": [
    "h = c * θ + w * (l + cv * θ)\n",
    "h1 = c * θ + w * l\n",
    "print(f\"Specific enthalpy is: {h/1000:.3f} kJ/kg\")\n",
    "print(f\"Specific enthalpy with simplified formula is: {h1/1000:.3f} kJ/kg\")\n",
    "print(f\"Relative error done by using the simplified formula: {(h1 - h) / h * 100:.3f} %\")"
   ]
  },
  {
   "cell_type": "markdown",
   "metadata": {},
   "source": [
    "## Mass flow rate of humid air"
   ]
  },
  {
   "cell_type": "code",
   "execution_count": 13,
   "metadata": {},
   "outputs": [
    {
     "name": "stdout",
     "output_type": "stream",
     "text": [
      "Mass flow rate of humid air is: 10.4 kg/s\n"
     ]
    }
   ],
   "source": [
    "mha = ρ * V     # kg/s mass flow rate of humid air\n",
    "print(f'Mass flow rate of humid air is: {mha:.1f} kg/s')"
   ]
  },
  {
   "cell_type": "markdown",
   "metadata": {},
   "source": [
    "## Mass flow rate of dry air"
   ]
  },
  {
   "cell_type": "code",
   "execution_count": 14,
   "metadata": {},
   "outputs": [
    {
     "name": "stdout",
     "output_type": "stream",
     "text": [
      "Mass flow rate of dry air: 10.2 kg/s\n"
     ]
    }
   ],
   "source": [
    "mda = V / v     # kg/s, mass flow rate of humid air\n",
    "print(f\"Mass flow rate of dry air: {mda:.1f} kg/s\")"
   ]
  },
  {
   "cell_type": "markdown",
   "metadata": {},
   "source": [
    "## Mass flow rate of water for saturation"
   ]
  },
  {
   "cell_type": "code",
   "execution_count": 15,
   "metadata": {},
   "outputs": [
    {
     "name": "stdout",
     "output_type": "stream",
     "text": [
      "Mass flow rate of water needed to saturate the air flow is: 47.749 g/s or 172 kg/h.\n"
     ]
    }
   ],
   "source": [
    "ws = Mv / M * pvs(θ) / (p - pvs(θ))    # kg/kg, water content at saturation\n",
    "m = V / v                              # kg/s, mass flow rate of dry air\n",
    "mv = (ws - w) * m                      # kg/s, mass flow of water needed to saturate\n",
    "print(f'Mass flow rate of water needed to saturate the air flow is: \\\n",
    "{1000 * mv:.3f} g/s or {3600 * mv:.0f} kg/h.')"
   ]
  },
  {
   "cell_type": "markdown",
   "metadata": {},
   "source": [
    "## Bibliography\n",
    "\n",
    "1. Fundamentals, ASHRAE Handbook (2009). Chapter 1: Psychrometrics. *American Society of Heating, Refrigerating and Air-Conditioning Engineers. Atlanta, USA*\n",
    "\n",
    "2. TRANE (2012) [Psychrometry: One of the Fundamental Series](https://www.tranebelgium.com/files/book-doc/19/en/19.vwljh8zn.pdf)"
   ]
  },
  {
   "cell_type": "code",
   "execution_count": null,
   "metadata": {},
   "outputs": [],
   "source": []
  }
 ],
 "metadata": {
  "kernelspec": {
   "display_name": "Python 3 (ipykernel)",
   "language": "python",
   "name": "python3"
  },
  "language_info": {
   "codemirror_mode": {
    "name": "ipython",
    "version": 3
   },
   "file_extension": ".py",
   "mimetype": "text/x-python",
   "name": "python",
   "nbconvert_exporter": "python",
   "pygments_lexer": "ipython3",
   "version": "3.9.7"
  },
  "toc-autonumbering": true
 },
 "nbformat": 4,
 "nbformat_minor": 4
}
