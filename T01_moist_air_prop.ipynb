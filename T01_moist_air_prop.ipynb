{
 "cells": [
  {
   "cell_type": "markdown",
   "metadata": {},
   "source": [
    "# Moist air properties"
   ]
  },
  {
   "cell_type": "markdown",
   "metadata": {},
   "source": [
    "Let's consider a volume flow rate of 10 m³/s of humid air at 25 °C, relative humidity 80 % in an HVAC system located at 1000 m of altitude.\n",
    "\n",
    "In these conditions, find:\n",
    "- the partial pressure of the dry air;\n",
    "- the water vapor content (or the humidity ratio);\n",
    "- the density of the humid air;\n",
    "- the specific volume of the humid air;\n",
    "- the specific enthalpy of the humid air;\n",
    "- the mass flow rate of humid air;\n",
    "- the mass flow rate of dry air;\n",
    "- the mass flow rate of water vapor that needs to be added to the air flow in order to obtain saturated air."
   ]
  },
  {
   "cell_type": "code",
   "execution_count": 1,
   "metadata": {},
   "outputs": [],
   "source": [
    "import numpy as np\n",
    "\n",
    "# Data\n",
    "V = 10   # m³/s, volume flow rate\n",
    "θ = 25   # °C, air temperature\n",
    "ϕ = 0.8  # -, relative humidity\n",
    "z = 1000 # m, altitude\n",
    "\n",
    "T = θ + 273.15 # K, air temperature"
   ]
  },
  {
   "cell_type": "markdown",
   "metadata": {},
   "source": [
    "**Note**: [Unicode symbols](https://www.compart.com/en/unicode), such as the Greek ketters θ or ϕ, [subscripts and superscripts](https://en.wikipedia.org/wiki/Unicode_subscripts_and_superscripts#Superscripts_and_subscripts_block) can be used. "
   ]
  },
  {
   "cell_type": "code",
   "execution_count": 2,
   "metadata": {},
   "outputs": [],
   "source": [
    "# Physical constants\n",
    "l = 2495e3  # J/kg, specific latent heat for vaporization\n",
    "c = 1e3     # J/(kg K), specific heat of dry air\n",
    "cv = 1.96e3 # J/(kg K), specific heat of water vapor\n",
    "\n",
    "M = 28.9645 # kg/kmol, molar mass of dry air\n",
    "Mv = 18.015 # kg/kmol, molar mass of water vapor\n",
    "R = 8314    # J/(kmol K), gas constant"
   ]
  },
  {
   "cell_type": "markdown",
   "metadata": {
    "tags": []
   },
   "source": [
    "## Partial pressure of dry air\n",
    "\n",
    "The partial pressure of the dry air, $p_{da}$, is:\n",
    "\n",
    "$$ p_{da} = p - p_v = p - \\phi p_{vs}$$\n",
    "\n",
    "where:\n",
    "- $p$ is the total pressure, Pa;\n",
    "- $p_{v}$ - [vapour pressure of water](https://en.wikipedia.org/wiki/Vapour_pressure_of_water), Pa;\n",
    "- $p_{vs}$ - [saturation vapour pressure](https://en.wikipedia.org/wiki/Vapour_pressure_of_water), Pa;\n",
    "- $\\phi$ - [relative humidity](https://en.wikipedia.org/wiki/Humidity) of the air-water mixture, dimensionless.\n"
   ]
  },
  {
   "cell_type": "code",
   "execution_count": 3,
   "metadata": {},
   "outputs": [],
   "source": [
    "# air pressure as a function of altitude\n",
    "p = 101.325e3 * (1 - 2.25577e-5 * z)**5.2559   # Pa"
   ]
  },
  {
   "cell_type": "code",
   "execution_count": 4,
   "metadata": {},
   "outputs": [],
   "source": [
    "def pvs(θ: float) -> float:\n",
    "    \"\"\"\n",
    "    Saturation vapor pressure over liquid water, in Pa,\n",
    "    as a function of tempetature θ, in °C\n",
    "    Valid for temperaure range 0 ... 200°C\n",
    "    ASHRAE-01 (2017) eq. (6), p. 1.8\n",
    "    \"\"\"\n",
    "    import numpy as np\n",
    "    T = θ + 273.15      # K, temperature\n",
    "\n",
    "    C8 = -5.800_220_6e3\n",
    "    C9 = 1.391_499_3e0\n",
    "    C10 = -4.864_023_9e-2\n",
    "    C11 = 4.176_476_8e-5\n",
    "    C12 = -1.445_209_3e-8\n",
    "    C13 = 6.545_967_3e0\n",
    "    return np.exp(C8/T + C9 + C10 * T + C11 * T **2 + C12 * T **3 + C13 * np.log(T))  # Pa"
   ]
  },
  {
   "cell_type": "code",
   "execution_count": 5,
   "metadata": {},
   "outputs": [],
   "source": [
    "# vapor pressure as a function of relative humidity ϕ and temperature θ\n",
    "pv = ϕ * pvs(θ)    # Pa"
   ]
  },
  {
   "cell_type": "code",
   "execution_count": 6,
   "metadata": {},
   "outputs": [
    {
     "name": "stdout",
     "output_type": "stream",
     "text": [
      "Partial pressure of the dry air is: 87339 Pa = 87.3 kPa\n"
     ]
    }
   ],
   "source": [
    "# dry-air partial pressure\n",
    "pda = p - pv       # Pa\n",
    "print(f\"Partial pressure of the dry air is: {pda:.0f} Pa = {pda/1000:.1f} kPa\")"
   ]
  },
  {
   "cell_type": "markdown",
   "metadata": {},
   "source": [
    "## Humidity ratio (mixing ratio)\n",
    "\n",
    "Water content (or humidity ratio) is (ASHRAE-F01 (2017), eq. 20, p. 1.9):\n",
    "\n",
    "$$w ≡ \\frac{m_v}{m} = \\frac{\\dot{m_v}}{\\dot{m}} = \\frac{M_v}{M}\\frac{p_v}{p -p_v}$$\n",
    "\n",
    "where:\n",
    "- $\\dot{m}_v$ is the mass flow rate of vapor, kg/s;\n",
    "- $\\dot{m}$ - mass flow rate of dry air, kg/s;\n",
    "- $M = 28.9645 \\, \\mathrm{kg/kmol}$ - molar mass of dry air;\n",
    "- $Mv = 18.015 \\, \\mathrm{kg/kmol}$ - molar mass of water vapor;\n",
    "- $p$ - total pressure of humid air, Pa;\n",
    "- $p_v$ - vapor pressure, Pa.\n",
    "\n",
    "*Note* (ASHRAE-F01 (2017), p. 1.8):\n",
    "- *humidity ratio*, $w$, is the mass of water vapor divided by the mass of dry air, $w = m_v /m$;\n",
    "- *specific humidity*, $\\gamma$, is the mass of water vapor divided by the mass of moist air, $\\gamma = m_v /(m_v + m)$."
   ]
  },
  {
   "cell_type": "code",
   "execution_count": 7,
   "metadata": {},
   "outputs": [
    {
     "name": "stdout",
     "output_type": "stream",
     "text": [
      "Water content is: 18.06 g/kg (mass of vapor per mass of dry air)\n"
     ]
    }
   ],
   "source": [
    "w = Mv / M * pv / (p - pv)  # kg/kg, humidity ratio (mass vapor / mass dry air)\n",
    "print(f\"Water content is: {1000 * w:.2f} g/kg (mass of vapor per mass of dry air)\")"
   ]
  },
  {
   "cell_type": "markdown",
   "metadata": {
    "tags": []
   },
   "source": [
    "## Density of moist air\n",
    "\n",
    "The density of humid air is \n",
    "$$\\rho = \\frac{m_{ha}}{V} = \\frac{M}{R} \\frac{p}{T}+\\frac{M_v}{R}\\frac{p_v}{T}$$\n"
   ]
  },
  {
   "cell_type": "code",
   "execution_count": 8,
   "metadata": {},
   "outputs": [
    {
     "name": "stdout",
     "output_type": "stream",
     "text": [
      "Density of moist air is: 1.04 kg/m³\n"
     ]
    }
   ],
   "source": [
    "ρ = M / R * pda / T + Mv / R * pv / T   # kg/m³, density\n",
    "print(f'Density of moist air is: {ρ:.2f} kg/m³')"
   ]
  },
  {
   "cell_type": "markdown",
   "metadata": {},
   "source": [
    "Equivalently,\n",
    "\n",
    "$$\\rho = \\frac{M}{R} \\frac{p}{T} - \\phi \\frac{M - M_v}{R} \\frac{p_{vs}}{T}$$\n",
    "\n",
    "Density, $\\rho$, decreases with the increase in relative humidity, $\\phi$."
   ]
  },
  {
   "cell_type": "code",
   "execution_count": 9,
   "metadata": {},
   "outputs": [
    {
     "name": "stdout",
     "output_type": "stream",
     "text": [
      "For ϕ = 80 %, density of moist air is: 1.04 kg/m³\n"
     ]
    }
   ],
   "source": [
    "ρ = M / R * p / T  - ϕ * (M - Mv) / R * pvs(θ) / T\n",
    "print(f'For ϕ = {100 * ϕ:.0f} %, density of moist air is: {ρ:.2f} kg/m³')"
   ]
  },
  {
   "cell_type": "markdown",
   "metadata": {},
   "source": [
    "This last formulation emphasizes that the density of the moist air decreases with the increase of the  relative humidity."
   ]
  },
  {
   "cell_type": "code",
   "execution_count": 10,
   "metadata": {},
   "outputs": [
    {
     "name": "stdout",
     "output_type": "stream",
     "text": [
      "For ϕ = 0 %, density of moist air is: 1.05 kg/m³\n"
     ]
    }
   ],
   "source": [
    "ρda = M / R * p / T\n",
    "print(f'For ϕ = 0 %, density of moist air is: {ρda:.2f} kg/m³')"
   ]
  },
  {
   "cell_type": "markdown",
   "metadata": {},
   "source": [
    "The relative difference between the density of the humid air $(\\theta = 0°C, \\phi = 80 \\, \\%)$ and the dry air $(\\theta = 0°C, \\phi = 0 \\, \\%)$ is relatively small, but as a result of this difference, the humid air is above in a stratified atmophere."
   ]
  },
  {
   "cell_type": "code",
   "execution_count": 11,
   "metadata": {},
   "outputs": [
    {
     "name": "stdout",
     "output_type": "stream",
     "text": [
      "Relative difference between densities of humid and dry air is: -1.1 %\n"
     ]
    }
   ],
   "source": [
    "print(f'Relative difference between densities of \\\n",
    "humid and dry air is: {(ρ - ρda) / ρ * 100:.1f} %')"
   ]
  },
  {
   "cell_type": "markdown",
   "metadata": {
    "tags": []
   },
   "source": [
    "## Specific volume"
   ]
  },
  {
   "cell_type": "markdown",
   "metadata": {},
   "source": [
    "The specific volume is:\n",
    "$$v = \\frac{V}{m} = \\frac{1}{\\rho} = \\frac{R}{M_v} \\left (\\frac{M_v}{M} + w  \\right ) \\frac{T}{p}$$"
   ]
  },
  {
   "cell_type": "code",
   "execution_count": 12,
   "metadata": {},
   "outputs": [
    {
     "name": "stdout",
     "output_type": "stream",
     "text": [
      "Specific volume is: 0.98 m³/kg\n"
     ]
    }
   ],
   "source": [
    "v = R / Mv * (Mv / M + w) * T / p\n",
    "print(f'Specific volume is: {v:.2f} m³/kg')"
   ]
  },
  {
   "cell_type": "markdown",
   "metadata": {
    "tags": []
   },
   "source": [
    "In the field of air conditioning, **specific** means relative to the mass of dry air,$m$, while **massic** means relative to the mass of humid air $m_{ha}$, which is the mass dry air, $m$, plus the mass of vapor, $m_v$:\n",
    "$$m_{ha} = m + m_v$$.\n",
    "\n",
    "The specific volume coresponds to the volume divided by the mass of dry air, $m$. Therefore $v \\neq \\frac{1}{\\rho}$: the specific volume, $v = \\frac{V}{m}$, is different of the massic volume,  $\\frac{1}{\\rho} = \\frac{V}{m_{ha}}$, where $m$ is the mass of dry air and $m_{ha}$ is the mass of hummid air."
   ]
  },
  {
   "cell_type": "code",
   "execution_count": 13,
   "metadata": {},
   "outputs": [
    {
     "name": "stdout",
     "output_type": "stream",
     "text": [
      "Massic volume 1/ρ is: 0.96 m³/kg, different of\n",
      "specific volume, v : 0.98 m³/kg\n"
     ]
    }
   ],
   "source": [
    "print(f'Massic volume 1/ρ is: {1 / ρ:.2f} m³/kg, different of')\n",
    "print(f'specific volume, v : {v:.2f} m³/kg')"
   ]
  },
  {
   "cell_type": "markdown",
   "metadata": {},
   "source": [
    "## Specific enthalpy\n",
    "\n",
    "Specific ethalpy is the enthalpy, $H$, for the unit of mass of dry air,\n",
    "\n",
    "$$h = \\frac{H}{m} = c\\theta + w(l + c_v \\theta)$$"
   ]
  },
  {
   "cell_type": "code",
   "execution_count": 14,
   "metadata": {},
   "outputs": [
    {
     "name": "stdout",
     "output_type": "stream",
     "text": [
      "Specific enthalpy is: 70.932 kJ/kg\n"
     ]
    }
   ],
   "source": [
    "h = c * θ + w * (l + cv * θ)\n",
    "print(f\"Specific enthalpy is: {h/1000:.3f} kJ/kg\")"
   ]
  },
  {
   "cell_type": "markdown",
   "metadata": {},
   "source": [
    "If we neglect the sensible enthalpy of the water vapor, $c_v \\theta$, then the specific enthalpy is (Ghiaus 2014):\n",
    "$$h = c \\theta + w l$$"
   ]
  },
  {
   "cell_type": "code",
   "execution_count": 15,
   "metadata": {},
   "outputs": [
    {
     "name": "stdout",
     "output_type": "stream",
     "text": [
      "Specific enthalpy with simplified formula is: 70.048 kJ/kg\n"
     ]
    }
   ],
   "source": [
    "h1 = c * θ + w * l\n",
    "print(f\"Specific enthalpy with simplified formula is: {h1/1000:.3f} kJ/kg\")"
   ]
  },
  {
   "cell_type": "markdown",
   "metadata": {},
   "source": [
    "The error due to this approximtion is generally small (Ghiaus 2014)."
   ]
  },
  {
   "cell_type": "code",
   "execution_count": 16,
   "metadata": {},
   "outputs": [
    {
     "name": "stdout",
     "output_type": "stream",
     "text": [
      "Relative error done by neglecting the sensible heat of water vapor:-1.247 %\n"
     ]
    }
   ],
   "source": [
    "print(f\"Relative error done by neglecting the sensible heat of water vapor:\\\n",
    "{(h1 - h) / h * 100:.3f} %\")"
   ]
  },
  {
   "cell_type": "markdown",
   "metadata": {
    "tags": []
   },
   "source": [
    "## Mass flow rate of humid air"
   ]
  },
  {
   "cell_type": "markdown",
   "metadata": {},
   "source": [
    "The mass flow rate of humid air, i.e. dry air and vapor, is:\n",
    "$$\\dot m_{ha} = \\frac{\\rho}{\\dot{V}}$$"
   ]
  },
  {
   "cell_type": "code",
   "execution_count": 17,
   "metadata": {},
   "outputs": [
    {
     "name": "stdout",
     "output_type": "stream",
     "text": [
      "Mass flow rate of humid air is: 10.4 kg/s\n"
     ]
    }
   ],
   "source": [
    "mha = ρ * V     # kg/s mass flow rate of humid air\n",
    "print(f'Mass flow rate of humid air is: {mha:.1f} kg/s')"
   ]
  },
  {
   "cell_type": "markdown",
   "metadata": {},
   "source": [
    "## Mass flow rate of dry air\n",
    "\n",
    "The mass flow rate of dry air is:\n",
    "\n",
    "$$\\dot{m} = \\frac{\\dot{V}}{v}$$\n",
    "\n",
    "where:\n",
    "- $\\dot{V}$ is the volumetric flow rate of hulid air, m³/s;\n",
    "- $v$ - specific volume of moist air, m³/kg."
   ]
  },
  {
   "cell_type": "code",
   "execution_count": 18,
   "metadata": {},
   "outputs": [
    {
     "name": "stdout",
     "output_type": "stream",
     "text": [
      "Mass flow rate of dry air: 10.2 kg/s\n"
     ]
    }
   ],
   "source": [
    "m = V / v     # kg/s, mass flow rate of humid air\n",
    "print(f\"Mass flow rate of dry air: {m:.1f} kg/s\")"
   ]
  },
  {
   "cell_type": "markdown",
   "metadata": {},
   "source": [
    "*Note*: The mass flow rate of dry air, $\\dot{m}$, is used in the psychrometric analyses of the air conditioning systems. In order to find the volumetric flow rate, $\\dot{V}$, which is used in aeraulic calculations (i.e. to size the air ducts and the fans), the relation:\n",
    "$$\\dot{V} = v \\dot{m}$$\n",
    "is used."
   ]
  },
  {
   "cell_type": "markdown",
   "metadata": {},
   "source": [
    "## Mass flow rate of water for saturation"
   ]
  },
  {
   "cell_type": "markdown",
   "metadata": {},
   "source": [
    "The humidity ratio at saturation is\n",
    "\n",
    "$$w = \\frac{\\dot{m_v}}{\\dot{m}} = \\frac{M_v}{M}\\frac{p_{vs}}{p -p_{vs}}$$\n",
    "\n",
    "where:\n",
    "- $\\dot{m}_v$ is the mass flow rate of vapor, kg/s;\n",
    "- $\\dot{m}$ - mass flow rate of dry air, kg/s;\n",
    "- $M = 28.9645 \\, \\mathrm{kg/kmol}$ - molar mass of dry air;\n",
    "- $Mv = 18.015 \\, \\mathrm{kg/kmol}$ - molar mass of water vapor;\n",
    "- $p$ - total pressure of humid air, Pa;\n",
    "- $p_v$ - vapor pressure, Pa."
   ]
  },
  {
   "cell_type": "code",
   "execution_count": 19,
   "metadata": {},
   "outputs": [],
   "source": [
    "ws = Mv / M * pvs(θ) / (p - pvs(θ))    # kg/kg, water content at saturation"
   ]
  },
  {
   "cell_type": "markdown",
   "metadata": {},
   "source": [
    "The mass flow-rate of vapor which is needed to be added to the mass flow-rate of humid air in order to saturate the air is:\n",
    "$$\\dot{m_v} = (w_s - w) \\dot{m}$$"
   ]
  },
  {
   "cell_type": "code",
   "execution_count": 20,
   "metadata": {},
   "outputs": [
    {
     "name": "stdout",
     "output_type": "stream",
     "text": [
      "Mass flow rate of water needed to saturate the air flow is: 47.749 g/s or 172 kg/h.\n"
     ]
    }
   ],
   "source": [
    "mv = (ws - w) * m                      # kg/s, mass flow of water needed to saturate\n",
    "print(f'Mass flow rate of water needed to saturate the air flow is: \\\n",
    "{1000 * mv:.3f} g/s or {3600 * mv:.0f} kg/h.')"
   ]
  },
  {
   "cell_type": "markdown",
   "metadata": {},
   "source": [
    "## Bibliography\n",
    "\n",
    "1. ASHRAE (2009) Fundamentals, ASHRAE Handbook (2009). Chapter 1: Psychrometrics. *American Society of Heating, Refrigerating and Air-Conditioning Engineers*. Atlanta, USA\n",
    "\n",
    "2. ASHRAE-F01 (2017) F01 Psychrometrics, in [ASHRAE Fundamentals (SI Edition)](https://archive.org/details/ashraehandbook2017hvacfundamentalssi/mode/1up), *American Society of Heating, Refrigerating and Air-Conditioning Engineers*. Atlanta, USA\n",
    "\n",
    "3. TRANE (2012) [Psychrometry: One of the Fundamental Series](https://www.tranebelgium.com/files/book-doc/19/en/19.vwljh8zn.pdf)\n",
    "\n",
    "4. Ghiaus, C. (2014). Linear algebra solution to psychometric analysis of air-conditioning systems. *Energy, 74*, 555-566. DOI: [10.1016/j.energy.2014.07.021](https://doi.org/10.1016/j.energy.2014.07.021)"
   ]
  },
  {
   "cell_type": "code",
   "execution_count": null,
   "metadata": {},
   "outputs": [],
   "source": []
  }
 ],
 "metadata": {
  "kernelspec": {
   "display_name": "Python 3 (ipykernel)",
   "language": "python",
   "name": "python3"
  },
  "language_info": {
   "codemirror_mode": {
    "name": "ipython",
    "version": 3
   },
   "file_extension": ".py",
   "mimetype": "text/x-python",
   "name": "python",
   "nbconvert_exporter": "python",
   "pygments_lexer": "ipython3",
   "version": "3.9.7"
  },
  "toc-autonumbering": true
 },
 "nbformat": 4,
 "nbformat_minor": 4
}
