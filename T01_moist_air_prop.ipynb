{
 "cells": [
  {
   "cell_type": "markdown",
   "metadata": {},
   "source": [
    "# Moist air properties"
   ]
  },
  {
   "cell_type": "markdown",
   "metadata": {},
   "source": [
    "Let's consider a volume flow rate of 10 m³/s of humid air at 25 °C, relative humidity 80 % in an HVAC sytem in the city of St. Etienne, France (altitude 1000 m).\n",
    "\n",
    "In these conditions, find:\n",
    "- the partial pressure of the dry air;\n",
    "- the water vapor conntent (or the humidity ration);\n",
    "- the density of the humid air;\n",
    "- the specific volume of the humid air;\n",
    "- the specific enthalpy of the humid air;\n",
    "- the mass flow rate of humid air;\n",
    "- the mass flow rate of water vapor that needs to be added to the air flow in order to obtain saturated air."
   ]
  },
  {
   "cell_type": "code",
   "execution_count": 1,
   "metadata": {},
   "outputs": [],
   "source": [
    "V = 10   # m3/s, volume flow rate\n",
    "θ = 25   # °C, air temperature\n",
    "ϕ = 0.8  # -, relative humidity\n",
    "z = 1000 # m, altitude\n",
    "\n",
    "T = θ + 273.15 # K, air temperature"
   ]
  },
  {
   "cell_type": "markdown",
   "metadata": {},
   "source": [
    "**Note**: [Unicode symbols](https://www.compart.com/en/unicode)"
   ]
  },
  {
   "cell_type": "code",
   "execution_count": 2,
   "metadata": {},
   "outputs": [],
   "source": [
    "import numpy as np\n",
    "\n",
    "# Physical constants\n",
    "l = 2495e3  # J/kg, specific latent heat for vaprization\n",
    "c = 1e3     # J/(kg K), specific heat of dry air\n",
    "cv = 1.96   # J/(kg K), specific heat of water vapor\n",
    "\n",
    "M = 28.9645 # kg/kmol, molar mass of dry air\n",
    "Mv = 18.015 # kg/kmol, molar mass of water vapor\n",
    "R = 8314    # J/(kmol K), gas constant"
   ]
  },
  {
   "cell_type": "markdown",
   "metadata": {},
   "source": [
    "## Partial pressure of dry air"
   ]
  },
  {
   "cell_type": "code",
   "execution_count": 3,
   "metadata": {},
   "outputs": [],
   "source": [
    "p = 101.325e3 * (1 - 2.25577e-5 * z)**5.2559   # Pa, air pressure as a function of altutide"
   ]
  },
  {
   "cell_type": "code",
   "execution_count": 4,
   "metadata": {},
   "outputs": [],
   "source": [
    "def pvs(θ: float) -> float:\n",
    "    \"\"\"\n",
    "    Saturation vapor pressure as a function of tempetature θ [°C]\n",
    "    \"\"\"\n",
    "    import numpy as np\n",
    "    T = θ + 273.15      # [K] Temperature\n",
    "    # pws(T) saturation pressure over liquid water\n",
    "    # for temp range [0 200] °C eq. (6)\n",
    "    C8 = -5.8002206e3\n",
    "    C9 = 1.3914993e0\n",
    "    C10 = -4.8640239e-2\n",
    "    C11 = 4.1764768e-5\n",
    "    C12 = -1.4452093e-8\n",
    "    C13 = 6.5459673e0\n",
    "    y = np.exp(C8/T + C9 + C10 * T + C11 * T **2 + C12 * T **3 + C13 * np.log(T))  # Pa\n",
    "    return y"
   ]
  },
  {
   "cell_type": "code",
   "execution_count": 5,
   "metadata": {},
   "outputs": [],
   "source": [
    "pv = ϕ * pvs(θ)    # Pa, vapor pressure"
   ]
  },
  {
   "cell_type": "code",
   "execution_count": 6,
   "metadata": {},
   "outputs": [
    {
     "name": "stdout",
     "output_type": "stream",
     "text": [
      "Partial pressure of the dry air is: 87339.14623965876 Pa\n"
     ]
    }
   ],
   "source": [
    "pda = p - pv       # Pa, dry-air partial pressure\n",
    "print('Partial pressure of the dry air is:', pda, 'Pa')"
   ]
  },
  {
   "cell_type": "code",
   "execution_count": 7,
   "metadata": {},
   "outputs": [
    {
     "name": "stdout",
     "output_type": "stream",
     "text": [
      "Partial pressure of the dry air is: 87.3 kPa\n"
     ]
    }
   ],
   "source": [
    "print(f'Partial pressure of the dry air is: {pda/1000:.1f} kPa')"
   ]
  },
  {
   "cell_type": "markdown",
   "metadata": {},
   "source": [
    "## Water content (humidity ratio)"
   ]
  },
  {
   "cell_type": "code",
   "execution_count": 8,
   "metadata": {},
   "outputs": [
    {
     "name": "stdout",
     "output_type": "stream",
     "text": [
      "Water content (mass of vapor per mass of dry air) is: 18.06 g/kg\n"
     ]
    }
   ],
   "source": [
    "w = Mv / M * pv / (p - pv)  # kg/kg, humidity ratio (mass vapor / mass dry air)\n",
    "print(f'Water content (mass of vapor per mass of dry air) is: {1000 * w:.2f} g/kg')"
   ]
  },
  {
   "cell_type": "markdown",
   "metadata": {},
   "source": [
    "## Density of moist air"
   ]
  },
  {
   "cell_type": "code",
   "execution_count": 9,
   "metadata": {},
   "outputs": [
    {
     "name": "stdout",
     "output_type": "stream",
     "text": [
      "Density of moist air is: 1.04 kg/m³\n"
     ]
    }
   ],
   "source": [
    "ρ = M / R * pda / T + Mv / R * pv / T\n",
    "\n",
    "# To emphasize that the density of the moist air decreases with\n",
    "# the increase of the  relative humidity\n",
    "ρ = M / R * p / T  - (M - Mv) / R * ϕ * pvs(θ) / T\n",
    "print(f'Density of moist air is: {ρ:.2f} kg/m³')"
   ]
  },
  {
   "cell_type": "markdown",
   "metadata": {},
   "source": [
    "## Specific volume"
   ]
  },
  {
   "cell_type": "code",
   "execution_count": 10,
   "metadata": {},
   "outputs": [
    {
     "name": "stdout",
     "output_type": "stream",
     "text": [
      "Specific volume is: 0.61 m³/kg\n"
     ]
    }
   ],
   "source": [
    "v = R / M * (Mv / M + w) * T / p\n",
    "print(f'Specific volume is: {v:.2f} m³/kg')"
   ]
  },
  {
   "cell_type": "markdown",
   "metadata": {},
   "source": [
    "## Specific enthalpy"
   ]
  },
  {
   "cell_type": "code",
   "execution_count": 11,
   "metadata": {},
   "outputs": [
    {
     "name": "stdout",
     "output_type": "stream",
     "text": [
      "Specific enthalpy is: 70.0 kJ/kg\n",
      "Specific enthalpy with simplified formula is: 70.0 kJ/kg\n"
     ]
    }
   ],
   "source": [
    "h = c * θ + w * (l + cv * θ)\n",
    "h1 = c * θ + w * l\n",
    "print(f'Specific enthalpy is: {h/1000:.1f} kJ/kg')\n",
    "print(f'Specific enthalpy with simplified formula is: {h1/1000:.1f} kJ/kg')"
   ]
  },
  {
   "cell_type": "markdown",
   "metadata": {},
   "source": [
    "## Mass flow rate of humid air"
   ]
  },
  {
   "cell_type": "code",
   "execution_count": 12,
   "metadata": {},
   "outputs": [
    {
     "name": "stdout",
     "output_type": "stream",
     "text": [
      "Mass flow rate of humid air is: 10.4 kg/s\n"
     ]
    }
   ],
   "source": [
    "mha = ρ * V\n",
    "print(f'Mass flow rate of humid air is: {mha:.1f} kg/s')"
   ]
  },
  {
   "cell_type": "markdown",
   "metadata": {},
   "source": [
    "## Mass flow rate of water for saturation"
   ]
  },
  {
   "cell_type": "code",
   "execution_count": 18,
   "metadata": {},
   "outputs": [
    {
     "name": "stdout",
     "output_type": "stream",
     "text": [
      "Mass flow of water needed to saturate the air is: 0.077 kg/s or 276 kg/h.\n"
     ]
    }
   ],
   "source": [
    "ws = Mv / M * pvs(θ) / (p - pvs(θ))    # kg/kg, water content at saturation\n",
    "m = V / v                              # kg/s, mass flow rate of dry air\n",
    "mv = (ws - w) * m                      # kg/s, mass flow of water needed to saturate\n",
    "print(f'Mass flow of water needed to saturate the air flow is: \\\n",
    "{mv:.3f} kg/s or {3600 * mv:.0f} kg/h.')"
   ]
  },
  {
   "cell_type": "code",
   "execution_count": null,
   "metadata": {},
   "outputs": [],
   "source": []
  }
 ],
 "metadata": {
  "kernelspec": {
   "display_name": "Python 3 (ipykernel)",
   "language": "python",
   "name": "python3"
  },
  "language_info": {
   "codemirror_mode": {
    "name": "ipython",
    "version": 3
   },
   "file_extension": ".py",
   "mimetype": "text/x-python",
   "name": "python",
   "nbconvert_exporter": "python",
   "pygments_lexer": "ipython3",
   "version": "3.9.7"
  },
  "toc-autonumbering": true
 },
 "nbformat": 4,
 "nbformat_minor": 4
}
