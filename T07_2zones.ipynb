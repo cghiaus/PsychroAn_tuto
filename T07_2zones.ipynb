{
 "cells": [
  {
   "cell_type": "markdown",
   "id": "976d14f4-f903-4607-adc8-205fd9deccf7",
   "metadata": {},
   "source": [
    "# Problem: Air conditioning of two thermal zones"
   ]
  },
  {
   "cell_type": "markdown",
   "id": "29633784-1430-4aff-bf99-a1f7e917d17d",
   "metadata": {},
   "source": [
    "![2zones](./Figures/2zones.svg)\n",
    "> Figure 1. Air conditioning system for two thermal zones.\n",
    "\n",
    "Consider an air conditioning system for two thermal zones, each equipped with a heating coil and a steam humidifier. A single cooling coil serves both zones (see Figure 1).\n",
    "\n",
    "## Characteristics of the building\n",
    "- $U$ - the [overall heat transfer coefficient](https://en.m.wikipedia.org/wiki/Thermal_transmittance) ([TH-C-E, 2008, p. 40, eq. (35)](https://rt-re-batiment.developpement-durable.gouv.fr/IMG/pdf/annexe_arrete_th-c-e_ex_bo_10_10_2008.pdf)) of the building, W/(m²·K)\n",
    "- $q_{sp}$ - sensible heat of a person ([EnergiePlus](https://energieplus-lesite.be/theories/bilan-thermique44/charges-thermiques-internes-pour-les-bureaux/#Lapport_des_occupants)), W\n",
    "- $\\dot m_{vp}$ - vapor mass flow per person ([EnergiePlus](https://energieplus-lesite.be/theories/bilan-thermique44/charges-thermiques-internes-pour-les-bureaux/#Lapport_des_occupants)), kg/s\n",
    "- $A_1$, $A_2$ - surface area of zones 1 and 2, m²\n",
    "- $\\dot{m}_1$, $\\dot{m}_2$ - mass flow rate of outdoor air zone 1 and 2, kg/s\n",
    "- $n_{p1}$ $n_{p2}$, - number of persons in zone 1 and 2, -\n",
    "\n",
    "## Summer air conditioning\n",
    "In summer, the components used are the cooling–dehumidification coil and the heating coils.\n",
    "\n",
    "### Data\n",
    "- $\\theta_{TZ1}$ -  dry-bulb temperature zone 1, °C\n",
    "- $\\varphi_{TZ1}$ - relative humidity zone 1, -\n",
    "- $\\theta_{TZ2}$ -  dry-bulb temperature zone 2, °C\n",
    "- $\\varphi_{TZ2}$ - relative humidity zone 2, -\n",
    "- $\\theta_{O}$ -  dry-bulb temperature outdoor air, °C\n",
    "- $\\varphi_{O}$ - relative humidity outdoor air, -\n",
    "- $\\dot{m}_{O}$ - mass flow rate outdoor air, kg/s\n",
    "- $\\theta_{S1}$ - supply air temperature for zone 1, °C\n",
    "- $\\beta$ - by-pass factor of cooling coil, -"
   ]
  },
  {
   "cell_type": "markdown",
   "id": "221019ad-219c-405f-9595-60eefeae7ddd",
   "metadata": {},
   "source": [
    "### Find\n",
    "\n",
    "#### Loads of thermal zones\n",
    "Find the sensible and latent loads of the thermal zones.\n",
    "\n",
    "#### Supply air conditions and flow rates for thermal zones\n",
    "Give the characteristics of the supply air  for both zones ($ \\theta_{S1}, w_{S1}, \\theta_{S2}, w_{S2} $), and the supply air flow rates for both zones $ \\dot{m}_1 $, $ \\dot{m}_2 $, knowing that their humidity ratio is the same, $ w_{S1} = w_{S2} $.\n",
    "\n",
    "#### Cooling coil \n",
    "\n",
    "- Provide the properties of the air at the exit of the cooling coil: $ \\theta_{CC} $, $ w_{CC} $.\n",
    "- Provide the ADP Apparatus Dew Point (ADP) or effective surface temperature of the cooling coil, $ \\theta_h $.\n",
    "- Provide the power of the cooling coil.\n",
    "\n",
    "#### Heating coils\n",
    "\n",
    "Calculate the power of the two heating coils.\n",
    "\n",
    "#### Total load\n",
    "\n",
    "- Calculate the total load (i.e. power) required by the system.\n",
    "- Give the percentage (relative to total load) of power needed for re-heating."
   ]
  },
  {
   "cell_type": "markdown",
   "id": "f9eb7899-0472-43cf-9946-c173191405b7",
   "metadata": {},
   "source": [
    "## Winter air conditioning \n",
    "\n",
    "For winter, the heating coils and the vapor humidifiers are used for the air mass flow rates calculated for summer.\n",
    "\n",
    "### Data\n",
    "The indoor conditions\n",
    "- $\\theta_{TZ1}$ -  dry-bulb temperature zone 1, °C\n",
    "- $\\varphi_{TZ1}$ - relative humidity zone 1, -\n",
    "- $\\theta_{TZ2}$ -  dry-bulb temperature zone 2, °C\n",
    "- $\\varphi_{TZ2}$ - relative humidity zone 2, -\n",
    "\n",
    "and\n",
    "- $\\dot{m}_{O}$ - mass flow rate outdoor air, kg/s\n",
    "- $\\dot{m}_{1}$ - mass flow rate supply air zone 1, kg/s\n",
    "- $\\dot{m}_{1}$ - mass flow rate supply air zone 2, kg/s\n",
    "are the same as in summer.\n",
    "\n",
    "The outdoor conditons are different.\n",
    "- $\\theta_{O}$ -  dry-bulb temperature outdoor air, °C\n",
    "- $\\varphi_{O}$ - relative humidity outdoor air, -\n",
    "\n",
    "\n",
    "### Find\n",
    "#### Loads of therma zones\n",
    "Find the sensible and latent loads of the thermal zones.\n",
    "\n",
    "#### Supply air conditions for thermal zones\n",
    "Give the characteristics of the supply air  for both zones ($ \\theta_{S1}, w_{S1}, \\theta_{S2}, w_{S2} $).\n",
    "\n",
    "#### Heating coils loads \n",
    "Give the loads of the heating coils: $\\dot{Q}_{sHC1}$, $\\dot{Q}_{sHC2}$;\n",
    "\n",
    "#### Vapor humidifiers loads and water mass flow rates\n",
    "Give:\n",
    "- the loads of the vapor humidifiers: $\\dot{Q}_{lVH1}$, $\\dot{Q}_{lVH2}$;\n",
    "- the mass flow rate of the vapor humidifiers: $\\dot{m}_{vVH1}$, $\\dot{m}_{vVH2}$."
   ]
  },
  {
   "cell_type": "markdown",
   "id": "5b1a336e-191e-40a7-b112-b84c53fd3524",
   "metadata": {},
   "source": [
    "# Solution summer: cooling and dehumification\n",
    "\n",
    "![2zones](./Figures/2zones_cool.svg)\n",
    "> Figure 2. Cooling and dehumidification model of air conditioning system for two thermal zones."
   ]
  },
  {
   "cell_type": "code",
   "execution_count": 1,
   "id": "46fe2e0f-4532-47eb-b6d3-72dd1f3c19d6",
   "metadata": {},
   "outputs": [],
   "source": [
    "import numpy as np\n",
    "\n",
    "import psychro as psy\n",
    "\n",
    "# Data\n",
    "# ================================\n",
    "# Constants\n",
    "Mv = 18.015_286             # kg/kmol, vapor molaire mass\n",
    "Mda = 28.966                # kg/kmol, air molaire mass\n",
    "R = 8_314.462_618_153_24    # J/(kmol·K), ideal gaz constant\n",
    "ca = 1e3                    # J/(kg·K), air specific heat\n",
    "lv = 2496e3                 # J/kg, latent heat\n",
    "hv = 2500e3\n",
    "\n",
    "# Building\n",
    "U = 0.22                    # W/(m²K)\n",
    "qsp = 83                    # W, sensible heat per person\n",
    "mvp = 71e-3 / 3600          # kg/s, vapor mass flow per person\n",
    "\n",
    "A1 = 70                     # surface area of zone 1, m²\n",
    "A2 = 35                     # surface area of zone 2, m²\n",
    "\n",
    "mi1 = 0.06                  # mass flow rate of outdoor air zone 1, kg/s\n",
    "mi2 = 0.06                  # mass flow rate of outdoor air zonz 2, kg/s\n",
    "\n",
    "np1 = 10                    # number of persons zone 1\n",
    "np2 = 5                     # number of persons none 2"
   ]
  },
  {
   "cell_type": "code",
   "execution_count": 2,
   "id": "2eace6d1-c277-4d30-b545-8143ba45dc77",
   "metadata": {},
   "outputs": [],
   "source": [
    "# Summer conditions\n",
    "# ---------------------------------\n",
    "# Thermal zone 1\n",
    "θTZ1 = 17                   # °C, dry-bulb temperature\n",
    "ϕTZ1 = 0.70                 # -, relative humidity\n",
    "\n",
    "# Thermal zone 2\n",
    "θTZ2 = 25                   # °C, dry-bulb temperature\n",
    "ϕTZ2 = 0.40                 # -, relative humidity\n",
    "\n",
    "θO = 29                     # °C, dry-bulb temperature\n",
    "ϕO = 0.60                   # -, relative humidity\n",
    "mO = 0.7                    # kg/s, mass flow rate outdoor air\n",
    "\n",
    "θS1 = 13                    # °C, supply air temperature in zone 1\n",
    "b = 0.3                     # -, by-pass factor of cooling cooil\n",
    "\n",
    "\n",
    "wTZ1 = psy.w(θTZ1, ϕTZ1)    # kg_v/kg_da, humidity ratio zone 1\n",
    "wTZ2 = psy.w(θTZ2, ϕTZ2)    # kg_v/kg_da, humidity ratio zone 2\n",
    "wO = psy.w(θO, ϕO)          # kg_v/kg_da, humidity ratio outdoor air"
   ]
  },
  {
   "cell_type": "markdown",
   "id": "359945cf-3fb0-4ad1-a925-e05b2432b401",
   "metadata": {},
   "source": [
    "## Loads of thermal zones\n",
    "\n",
    "For each thermal zone, the auxiliary sensible heat from occupants is:\n",
    "\n",
    "$$\\dot Q_{sa} = n_p q_p$$\n",
    "\n",
    "where:\n",
    "- $n_p$ - number of persons;\n",
    "- $q_p$ - sensible heat of a person ([EnergiePlus](https://energieplus-lesite.be/theories/bilan-thermique44/charges-thermiques-internes-pour-les-bureaux/#Lapport_des_occupants)), W.\n",
    "\n",
    "and the auxiliary latent heat is:\n",
    "\n",
    "$$ \\dot Q_{la} = n_p \\dot m_{vp} $$\n",
    "\n",
    "where:\n",
    "- $n_p$ is the number of persons;\n",
    "- $\\dot m_{vp}$ - vapor mass flow per person ([EnergiePlus](https://energieplus-lesite.be/theories/bilan-thermique44/charges-thermiques-internes-pour-les-bureaux/#Lapport_des_occupants)), kg/s."
   ]
  },
  {
   "cell_type": "code",
   "execution_count": 3,
   "id": "8cf32b94-8919-4401-8798-2f8c422e3f96",
   "metadata": {},
   "outputs": [],
   "source": [
    "Qsa1 = np1 * qsp            # W, sensible auxiliary heat\n",
    "Qsa2 = np2 * qsp            # W, sensible auxiliary heat\n",
    "\n",
    "Qla1 = np1 * mvp * lv       # W, latent auxiliary heat\n",
    "Qla2 = np2 * mvp * lv       # W, latent auxiliary heat"
   ]
  },
  {
   "cell_type": "markdown",
   "id": "4b82645e-d3d0-47be-bd52-d29ba55f4488",
   "metadata": {},
   "source": [
    "The sensible load of a zone is:\n",
    "\n",
    "$$\\dot Q_s = (UA + \\dot m_i c)(\\theta_O - \\theta_I)  + \\dot{Q}_{s,a}$$\n",
    "\n",
    "and the latent load is: \n",
    "\n",
    "$$\\dot Q_l = \\dot m_i l (w_O - w_I) + \\dot{Q}_{l,a}$$\n",
    "\n",
    "where:\n",
    "- $UA = \\sum_{i}f_i U_i S_i+ \\sum_{j} \\psi_j L_j$ - overall conductivity of the building (walls, windows, thermal bridges, etc.), W/K;\n",
    "    - $U_i$ is the [overall heat transfer coefficient](https://en.m.wikipedia.org/wiki/Thermal_transmittance) ([TH-C-E, 2008, p. 40, eq. (35)](https://rt-re-batiment.developpement-durable.gouv.fr/IMG/pdf/annexe_arrete_th-c-e_ex_bo_10_10_2008.pdf)) of the wall *i*, W/(m²·K);\n",
    "    - $S_i$ - surface area of the wall *i*, m²; \n",
    "    - $f_i$ - correction for heat loss (Table 1);\n",
    "    - $\\psi_j$ - linear thermal transmittance of thermal bridge *j*, W/(m·K);\n",
    "    - $L_j$ - length of the thermal bridge *j*, m;\n",
    "- $\\dot{m}_{i}$ - mass flow rate by [infiltration](https://en.m.wikipedia.org/wiki/Infiltration_(HVAC)), kg/s;\n",
    "- $c$ - [specific heat capacity of the air](https://en.wikipedia.org/wiki/Specific_heat_capacity), J/(kg·K);\n",
    "- $l$ - [specific latent heat](https://en.wikipedia.org/wiki/Latent_heat#Specific_latent_heat), J/kg;\n",
    "- $\\theta_O$ - outdoor temperature, °C;\n",
    "- $\\theta_I$ - indoor temperature, °C;\n",
    "- $w_O$ - water content (humidity ratio) of the outdoor air, kg/kg;\n",
    "- $w_I$ - water content (humidity ratio) of the indoor air, kg/kg;\n",
    "- $\\dot{Q}_{s,a}$ - sensible auxiliar heat gains (from occupants, electrical devices, solar radiation, etc.), W;\n",
    "- $\\dot{Q}_{l,a}$ - latent auxiliar heat gains (from occupants, evaporative processes like cooking, etc.), W.\n"
   ]
  },
  {
   "cell_type": "code",
   "execution_count": 4,
   "id": "691a7491-07f1-4c93-acfe-cb9cbd6877c3",
   "metadata": {},
   "outputs": [
    {
     "name": "stdout",
     "output_type": "stream",
     "text": [
      "Summer loads TZ1: sensible 1735 W; \t latent 1493 W\n",
      "Summer loads TZ2: sensible 686 W; \t latent 1331 W\n"
     ]
    }
   ],
   "source": [
    "QsTZ1 = (U * A1 + mi1 * ca) * (θO - θTZ1) + Qsa1\n",
    "QsTZ2 = (U * A2 + mi2 * ca) * (θO - θTZ2) + Qsa2\n",
    "\n",
    "QlTZ1 = mi1 * lv * (wO - wTZ1) + Qla1\n",
    "QlTZ2 = mi2 * lv * (wO - wTZ2) + Qla2\n",
    "\n",
    "print(f\"Summer loads TZ1: sensible {QsTZ1:.0f} W; \\t latent {QlTZ1:.0f} W\")\n",
    "print(f\"Summer loads TZ2: sensible {QsTZ2:.0f} W; \\t latent {QlTZ2:.0f} W\")"
   ]
  },
  {
   "cell_type": "markdown",
   "id": "45d8098d-c506-4963-a564-1f1e01b1110a",
   "metadata": {},
   "source": [
    "Round up the loads to the nearest multiple of 250:"
   ]
  },
  {
   "cell_type": "code",
   "execution_count": 5,
   "id": "92399780-48a5-4398-abaa-b385af71a685",
   "metadata": {},
   "outputs": [
    {
     "name": "stdout",
     "output_type": "stream",
     "text": [
      "Summer loads TZ1: sensible 1750 W; \t latent 1500 W\n",
      "Summer loads TZ2: sensible 750 W; \t latent 1500 W\n"
     ]
    }
   ],
   "source": [
    "QsTZ1 = float(np.ceil(QsTZ1 / 250) * 250)\n",
    "QsTZ2 = float(np.ceil(QsTZ2 / 250) * 250)\n",
    "QlTZ1 = float(np.ceil(QlTZ1 / 250) * 250)\n",
    "QlTZ2 = float(np.ceil(QlTZ2 / 250) * 250)\n",
    "\n",
    "print(f\"Summer loads TZ1: sensible {QsTZ1:.0f} W; \\t latent {QlTZ1:.0f} W\")\n",
    "print(f\"Summer loads TZ2: sensible {QsTZ2:.0f} W; \\t latent {QlTZ2:.0f} W\")"
   ]
  },
  {
   "cell_type": "markdown",
   "id": "454201b5-f8b1-405a-9450-ffc2cb64f168",
   "metadata": {},
   "source": [
    "## Supply air and flow rates for thermal zones\n",
    "\n",
    "From the equations of **TZ1**:\n",
    "$$\n",
    "\\left\\{\\begin{matrix}\n",
    " \\dot{m}_1 c \\theta_{S1} + \\dot{Q}_{sS1} = \\dot{m}_1 c \\theta_{I1}\n",
    " \\\\ \n",
    " \\dot{m}_1 l w_{S1} + \\dot{Q}_{lS1} = \\dot{m}_1 l w_{I1}\n",
    "\\end{matrix}\\right.\n",
    "$$\n",
    "\n",
    "get $\\dot{m}_1$ from 1st equation and then $w_{S1}$ from 2nd equation."
   ]
  },
  {
   "cell_type": "code",
   "execution_count": 6,
   "id": "9a2ea1be-c17c-4ce9-80e7-22c2d10b25ed",
   "metadata": {},
   "outputs": [],
   "source": [
    "m1 = QsTZ1 / (ca * (θTZ1 - θS1))\n",
    "wS1 = (m1 * lv * wTZ1 - QlTZ1) / (m1 * lv)"
   ]
  },
  {
   "cell_type": "markdown",
   "id": "0f1acfcd-c92f-4c86-9ef1-1f6ae506d7c5",
   "metadata": {},
   "source": [
    "Knowing that $w_{S2} = w_{S1}$, from the equations of **TZ2**:\n",
    "\n",
    "$$\n",
    "\\left\\{\\begin{matrix}\n",
    " \\dot{m}_2 c \\theta_{S2} + \\dot{Q}_{sS2} = \\dot{m}_2 c \\theta_{I2}\n",
    " \\\\ \n",
    " \\dot{m}_2 l w_{S2} + \\dot{Q}_{lS2} = \\dot{m}_2 l w_{I2}\n",
    "\\end{matrix}\\right.\n",
    "$$\n",
    "\n",
    "get $\\dot{m}_2$ from 2nd equation and then $\\theta_{S2}$ from 1st equatiion."
   ]
  },
  {
   "cell_type": "code",
   "execution_count": 7,
   "id": "89428369-240c-418d-8585-55b5ae40b5c7",
   "metadata": {},
   "outputs": [],
   "source": [
    "wS2 = wS1\n",
    "m2 = QlTZ2 / (lv * (wTZ2 - wS2))\n",
    "θS2 = θTZ2 - QsTZ2 / (m2 * ca)"
   ]
  },
  {
   "cell_type": "code",
   "execution_count": 8,
   "id": "c41ee002-3205-473b-b2ff-985e976356f5",
   "metadata": {},
   "outputs": [
    {
     "name": "stdout",
     "output_type": "stream",
     "text": [
      "m1: 0.438 kg/s \n",
      "S1: 13.00 °C; 0.007067 kg_v/kg_da\n",
      "m2: 0.739 kg/s \n",
      "S2: 23.98 °C; 0.007067 kg_v/kg_da\n"
     ]
    }
   ],
   "source": [
    "print(f\"m1: {m1:.3f} kg/s \")\n",
    "print(f\"S1: {θS1:.2f} °C; {wS1:.6f} kg_v/kg_da\")\n",
    "print(f\"m2: {m2:.3f} kg/s \")\n",
    "print(f\"S2: {θS2:.2f} °C; {wS2:.6f} kg_v/kg_da\")"
   ]
  },
  {
   "cell_type": "markdown",
   "id": "55a08d0a-13c7-4f95-8e48-cc1956cec451",
   "metadata": {},
   "source": [
    "## Cooling coil\n",
    "\n",
    "From the equations of **MR1**,\n",
    "\n",
    "$$\n",
    "\\left\\{\\begin{matrix}\n",
    " \\dot{m}_1 c \\theta_{I1} + \\dot{m}_2 c \\theta_{I2} = (\\dot{m}_1 + \\dot{m}_2) c \\theta_{M1}\n",
    " \\\\ \n",
    " \\dot{m}_1 l w_{I1} + \\dot{m}_2 l w_{I2} = (\\dot{m}_1 + \\dot{m}_2) l w_{M1}\n",
    "\\end{matrix}\\right.\n",
    "$$\n",
    "\n",
    "find $\\theta_{M1}$ and $w_{M1}$."
   ]
  },
  {
   "cell_type": "code",
   "execution_count": 9,
   "id": "cfd0d071-0091-4a46-ae11-12259cc8f190",
   "metadata": {},
   "outputs": [],
   "source": [
    "# M1 mix TZ11 & TZ22\n",
    "θM1 = (m1 * θTZ1 + m2 * θTZ2) / (m1 + m2)\n",
    "wM1 = (m1 * wTZ1 + m2 * wTZ2) / (m1 + m2)"
   ]
  },
  {
   "cell_type": "markdown",
   "id": "043b1523-017c-4879-b026-f5b5509b0807",
   "metadata": {},
   "source": [
    "From the equations of **MR2**,\n",
    "\n",
    "$$\n",
    "\\left\\{\\begin{matrix}\n",
    " (\\dot{m} - \\dot{m}_E) c \\theta_{M1} + \\dot{m}_E c \\theta_{E} = \\dot{m} c \\theta_{M2}\n",
    " \\\\ \n",
    " (\\dot{m} - \\dot{m}_E) l w_{M1} + \\dot{m}_E l w_{E} = \\dot{m} l w_{M2}\n",
    "\\end{matrix}\\right.\n",
    "$$\n",
    "\n",
    "find $\\theta_{M2}$ and $w_{M2}$."
   ]
  },
  {
   "cell_type": "code",
   "execution_count": 10,
   "id": "787c8634-af9d-47ed-9828-ccc3ee59c272",
   "metadata": {},
   "outputs": [],
   "source": [
    "# M2 mix M1 & E\n",
    "m = m1 + m2\n",
    "θM2 = ((m - mO) * θM1 + mO * θO) / m\n",
    "wM2 = ((m - mO) * wM1 + mO * wO) / m"
   ]
  },
  {
   "cell_type": "markdown",
   "id": "4f526f9f-f540-43b4-93d6-f9de0eefebdb",
   "metadata": {},
   "source": [
    "Knowing that $w_{CC} = w_{S1}$ and the by-pass factor of the cooling coil, \n",
    "\n",
    "$$\n",
    "\\beta = \\frac{w_{S1} - w_h}{w_{M2} - w_h}\n",
    "$$\n",
    "\n",
    "find  humidity ratio of the apparatus dew point (ADP) $w_h$ and then the effective coil surface temperature $\\theta_h$. "
   ]
  },
  {
   "cell_type": "code",
   "execution_count": 11,
   "id": "b9468fce-5ee1-48d0-911a-627dd1ab7d17",
   "metadata": {},
   "outputs": [
    {
     "ename": "AttributeError",
     "evalue": "module 'psychro' has no attribute 't'",
     "output_type": "error",
     "traceback": [
      "\u001b[0;31m---------------------------------------------------------------------------\u001b[0m",
      "\u001b[0;31mAttributeError\u001b[0m                            Traceback (most recent call last)",
      "Cell \u001b[0;32mIn[11], line 3\u001b[0m\n\u001b[1;32m      1\u001b[0m \u001b[38;5;66;03m# ADP apparatus dew point or effective coil surface temperature\u001b[39;00m\n\u001b[1;32m      2\u001b[0m wh \u001b[38;5;241m=\u001b[39m (wS1 \u001b[38;5;241m-\u001b[39m b \u001b[38;5;241m*\u001b[39m wM2) \u001b[38;5;241m/\u001b[39m (\u001b[38;5;241m1\u001b[39m \u001b[38;5;241m-\u001b[39m b)\n\u001b[0;32m----> 3\u001b[0m θh \u001b[38;5;241m=\u001b[39m psy\u001b[38;5;241m.\u001b[39mt(wh, phi\u001b[38;5;241m=\u001b[39m\u001b[38;5;241m1\u001b[39m)\n",
      "\u001b[0;31mAttributeError\u001b[0m: module 'psychro' has no attribute 't'"
     ]
    }
   ],
   "source": [
    "# ADP apparatus dew point or effective coil surface temperature\n",
    "wh = (wS1 - b * wM2) / (1 - b)\n",
    "θh = psy.t(wh, phi=1)"
   ]
  },
  {
   "cell_type": "markdown",
   "id": "004292a3-0cf8-458b-9aa0-f4680baccc00",
   "metadata": {},
   "source": [
    "From equation of cooling coil **CC**,\n",
    "\n",
    "$$\n",
    "\\left\\{\\begin{matrix}\n",
    " (1 - \\beta) \\dot{m} c \\theta_h + \\beta \\dot{m} c \\theta_{M2} = \\dot{m} c \\theta_{CC}\n",
    " \\\\ \n",
    " (1 - \\beta) \\dot{m} l w_h + \\beta \\dot{m} l w_{M2} = \\dot{m} l w_{CC}\n",
    "\\end{matrix}\\right.\n",
    "$$\n",
    "\n",
    "find the temperature after the cooling coil $\\theta_{CC}$."
   ]
  },
  {
   "cell_type": "code",
   "execution_count": null,
   "id": "67c23352-dd6d-495c-bba3-5fdab875015d",
   "metadata": {},
   "outputs": [],
   "source": [
    "# Cooling coil (CC) temperature\n",
    "θCC = (1 - b) * θh + b * θM2\n",
    "wCC = (1 - b) * wh + b * wM2"
   ]
  },
  {
   "cell_type": "markdown",
   "id": "dcd28e47-adc4-475b-a2f9-3c2415628f7f",
   "metadata": {},
   "source": [
    "From the model of **CC**,\n",
    "\n",
    "$$\n",
    "\\left\\{\\begin{matrix}\n",
    " \\dot{m} c \\theta_{M2} + \\dot{Q}_{s,CC} = \\dot{m} c \\theta_{CC}\n",
    " \\\\\n",
    " \\dot{m} l w_{M2} + \\dot{Q}_{l,CC} = \\dot{m} l w_{CC}\n",
    "\\end{matrix}\\right.\n",
    "$$\n",
    "\n",
    "find the sensible $\\dot{Q}_{s,CC}$ and latent $\\dot{Q}_{l,CC}$ load of the cooling coil and then its total load, $\\dot{Q}_{CC}$."
   ]
  },
  {
   "cell_type": "code",
   "execution_count": null,
   "id": "bda94d4e-8b03-42c9-a83c-9c29e3b52f35",
   "metadata": {},
   "outputs": [],
   "source": [
    "# Cooling coil power\n",
    "QsCC = m * ca * (θCC - θM2)\n",
    "QlCC = m * lv * (wS1 - wM2)\n",
    "QtCC = QsCC + QlCC"
   ]
  },
  {
   "cell_type": "code",
   "execution_count": null,
   "id": "698a2976-5d6c-401c-8561-958a2479128a",
   "metadata": {},
   "outputs": [],
   "source": [
    "print(f\"Effective coil surface temperature: {θh:.2f} °C\")\n",
    "print(f\"CC: {θCC:.2f} °C; {wCC * 1000:.2f} g_v/kg_da\")\n",
    "print(f\"CC load: {QtCC:.0f} W\")"
   ]
  },
  {
   "cell_type": "markdown",
   "id": "2d77d97e-948c-4c7b-ad3a-06e91758f5eb",
   "metadata": {},
   "source": [
    "## Heating coils\n",
    "\n",
    "From the equations of heating coil **HC1**\n",
    "\n",
    "$$\n",
    "\\dot{m}_1 c \\theta_{CC} + \\dot{Q}_{s,HC1} = \\dot{m}_1 c \\theta_{S1}\n",
    "$$\n",
    "\n",
    "heating coil **HC2**\n",
    "\n",
    "$$\n",
    "\\dot{m}_2c \\theta_{CC} + \\dot{Q}_{s,HC2} = \\dot{m}_1 c \\theta_{S2}\n",
    "$$\n",
    "\n",
    "obtain the loads of the heating coils."
   ]
  },
  {
   "cell_type": "code",
   "execution_count": null,
   "id": "3f109f1c-1c3e-4230-ab95-eb86510389bb",
   "metadata": {},
   "outputs": [],
   "source": [
    "QHC1 = m1 * ca * (θS1 - θCC)\n",
    "QHC2 = m2 * ca * (θS2 - θCC)"
   ]
  },
  {
   "cell_type": "code",
   "execution_count": null,
   "id": "9eccd46e-92fe-41a2-82f4-4d6b31b8fe4d",
   "metadata": {},
   "outputs": [],
   "source": [
    "print(f\"HC1 load: {QHC1:.0f} W\")\n",
    "print(f\"HC2 load: {QHC2:.0f} W\")"
   ]
  },
  {
   "cell_type": "markdown",
   "id": "f4c4529b-6bfb-4679-9d6e-59ae39156689",
   "metadata": {},
   "source": [
    "## Total load\n",
    "\n",
    "Calculate the total load (i.e. power) required by the system."
   ]
  },
  {
   "cell_type": "code",
   "execution_count": null,
   "id": "7a190b17-8b1e-4a4e-94ee-52b2e39470e9",
   "metadata": {},
   "outputs": [],
   "source": [
    "Qtot = abs(QtCC) + QHC1 + QHC2"
   ]
  },
  {
   "cell_type": "markdown",
   "id": "01ce738b-c052-4282-b24f-149fff4097de",
   "metadata": {},
   "source": [
    "Give the percentage (relative to total load) of power needed for re-heating."
   ]
  },
  {
   "cell_type": "code",
   "execution_count": null,
   "id": "d772be7c-86b9-41e3-a46f-5e1d2100afb7",
   "metadata": {},
   "outputs": [],
   "source": [
    "percent_heat = (QHC1 + QHC2) / Qtot * 100"
   ]
  },
  {
   "cell_type": "code",
   "execution_count": null,
   "id": "eed5f815-f5d9-4afd-92c2-ae087d9711b3",
   "metadata": {},
   "outputs": [],
   "source": [
    "print(f\"Qtot: {Qtot:.0f} W\")\n",
    "print(f\"percentage heating: {percent_heat:.0f} %\")"
   ]
  },
  {
   "cell_type": "markdown",
   "id": "660bf4db-f84b-46e7-ac2f-b2cc04771a8d",
   "metadata": {},
   "source": [
    "## Processes on psychrometric chart\n",
    "\n",
    "![2zones](./Figures/2zones_cool_number.svg)\n",
    "> Figure 3. Model of air conditioning system for two thermal zones with the points numbered."
   ]
  },
  {
   "cell_type": "code",
   "execution_count": null,
   "id": "0fdf45e4-e67e-4158-b786-28f651a45dcd",
   "metadata": {},
   "outputs": [],
   "source": [
    "t_range = np.arange(5, 35, 1)"
   ]
  },
  {
   "cell_type": "markdown",
   "id": "7aee34ef-a0a4-4991-9060-5711649923f9",
   "metadata": {},
   "source": [
    "### TZ1, TZ2"
   ]
  },
  {
   "cell_type": "code",
   "execution_count": null,
   "id": "5f65b6c8-5769-4db1-af92-415322e87d68",
   "metadata": {},
   "outputs": [],
   "source": [
    "# Points        0  1  2  3  4  5  6  7  8       Process\n",
    "A = np.array([[0, 0, 0, 0, -1, 1, 0, 0, 0],     # TZ1\n",
    "              [0, 0, 0, 0, 0, 0, -1, 1, 0]])    # TZ2\n",
    "θ = np.array([θO, θM2, θh, θCC, θS1, θTZ1, θS2, θTZ2, θM1])\n",
    "w = np.array([wO, wM2, wh, wCC, wS1, wTZ1, wS2, wTZ2, wM1])\n",
    "psy.chartA(θ, w, A, t_range)"
   ]
  },
  {
   "cell_type": "markdown",
   "id": "4531affa-1185-4a06-9a74-94f03007514e",
   "metadata": {},
   "source": [
    "### TZ1, TZ2, MR3"
   ]
  },
  {
   "cell_type": "code",
   "execution_count": null,
   "id": "f26e07c2-709e-4a37-b2fa-90e5c1200f78",
   "metadata": {},
   "outputs": [],
   "source": [
    "# Psychrometric chart TZ1, TZ2, MR3\n",
    "# Points        0  1  2  3  4  5  6  7  8       Process\n",
    "A = np.array([[0, 0, 0, 0, -1, 1, 0, 0, 0],     # TZ1\n",
    "              [0, 0, 0, 0, 0, 0, -1, 1, 0],     # TZ2\n",
    "              [0, 0, 0, 0, 0, -1, 0, -1, 1]])   # MR3 TZ1 & TZ2\n",
    "θ = np.array([θO, θM2, θh, θCC, θS1, θTZ1, θS2, θTZ2, θM1])\n",
    "w = np.array([wO, wM2, wh, wCC, wS1, wTZ1, wS2, wTZ2, wM1])\n",
    "psy.chartA(θ, w, A, t_range)"
   ]
  },
  {
   "cell_type": "markdown",
   "id": "7ef44c19-857e-4029-aacd-f4c13a12adc5",
   "metadata": {},
   "source": [
    "### TZ1, TZ2, MR3, MR1"
   ]
  },
  {
   "cell_type": "code",
   "execution_count": null,
   "id": "01212f63-a331-4c24-bdf5-c2df656f4845",
   "metadata": {},
   "outputs": [],
   "source": [
    "# Psychrometric chart TZ1, TZ2, MR3, MR1\n",
    "# Points        0  1  2  3  4  5  6  7  8       Process\n",
    "A = np.array([[0, 0, 0, 0, -1, 1, 0, 0, 0],     # TZ1\n",
    "              [0, 0, 0, 0, 0, 0, -1, 1, 0],     # TZ2\n",
    "              [0, 0, 0, 0, 0, -1, 0, -1, 1],    # MR3 TZ1 & TZ2\n",
    "              [-1, 1, 0, 0, 0, 0, 0, 0, 1]])    # MR1 E & M3\n",
    "θ = np.array([θO, θM2, θh, θCC, θS1, θTZ1, θS2, θTZ2, θM1])\n",
    "w = np.array([wO, wM2, wh, wCC, wS1, wTZ1, wS2, wTZ2, wM1])\n",
    "psy.chartA(θ, w, A, t_range)"
   ]
  },
  {
   "cell_type": "markdown",
   "id": "bffc086d-206a-4ae8-b203-7fac7a5bfb4a",
   "metadata": {},
   "source": [
    "### TZ1, TZ2, MR3, MR1, CC"
   ]
  },
  {
   "cell_type": "code",
   "execution_count": null,
   "id": "5712aa21-0033-4209-bb01-972f4320a0cb",
   "metadata": {},
   "outputs": [],
   "source": [
    "# Psychrometric chart TZ1, TZ2, MR3, MR1, CC\n",
    "# Points        0  1  2  3  4  5  6  7  8       Process\n",
    "A = np.array([[0, 0, 0, 0, -1, 1, 0, 0, 0],     # TZ1\n",
    "              [0, 0, 0, 0, 0, 0, -1, 1, 0],     # TZ2\n",
    "              [0, 0, 0, 0, 0, -1, 0, -1, 1],    # MR3 TZ1 & TZ\n",
    "              [-1, 1, 0, 0, 0, 0, 0, 0, 1],     # MR1 E & M3\n",
    "              [0, -1, -1, 1, 0, 0, 0, 0, 0]])   # CC\n",
    "θ = np.array([θO, θM2, θh, θCC, θS1, θTZ1, θS2, θTZ2, θM1])\n",
    "w = np.array([wO, wM2, wh, wCC, wS1, wTZ1, wS2, wTZ2, wM1])\n",
    "psy.chartA(θ, w, A, t_range)"
   ]
  },
  {
   "cell_type": "markdown",
   "id": "b47fb0d9-9630-44ed-b937-3f99bd4f8e7c",
   "metadata": {},
   "source": [
    "### TZ1, TZ2, MR3, MR1, CC, HC1, HC2"
   ]
  },
  {
   "cell_type": "code",
   "execution_count": null,
   "id": "52b55df3-f676-4e73-bdff-cda2a6ac1d85",
   "metadata": {},
   "outputs": [],
   "source": [
    "# Psychrometric chart TZ1, TZ2, MR3, MR1, CC, HC1, HC2\n",
    "# Points        0  1  2  3  4  5  6  7  8       Process\n",
    "A = np.array([[0, 0, 0, 0, -1, 1, 0, 0, 0],     # TZ1\n",
    "              [0, 0, 0, 0, 0, 0, -1, 1, 0],     # TZ2\n",
    "              [0, 0, 0, 0, 0, -1, 0, -1, 1],    # MR3 TZ1&TZ2\n",
    "              [-1, 1, 0, 0, 0, 0, 0, 0, 1],     # MR1 E & M3\n",
    "              [0, -1, -1, 1, 0, 0, 0, 0, 0],    # CC\n",
    "              [0, 0, 0, -1, 1, 0, 1, 0, 0]])    # HC1, HC2\n",
    "θ = np.array([θO, θM2, θh, θCC, θS1, θTZ1, θS2, θTZ2, θM1])\n",
    "w = np.array([wO, wM2, wh, wCC, wS1, wTZ1, wS2, wTZ2, wM1])\n",
    "psy.chartA(θ, w, A, t_range)"
   ]
  },
  {
   "cell_type": "markdown",
   "id": "6252213a-5fda-45e9-9ead-6462d6a3b4dc",
   "metadata": {},
   "source": [
    "# Solution winter: heating and humidification\n",
    "\n",
    "![2zones](./Figures/2zones_heat.svg)\n",
    "> Figure 3. Heating and humidification model of air conditioning system for two thermal zones\n",
    "\n",
    "## Data\n",
    "\n",
    "The indoor conditions\n",
    "- $\\theta_{TZ1}$ -  dry-bulb temperature zone 1, °C\n",
    "- $\\varphi_{TZ1}$ - relative humidity zone 1, -\n",
    "- $\\theta_{TZ2}$ -  dry-bulb temperature zone 2, °C\n",
    "- $\\varphi_{TZ2}$ - relative humidity zone 2, -\n",
    "\n",
    "and\n",
    "- $\\dot{m}_{O}$ - mass flow rate outdoor air, kg/s\n",
    "\n",
    "are the same as in summer.\n",
    "\n",
    "The outdoor conditons are different.\n",
    "- $\\theta_{O}$ -  dry-bulb temperature outdoor air, °C\n",
    "- $\\varphi_{O}$ - relative humidity outdoor air, -\n",
    "- $\\dot{m}_{O}$ - mass flow rate outdoor air, kg/s"
   ]
  },
  {
   "cell_type": "code",
   "execution_count": null,
   "id": "1da7e15e-e9b2-400d-99f9-9a55c8697c46",
   "metadata": {},
   "outputs": [],
   "source": [
    "# Outdoor air\n",
    "θO = 0                      # °C, dry-bulb temperature\n",
    "ϕO = 1.00                   # -, relative humidity\n",
    "\n",
    "wO = psy.w(θO, ϕO)          # kg_v/kg_da, humidity ratio outdoor air"
   ]
  },
  {
   "cell_type": "markdown",
   "id": "909f3463-1267-4f69-b70c-78fe4cf4af3a",
   "metadata": {},
   "source": [
    "## Loads of thermal zones\n",
    "\n",
    "The sensible load of a zone is:\n",
    "\n",
    "$$\\dot Q_s = (UA + \\dot m_i c)(\\theta_O - \\theta_I)  + \\dot{Q}_{s,a}$$\n",
    "\n",
    "and the latent load is: \n",
    "\n",
    "$$\\dot Q_l = \\dot m_i l (w_O - w_I) + \\dot{Q}_{l,a}$$"
   ]
  },
  {
   "cell_type": "code",
   "execution_count": null,
   "id": "b04b5f8f-d1ac-4643-af67-fae6dfd753df",
   "metadata": {},
   "outputs": [],
   "source": [
    "QsTZ1 = (U * A1 + mi1 * ca) * (θO - θTZ1) + Qsa1\n",
    "QsTZ2 = (U * A2 + mi2 * ca) * (θO - θTZ2) + Qsa2\n",
    "\n",
    "QlTZ1 = mi1 * lv * (wO - wTZ1) + Qla1\n",
    "QlTZ2 = mi2 * lv * (wO - wTZ2) + Qla2\n",
    "\n",
    "print(f\"Summer loads TZ1: sensible {QsTZ1:.0f} W; \\t latent {QlTZ1:.0f} W\")\n",
    "print(f\"Summer loads TZ2: sensible {QsTZ2:.0f} W; \\t latent {QlTZ2:.0f} W\")"
   ]
  },
  {
   "cell_type": "markdown",
   "id": "4d4a02db-8682-4a6f-a8e9-9b7e52a1c9c2",
   "metadata": {},
   "source": [
    "Round up the loads to the nearest multiple of 250:"
   ]
  },
  {
   "cell_type": "code",
   "execution_count": null,
   "id": "f05c1645-10e6-44f3-a5c7-2f57a052d958",
   "metadata": {},
   "outputs": [],
   "source": [
    "QsTZ1 = float(np.floor(QsTZ1 / 250) * 250)\n",
    "QsTZ2 = float(np.floor(QsTZ2 / 250) * 250)\n",
    "QlTZ1 = float(np.floor(QlTZ1 / 250) * 250)\n",
    "QlTZ2 = float(np.floor(QlTZ2 / 250) * 250)\n",
    "\n",
    "print(f\"Summer loads TZ1: sensible {QsTZ1:.0f} W; \\t latent {QlTZ1:.0f} W\")\n",
    "print(f\"Summer loads TZ2: sensible {QsTZ2:.0f} W; \\t latent {QlTZ2:.0f} W\")"
   ]
  },
  {
   "cell_type": "markdown",
   "id": "83c3d9fa-5e0b-492e-9912-63dded9a16b9",
   "metadata": {},
   "source": [
    "## Supply air conditions for thermal zones\n",
    "\n",
    "From the equations of **TZ1**:\n",
    "$$\n",
    "\\left\\{\\begin{matrix}\n",
    " \\dot{m}_1 c \\theta_{S1} + \\dot{Q}_{sS1} = \\dot{m}_1 c \\theta_{I1}\n",
    " \\\\ \n",
    " \\dot{m}_1 l w_{S1} + \\dot{Q}_{lS1} = \\dot{m}_1 l w_{I1}\n",
    "\\end{matrix}\\right.\n",
    "$$\n",
    "\n",
    "and of of **TZ2**:\n",
    "\n",
    "$$\n",
    "\\left\\{\\begin{matrix}\n",
    " \\dot{m}_2 c \\theta_{S2} + \\dot{Q}_{sS2} = \\dot{m}_2 c \\theta_{I2}\n",
    " \\\\ \n",
    " \\dot{m}_2 l w_{S2} + \\dot{Q}_{lS2} = \\dot{m}_2 l w_{I2}\n",
    "\\end{matrix}\\right.\n",
    "$$\n",
    "\n",
    "get the conditions of supply air for **TZ1**: $\\theta_{S1}$, $w_{S1}$, and for **TZ2**: $\\theta_{S2}$, and $w_{S2}$."
   ]
  },
  {
   "cell_type": "code",
   "execution_count": null,
   "id": "7f3396d9-fc3c-44ad-b75e-9ee112b44c10",
   "metadata": {},
   "outputs": [],
   "source": [
    "θS1 = θTZ1 - QsTZ1 / (m1 * ca)\n",
    "wS1 = wTZ1 - QlTZ1 / (m1 * lv)\n",
    "\n",
    "θS2 = θTZ2 - QsTZ2 / (m2 * ca)\n",
    "wS2 = wTZ2 - QlTZ2 / (m2 * lv)\n",
    "print(f\"S1: {θS1:.2f} °C; {wS1:.6f} kg_v/kg_da\")\n",
    "print(f\"S2: {θS2:.2f} °C; {wS2:.6f} kg_v/kg_da\")"
   ]
  },
  {
   "cell_type": "markdown",
   "id": "8277613d-d4e4-4294-8d34-280c03e2b98d",
   "metadata": {},
   "source": [
    "## Heating coils loads\n",
    "\n",
    "From the equations of **MR2**,\n",
    "\n",
    "$$\n",
    "\\left\\{\\begin{matrix}\n",
    " (\\dot{m} - \\dot{m}_E) c \\theta_{M1} + \\dot{m}_E c \\theta_{E} = \\dot{m} c \\theta_{M2}\n",
    " \\\\ \n",
    " (\\dot{m} - \\dot{m}_E) l w_{M1} + \\dot{m}_E l w_{E} = \\dot{m} l w_{M2}\n",
    "\\end{matrix}\\right.\n",
    "$$\n",
    "\n",
    "calculate $\\theta_{M2}$ and $w_{M2}$."
   ]
  },
  {
   "cell_type": "code",
   "execution_count": null,
   "id": "77df340f-6abb-4584-9cb3-54b39ed51781",
   "metadata": {},
   "outputs": [],
   "source": [
    "θM2 = ((m - mO) * θM1 + mO * θO) / m\n",
    "wM2 = ((m - mO) * wM1 + mO * wO) / m"
   ]
  },
  {
   "cell_type": "markdown",
   "id": "62eb0884-3685-4ac7-bba5-c0da880d9626",
   "metadata": {},
   "source": [
    "From the equations of heating coil **HC1**\n",
    "\n",
    "$$\n",
    "\\dot{m}_1 c \\theta_{M2} + \\dot{Q}_{s,HC1} = \\dot{m}_1 c \\theta_{S1}\n",
    "$$\n",
    "\n",
    "heating coil **HC2**\n",
    "\n",
    "$$\n",
    "\\dot{m}_2c \\theta_{M2} + \\dot{Q}_{s,HC2} = \\dot{m}_1 c \\theta_{S2}\n",
    "$$\n",
    "\n",
    "obtain the loads of the heating coils."
   ]
  },
  {
   "cell_type": "code",
   "execution_count": null,
   "id": "a4a9e0f9-3cad-4ba4-b173-16ec33978866",
   "metadata": {},
   "outputs": [],
   "source": [
    "QsHC1 = m1 * ca * (θS1 - θM2)\n",
    "QsHC2 = m2 * ca * (θS2 - θM2)\n",
    "\n",
    "print(f\"HC1 load: {QsHC1:.0f} W\")\n",
    "print(f\"HC2 load: {QsHC2:.0f} W\")"
   ]
  },
  {
   "cell_type": "markdown",
   "id": "2cf00207-aca0-4c2a-befb-b4b06d866fa3",
   "metadata": {},
   "source": [
    "## Vapor humidifiers loads and water mass flow rates\n",
    "\n",
    "From the equations of the vapor humidifier **VH1**\n",
    "\n",
    "$$\n",
    "\\dot{m}_1 l w_{M2} + \\dot{Q}_{l,VH1} = \\dot{m}_1 l w_{S1}\n",
    "$$\n",
    "\n",
    "and of the vapor humidifier **VH2**\n",
    "\n",
    "$$\n",
    "\\dot{m}_2 l w_{M2} + \\dot{Q}_{l,VH2} = \\dot{m}_1 l w_{S2}\n",
    "$$\n",
    "\n",
    "obtain the loads of the vapor humidifiers and the mass flow rate of water vapor:\n",
    "\n",
    "$$\n",
    "\\dot{m}_{v1} = \\dot{Q}_{l,VH1} / l\n",
    "$$\n",
    "\n",
    "$$\n",
    "\\dot{m}_{v2} = \\dot{Q}_{l,VH2} / l\n",
    "$$\n"
   ]
  },
  {
   "cell_type": "code",
   "execution_count": null,
   "id": "f8a7c6c7-4c29-4069-a595-1eb3d238083a",
   "metadata": {},
   "outputs": [],
   "source": [
    "QlVH1 = m1 * lv * (wS1 - wM2)\n",
    "QlVH2 = m2 * lv * (wS2 - wM2)\n",
    "\n",
    "mv1 = QlVH1 / lv\n",
    "mv2 = QlVH2 / lv\n",
    "\n",
    "print(f\"VH1 load: {QlVH1:.0f} W\")\n",
    "print(f\"VH2 load: {QlVH2:.0f} W\")\n",
    "print(f\"VH1 mass flow rate: {mv1:.5f} kg/s\")\n",
    "print(f\"VH2 mass flow rate: {mv2:.5f} kg/s\")"
   ]
  },
  {
   "cell_type": "markdown",
   "id": "e31025e0-d6bb-4b39-bd44-94b69614a436",
   "metadata": {},
   "source": [
    "## Processes on psychrometric chart\n",
    "\n",
    "![2zones](./Figures/2zones_heat_number.svg)\n",
    "> Figure 4. Heating and humidification model of air conditioning system for two thermal zones with the points numbered."
   ]
  },
  {
   "cell_type": "code",
   "execution_count": null,
   "id": "d8fa9a3a-ecec-411f-b245-a5532e428874",
   "metadata": {},
   "outputs": [],
   "source": [
    "# Psychrometric chart TZ1, TZ2, MR1, MR2, HC1, VH1, HC2, VH2\n",
    "t_range = np.arange(0, 40, 1)\n",
    "# Points        0  1  2  3  4  5  6  7  8       Process\n",
    "A = np.array([[0, 0, 0, -1, 1, 0, 0, 0, 0],     # TZ1\n",
    "              [0, 0, 0, 0, 0, 0, -1, 1, 0],     # TZ2\n",
    "              [0, 0, 0, 0, -1, 0, 0, -1, 1],    # MR1: TZ1 & TZ2\n",
    "              [-1, 1, 0, 0, 0, 0, 0, 0, -1],    # MR2: E & M1\n",
    "              [0, -1, 1, 0, 0, 0, 0, 0, 0],     # HC1\n",
    "              [0, 0, -1, 1, 0, 0, 0, 0, 0],     # VH1\n",
    "              [0, -1, 0, 0, 0, 1, 0, 0, 0],     # HC2\n",
    "              [0, 0, 0, 0, 0, -1, 1, 0, 0],     # VH2\n",
    "              ])\n",
    "θ = np.array([θO, θM2, θS1, θS1, θTZ1, θS2, θS2, θTZ2, θM1])\n",
    "w = np.array([wO, wM2, wM2, wS1, wTZ1, wM2, wS2, wTZ2, wM1])\n",
    "psy.chartA(θ, w, A, t_range)"
   ]
  },
  {
   "cell_type": "code",
   "execution_count": null,
   "id": "09bdd7a1-2780-4cae-a8d1-b151124da8c7",
   "metadata": {},
   "outputs": [],
   "source": []
  }
 ],
 "metadata": {
  "kernelspec": {
   "display_name": "Python 3 (ipykernel)",
   "language": "python",
   "name": "python3"
  },
  "language_info": {
   "codemirror_mode": {
    "name": "ipython",
    "version": 3
   },
   "file_extension": ".py",
   "mimetype": "text/x-python",
   "name": "python",
   "nbconvert_exporter": "python",
   "pygments_lexer": "ipython3",
   "version": "3.11.7"
  }
 },
 "nbformat": 4,
 "nbformat_minor": 5
}
