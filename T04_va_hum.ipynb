{
 "cells": [
  {
   "cell_type": "markdown",
   "metadata": {
    "tags": []
   },
   "source": [
    "# Heating and vapor humidification\n",
    "\n",
    "This tutorial deals with heating and vapor humidification of Constant Air Volume (CAV) and Variable Air Volume (VAV) HVAC systems. Video explanations for:\n",
    " - [Air Handling Units (AHU)](https://www.youtube.com/watch?v=KCiv8IAUkh8&t=561s);\n",
    " - [Constant Air Volume (CAV) Systems](https://www.youtube.com/watch?v=zf9fKW2Kwwc&t=14s);\n",
    " - [Variable Air Volume (VAV) Systems](https://www.youtube.com/watch?v=vw-bAbjPTd8);\n",
    " - [Humidifier Types and Humidity Basics](https://www.youtube.com/watch?v=XJdYxvRKc1U).\n",
    "\n",
    "----------\n",
    "**Contents**\n",
    "\n",
    "**1. All outdoor air**\n",
    "\n",
    "- [CAV Systems](https://www.youtube.com/watch?v=zf9fKW2Kwwc&t=14s) (video explanation)\n",
    "    - Modify operation\n",
    "    - Modify building characteristics\n",
    "- [VAV Systems](https://www.youtube.com/watch?v=vw-bAbjPTd8) (video explanation)\n",
    "    - Modify operation\n",
    "    - Modify building characteristics\n",
    "\n",
    "**2. Recirculated air**\n",
    "\n",
    "- [CAV Systems](https://www.youtube.com/watch?v=zf9fKW2Kwwc&t=14s) (video explanation)\n",
    "    - Modify operation\n",
    "    - Modify building characteristics\n",
    "- [VAV Systems](https://www.youtube.com/watch?v=vw-bAbjPTd8) (video explanation)\n",
    "    - Modify operation\n",
    "    - Modify building characteristics\n",
    "-------------- \n",
    "\n",
    "In **Modify the operation**, the widgets are for:\n",
    "\n",
    "- $\\theta_S^{sp}$ supply air set-point, °C\n",
    "\n",
    "- $\\theta_I^{sp}$ indoor air set-point, °C\n",
    "\n",
    "- $\\varphi_I^{sp}$ indoor air relative humidity set-point, -\n",
    "\n",
    "- $\\theta_O$ outdoor air temperature, °C\n",
    "\n",
    "- $\\varphi_O$ outdoor air relative humidity, -\n",
    "\n",
    "In **Modify the characteritics of the building**, the widgets are for:\n",
    "- $\\dot{Q}_{sa}$ auxiliary sensible heat, W\n",
    "\n",
    "- $\\dot{Q}_{la}$ auxiliary latent heat, W\n",
    "\n",
    "- $\\dot{m}_i$ air infiltration mass flow rate, kg/s\n",
    "\n",
    "- $UA$ global conductivity of the building, W/K"
   ]
  },
  {
   "cell_type": "code",
   "execution_count": 1,
   "metadata": {},
   "outputs": [],
   "source": [
    "from ipywidgets import interact, interactive, fixed, interact_manual\n",
    "import ipywidgets as widgets\n",
    "import matplotlib.pyplot as plt\n",
    "\n",
    "# %matplotlib inline  # uncomment for inline figure\n",
    "# uncomment for figure in separate window\n",
    "# %matplotlib qt\n",
    "# plt.show()\n",
    "\n",
    "plt.rcParams[\"figure.figsize\"] = (10, 7.7)\n",
    "font = {'size': 16}\n",
    "plt.rc('font', **font)"
   ]
  },
  {
   "cell_type": "markdown",
   "metadata": {
    "tags": []
   },
   "source": [
    "## All outdoor air"
   ]
  },
  {
   "cell_type": "markdown",
   "metadata": {},
   "source": [
    "### Constant air volume (CAV)\n",
    "\n",
    "<img src=\"./Figures/winter_VaHum_AllO_CAV.png\" alt=\"winter_AllO_VaHum_CAV\" style=\"width: 600px;\"/>\n",
    "\n",
    "> Figure 1. CAV system for a single termal zone with AHU for heating and vapor humidification."
   ]
  },
  {
   "cell_type": "markdown",
   "metadata": {},
   "source": [
    "#### Modify the operation"
   ]
  },
  {
   "cell_type": "code",
   "execution_count": 2,
   "metadata": {},
   "outputs": [],
   "source": [
    "def AllOutAirCAV_wd(θSsp=30, θIsp=18, φIsp=0.5, θO=-1, φO=1):\n",
    "    Qsa = 2163.5\n",
    "    Qsa = 0\n",
    "    Qla = 145.2\n",
    "    Qla = 0\n",
    "    mi = 0.0057\n",
    "    UA = 85.9\n",
    "    from va_hum import AllOutAirCAV\n",
    "    AllOutAirCAV(θSsp, θIsp, φIsp, θO, φO, Qsa, Qla, mi, UA)"
   ]
  },
  {
   "cell_type": "code",
   "execution_count": 3,
   "metadata": {},
   "outputs": [
    {
     "data": {
      "application/vnd.jupyter.widget-view+json": {
       "model_id": "9194a69e3b614380b3b36840b90baf95",
       "version_major": 2,
       "version_minor": 0
      },
      "text/plain": [
       "interactive(children=(IntSlider(value=30, description='θSsp', max=50, min=20, step=2), IntSlider(value=18, des…"
      ]
     },
     "metadata": {},
     "output_type": "display_data"
    }
   ],
   "source": [
    "interact(AllOutAirCAV_wd, θSsp=(20, 50, 2),\n",
    "         θIsp=(17, 25, 1), φIsp=(0, 1, 0.1),\n",
    "         θO=(-10., 17., 2), φO=(0, 1, 0.1));"
   ]
  },
  {
   "cell_type": "markdown",
   "metadata": {},
   "source": [
    "#### Modify the characteristics of the building"
   ]
  },
  {
   "cell_type": "code",
   "execution_count": 4,
   "metadata": {},
   "outputs": [],
   "source": [
    "Qsa = 2163.5\n",
    "Qla = 145.2\n",
    "mi = 0.0057\n",
    "UA = 85.9\n",
    "def AllOutAirCAV_wd(Qsa, Qla, mi, UA):\n",
    "    θSsp = 30\n",
    "    θIsp = 18\n",
    "    φIsp = 0.5\n",
    "    θO = -1\n",
    "    φO = 1\n",
    "    from va_hum import AllOutAirCAV\n",
    "    AllOutAirCAV(θSsp, θIsp, φIsp, θO, φO, \n",
    "                 Qsa, Qla, mi, UA)"
   ]
  },
  {
   "cell_type": "code",
   "execution_count": 5,
   "metadata": {},
   "outputs": [
    {
     "data": {
      "application/vnd.jupyter.widget-view+json": {
       "model_id": "b6f11f6003a84a7a8c39708c7972f164",
       "version_major": 2,
       "version_minor": 0
      },
      "text/plain": [
       "interactive(children=(IntSlider(value=2500, description='Qsa', max=5000, step=10), IntSlider(value=750, descri…"
      ]
     },
     "metadata": {},
     "output_type": "display_data"
    }
   ],
   "source": [
    "interact(AllOutAirCAV_wd, Qsa=(0, 5000,10), Qla=(0, 1500, 10),\n",
    "         mi=(0, 0.1, 0.001), UA=(40, 160, 2));"
   ]
  },
  {
   "cell_type": "markdown",
   "metadata": {},
   "source": [
    "### Variable air volume (VAV)\n",
    "<img src=\"Figures/winter_VaHum_AllO_VAV.png\" alt=\"winter_AllO_VaHum_VAV\" style=\"width: 800px;\"/>\n",
    "\n",
    "> Figure 2. VAV system for a single termal zone with AHU for heating and vapor humidification."
   ]
  },
  {
   "cell_type": "markdown",
   "metadata": {},
   "source": [
    "#### Modify the operation"
   ]
  },
  {
   "cell_type": "code",
   "execution_count": 6,
   "metadata": {},
   "outputs": [],
   "source": [
    "def AllOutAirVAV_wd(θSsp=30, θIsp=18, φIsp=0.5, θO=-1, φO=1):\n",
    "    # Qsa=2163.5\n",
    "    Qsa = 200\n",
    "    Qla = 145.2\n",
    "    mi = 0.00569\n",
    "    UA = 85.9\n",
    "    from va_hum import AllOutAirVAV\n",
    "    AllOutAirVAV(θSsp, θIsp, φIsp, θO, φO, Qsa, Qla, mi, UA)"
   ]
  },
  {
   "cell_type": "code",
   "execution_count": 7,
   "metadata": {},
   "outputs": [
    {
     "data": {
      "application/vnd.jupyter.widget-view+json": {
       "model_id": "362a2338a9af443b9102f5d0cd471206",
       "version_major": 2,
       "version_minor": 0
      },
      "text/plain": [
       "interactive(children=(IntSlider(value=30, description='θSsp', max=50, min=20, step=2), IntSlider(value=18, des…"
      ]
     },
     "metadata": {},
     "output_type": "display_data"
    }
   ],
   "source": [
    "interact(AllOutAirVAV_wd, θSsp=(20, 50, 2),\n",
    "         θIsp=(17, 25, 1), φIsp=(0, 1, 0.1),\n",
    "         θO=(-10., 17., 1), φO=(0, 1, 0.1));"
   ]
  },
  {
   "cell_type": "markdown",
   "metadata": {},
   "source": [
    "#### Modify the characteristics of the building "
   ]
  },
  {
   "cell_type": "code",
   "execution_count": 8,
   "metadata": {},
   "outputs": [],
   "source": [
    "Qsa = 2163.5\n",
    "Qla = 145.2\n",
    "mi = 0.0057\n",
    "UA = 85.9\n",
    "def AllOutAirVAV_wd(Qsa, Qla, mi, UA):\n",
    "    θSsp = 30\n",
    "    θIsp = 18\n",
    "    φIsp = 0.5\n",
    "    θO = -1\n",
    "    φO = 1\n",
    "    from va_hum import AllOutAirVAV\n",
    "    AllOutAirVAV(θSsp, θIsp, φIsp, θO, φO, \n",
    "                 Qsa, Qla, mi, UA)"
   ]
  },
  {
   "cell_type": "code",
   "execution_count": 9,
   "metadata": {},
   "outputs": [
    {
     "data": {
      "application/vnd.jupyter.widget-view+json": {
       "model_id": "735f18599cba406d8884431b8cecb220",
       "version_major": 2,
       "version_minor": 0
      },
      "text/plain": [
       "interactive(children=(IntSlider(value=7500, description='Qsa', max=15000, step=50), IntSlider(value=7500, desc…"
      ]
     },
     "metadata": {},
     "output_type": "display_data"
    }
   ],
   "source": [
    "interact(AllOutAirVAV_wd, Qsa=(0, 15000, 50), Qla=(0, 15000, 50),\n",
    "         mi=(0, 5, 0.2), UA=(700, 1000, 10));"
   ]
  },
  {
   "cell_type": "markdown",
   "metadata": {},
   "source": [
    "## Recycled air"
   ]
  },
  {
   "cell_type": "markdown",
   "metadata": {},
   "source": [
    "### Constant air volume (CAV)\n",
    "\n",
    "- supply air mass flow rate: constant - determined for design conditions\n",
    "- supply temperature varies\n",
    "\n",
    "<img src=\"Figures/winter_VaHum_Rec_CAV.png\" alt=\"winter_AllO_VaHum_CAV\" style=\"width: 600px;\"/>\n",
    "\n",
    "> Figure 3. CAV system for a single termal zone with AHU for heating and vapor humidification with recycled air."
   ]
  },
  {
   "cell_type": "markdown",
   "metadata": {},
   "source": [
    "#### Modify the operation"
   ]
  },
  {
   "cell_type": "code",
   "execution_count": 10,
   "metadata": {},
   "outputs": [],
   "source": [
    "def RecAirCAV_wd(α=0.5, θS=30, θIsp=18, φIsp=0.5, θO=-1, φO=1):\n",
    "    Qsa = 0.\n",
    "    Qla = 0.\n",
    "    mi = 1\n",
    "    UA = 935.83\n",
    "    from va_hum import RecAirCAV\n",
    "    RecAirCAV(α, θS, θIsp, φIsp, θO, φO, Qsa, Qla, mi, UA)"
   ]
  },
  {
   "cell_type": "code",
   "execution_count": 11,
   "metadata": {},
   "outputs": [
    {
     "data": {
      "application/vnd.jupyter.widget-view+json": {
       "model_id": "59d6e3cf7483462daaa16811072a3932",
       "version_major": 2,
       "version_minor": 0
      },
      "text/plain": [
       "interactive(children=(FloatSlider(value=0.5, description='α', max=1.0), IntSlider(value=30, description='θS', …"
      ]
     },
     "metadata": {},
     "output_type": "display_data"
    }
   ],
   "source": [
    "interact(RecAirCAV_wd, α = (0, 1, 0.1), θS = (20, 50, 2),\n",
    "         θIsp = (17, 25, 1), φIsp = (0, 1, 0.1),\n",
    "         θO = (-10., 17., 2), φO = (0, 1, 0.1));"
   ]
  },
  {
   "cell_type": "markdown",
   "metadata": {},
   "source": [
    "#### Modify the characteristics of the building"
   ]
  },
  {
   "cell_type": "code",
   "execution_count": 12,
   "metadata": {},
   "outputs": [],
   "source": [
    "def RecAirCAV_wd(Qsa=0, Qla=0, mi=2.12, UA=935.83):\n",
    "    α = 0.5\n",
    "    θSsp = 30\n",
    "    θIsp = 18\n",
    "    φIsp = 0.5\n",
    "    θO = -1\n",
    "    φO = 1\n",
    "    from va_hum import RecAirCAV\n",
    "    RecAirCAV(α, θSsp, θIsp, φIsp, θO, φO, \n",
    "              Qsa, Qla, mi, UA);"
   ]
  },
  {
   "cell_type": "code",
   "execution_count": 13,
   "metadata": {},
   "outputs": [
    {
     "data": {
      "application/vnd.jupyter.widget-view+json": {
       "model_id": "856cd27721614f47b78294291d4683b3",
       "version_major": 2,
       "version_minor": 0
      },
      "text/plain": [
       "interactive(children=(IntSlider(value=0, description='Qsa', max=15000, step=50), IntSlider(value=0, descriptio…"
      ]
     },
     "metadata": {},
     "output_type": "display_data"
    }
   ],
   "source": [
    "interact(RecAirCAV_wd, Qsa=(0, 15000, 50), Qla=(0, 15000, 50),\n",
    "         mi=(0, 5, 0.2), UA=(700, 1000, 10));"
   ]
  },
  {
   "cell_type": "markdown",
   "metadata": {},
   "source": [
    "### Variable air volume (VAV)\n",
    "\n",
    "<img src=\"Figures/winter_VaHum_Rec_VAV.png\" alt=\"winter_Rec_VaHum_VAV\" style=\"width: 600px;\"/>\n",
    "\n",
    "> Figure 4. VAV system for a single termal zone with AHU for heating and vapor humidification with recycled air."
   ]
  },
  {
   "cell_type": "markdown",
   "metadata": {},
   "source": [
    "#### Modify operation"
   ]
  },
  {
   "cell_type": "code",
   "execution_count": 14,
   "metadata": {},
   "outputs": [],
   "source": [
    "def RecAirVAV_wd(α=0.5, θS=30, θIsp=18, φIsp=0.5, θO=-1, φO=1):\n",
    "    Qsa = 0.\n",
    "    Qla = 0.\n",
    "    mi = 2.12\n",
    "    UA = 935.83\n",
    "    from va_hum import RecAirVAV\n",
    "    RecAirVAV(α, θS, θIsp, φIsp, θO, φO, Qsa, Qla, mi, UA)"
   ]
  },
  {
   "cell_type": "code",
   "execution_count": 15,
   "metadata": {},
   "outputs": [
    {
     "data": {
      "application/vnd.jupyter.widget-view+json": {
       "model_id": "b9a0681b817543fba07bfaa04bd2aa41",
       "version_major": 2,
       "version_minor": 0
      },
      "text/plain": [
       "interactive(children=(FloatSlider(value=0.5, description='α', max=1.5, min=-0.5), IntSlider(value=30, descript…"
      ]
     },
     "metadata": {},
     "output_type": "display_data"
    }
   ],
   "source": [
    "interact(RecAirVAV_wd, alpha = (0, 1, 0.1), tSsp = (20, 50, 2),\n",
    "         tIsp = (17, 25, 1), phiIsp = (0, 1, 0.1),\n",
    "         tO = (-10., 17., 2), phiO = (0, 1, 0.1));"
   ]
  },
  {
   "cell_type": "markdown",
   "metadata": {},
   "source": [
    "#### Modify the characteristics of the building"
   ]
  },
  {
   "cell_type": "code",
   "execution_count": 16,
   "metadata": {},
   "outputs": [],
   "source": [
    "def RecAirVAV_wd(Qsa=0, Qla=0, mi=2.12, UA=935.83):\n",
    "    α = 0.5\n",
    "    θSsp = 30\n",
    "    θIsp = 18\n",
    "    φIsp = 0.5\n",
    "    θO = -1\n",
    "    φO = 1\n",
    "    from va_hum import RecAirVAV\n",
    "    RecAirVAV(α, θSsp, θIsp, φIsp, θO, φO, \n",
    "                 Qsa, Qla, mi, UA)"
   ]
  },
  {
   "cell_type": "code",
   "execution_count": 17,
   "metadata": {},
   "outputs": [
    {
     "data": {
      "application/vnd.jupyter.widget-view+json": {
       "model_id": "f570c718624c4f24ba17867998f9d6b4",
       "version_major": 2,
       "version_minor": 0
      },
      "text/plain": [
       "interactive(children=(IntSlider(value=0, description='Qsa', max=15000, step=50), IntSlider(value=0, descriptio…"
      ]
     },
     "metadata": {},
     "output_type": "display_data"
    }
   ],
   "source": [
    "interact(RecAirVAV_wd, Qsa=(0, 15000, 50), Qla=(0, 15000, 50),\n",
    "         mi=(0, 5, 0.2), UA=(700, 1000, 10));"
   ]
  },
  {
   "cell_type": "markdown",
   "metadata": {},
   "source": [
    "## Bibliography\n",
    "\n",
    "*Coding*\n",
    "1. [Jupyter Widgets](https://ipywidgets.readthedocs.io/en/latest/)\n",
    "\n",
    "2. [Pandas: Getting started](https://pandas.pydata.org/getting_started.html)\n",
    "\n",
    "3. Chris Albon, [Data Science & Machine Learning](https://chrisalbon.com/#code_python), chrisalbon.com\n",
    "\n",
    "*HVAC basics*\n",
    "\n",
    "1. TRANE (2013) [Understanding Single-Zone VAV Systems](https://www.trane.com/content/dam/Trane/Commercial/global/products-systems/education-training/engineers-newsletters/airside-design/admapn047en_0413.pdf)\n",
    "\n",
    "2. TRANE (2005) [CO2-Based Demand-Controlled Ventilation](https://www.trane.com/content/dam/Trane/Commercial/global/products-systems/education-training/engineers-newsletters/airside-design/admapn017en_1005.pdf)\n",
    "\n",
    "3. The Engineering Mindset (2018) [How Air Handling Units work](https://www.youtube.com/watch?v=KCiv8IAUkh8&t=561s), YouTube.com\n",
    "\n",
    "4. The Engineering Mindset (2020) [Constant Air Volume](https://www.youtube.com/watch?v=zf9fKW2Kwwc&t=14s), YouTube.com\n",
    "\n",
    "5. The Engineering Mindset (2020) [VAV Variable Air Volume](https://www.youtube.com/watch?v=vw-bAbjPTd8), YouTube.com\n",
    "\n",
    "6. MEP Academy (2022) [Humidifier Types and Humidity Basics](https://www.youtube.com/watch?v=XJdYxvRKc1U), YouTube.com\n",
    "\n",
    "*Catalogs*\n",
    "1. TRANE [Performance Climate Changer™ Air HandlersSizes 3-120](https://www.academia.edu/37795196/Performance_Climate_Changer_Air_Handlers_Sizes_3-120_Indoor_and_Outdoor_Units_Application_and_Performance_Information_Catalog)\n",
    "\n",
    "1. TRANE [Residential Steam Humidifier Owner’s Manual](https://www.trane.com/pdf/Steam-Humidifier-Manual.pdf)\n"
   ]
  },
  {
   "cell_type": "code",
   "execution_count": null,
   "metadata": {},
   "outputs": [],
   "source": []
  }
 ],
 "metadata": {
  "kernelspec": {
   "display_name": "Python 3 (ipykernel)",
   "language": "python",
   "name": "python3"
  },
  "language_info": {
   "codemirror_mode": {
    "name": "ipython",
    "version": 3
   },
   "file_extension": ".py",
   "mimetype": "text/x-python",
   "name": "python",
   "nbconvert_exporter": "python",
   "pygments_lexer": "ipython3",
   "version": "3.9.7"
  },
  "toc-autonumbering": true,
  "toc-showcode": false,
  "toc-showmarkdowntxt": false,
  "toc-showtags": false
 },
 "nbformat": 4,
 "nbformat_minor": 4
}
