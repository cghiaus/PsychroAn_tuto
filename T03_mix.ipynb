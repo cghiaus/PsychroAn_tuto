{
 "cells": [
  {
   "cell_type": "markdown",
   "metadata": {},
   "source": [
    "# Adiabatic mixing and isentalpic condensation\n",
    "\n",
    "Return and fresh air mixing is widely used in [Air Handing Units](https://youtu.be/KCiv8IAUkh8?t=570). Let's consider a mixing box in which two air streams:\n",
    "- $\\dot m_0$ with characteritics $(\\theta_0, \\phi_0)$;\n",
    "- $\\dot m_1$ with characteritics $(\\theta_1, \\phi_1)$;\n",
    "\n",
    "are mixed to obtain:\n",
    "- $\\dot m$ with characteritics $(\\theta, \\phi_0)$.\n",
    "\n",
    "**Aim:** Experiment mixing air with the widgets.\n",
    "\n",
    "Note:\n",
    "\n",
    "1. Mass flow rate of dry air $\\dot m$ has no influence on the position of the points; it changes the mass flow rate of condensed water vapor from air.\n",
    "2. Two models are used:\n",
    "    - for undersaturation: adiabatic mixing;\n",
    "    - for oversaturation: adiabatic mixing and isentalpic condensation.\n",
    "\n",
    ">Table. Widgets to modify the mixing process.\n",
    "\n",
    "|Widget| Symbol       | SI Unit| Meaning                         |\n",
    "|------|--------------|--------|---------------------------------|\n",
    "|`m`   |$\\dot{m}$     | kg/s   |Mass flow of dry air of mixed air|\n",
    "|`θ0`  |$\\theta_0$    | °C     |Air temperature of air stream 0  |\n",
    "|`ϕ0`  |$\\phi_0$      |        |Relative humidity of air stream 0|\n",
    "|`θ1`  |$\\theta_1$    | °C     |Air temperature of air stream 1  |\n",
    "|`ϕ1`  |$\\phi_1$      |        |Relative humidity of air stream 1|\n",
    "|`ɑ`   |$\\alpha$      |        |Mixing ratio $\\alpha = \\dot m_0 / \\dot m$ |\n",
    "|      |              |        |$\\dot m_0 = \\alpha \\dot m$; $\\dot m_1 = (1 - \\alpha) \\dot m$|"
   ]
  },
  {
   "cell_type": "code",
   "execution_count": 1,
   "metadata": {},
   "outputs": [
    {
     "data": {
      "application/vnd.jupyter.widget-view+json": {
       "model_id": "49cfb32b8efe4a3382a282e435c4ee34",
       "version_major": 2,
       "version_minor": 0
      },
      "text/plain": [
       "interactive(children=(FloatSlider(value=1.0, description='m', max=2.0, min=0.1), IntSlider(value=3, descriptio…"
      ]
     },
     "metadata": {},
     "output_type": "display_data"
    }
   ],
   "source": [
    "import ipywidgets as wd\n",
    "import matplotlib.pyplot as plt\n",
    "from mix import mixing\n",
    "\n",
    "plt.rcParams[\"figure.figsize\"] = (10, 7.7)\n",
    "font = {'size': 16}\n",
    "plt.rc('font', **font)\n",
    "\n",
    "wd.interact(mixing, m=(0.1, 2, 0.1), θ0=(-10, 15, 1), φ0=(0, 1, 0.1),\n",
    "         θ1=(10, 40, 1), φ1=(0, 1, 0.1), α=(0, 1, 0.1));"
   ]
  },
  {
   "cell_type": "markdown",
   "metadata": {},
   "source": [
    "> Figure 1. Adiabatic mixing."
   ]
  },
  {
   "cell_type": "markdown",
   "metadata": {},
   "source": [
    "# Bibliography\n",
    "\n",
    "Ghiaus, C. (2022) Computational psychrometric analysis as a control problem: case of cooling and dehumidification systems, *International Journal of Building Performance Simulation, 15*(1), pp. 21-38, DOI: [10.1080/19401493.2021.1995498](https://doi.org/10.1080/19401493.2021.1995498), (open access preprint [hal-03484064](https://hal.archives-ouvertes.fr/hal-03484064/document))\n",
    "\n",
    "TRANE (2012) [Psychrometry: One of the Fundamental Series](https://www.tranebelgium.com/files/book-doc/19/en/19.vwljh8zn.pdf)\n",
    "\n",
    "The Engineering Mindset (2018) [How Air Handling Units work](https://www.youtube.com/watch?v=KCiv8IAUkh8&t=561s), YouTube"
   ]
  },
  {
   "cell_type": "code",
   "execution_count": null,
   "metadata": {},
   "outputs": [],
   "source": []
  }
 ],
 "metadata": {
  "kernelspec": {
   "display_name": "Python 3 (ipykernel)",
   "language": "python",
   "name": "python3"
  },
  "language_info": {
   "codemirror_mode": {
    "name": "ipython",
    "version": 3
   },
   "file_extension": ".py",
   "mimetype": "text/x-python",
   "name": "python",
   "nbconvert_exporter": "python",
   "pygments_lexer": "ipython3",
   "version": "3.9.7"
  }
 },
 "nbformat": 4,
 "nbformat_minor": 4
}
